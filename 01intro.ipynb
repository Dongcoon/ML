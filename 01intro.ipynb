{
 "cells": [
  {
   "cell_type": "markdown",
   "id": "572ff50e-30d5-45ed-aeda-3d2662f47000",
   "metadata": {},
   "source": [
    "# 인공지능의 정의\n",
    "* 인간의 지능을 기계로 구현하는 모든 형태"
   ]
  },
  {
   "cell_type": "markdown",
   "id": "b7424084-8b75-4414-976c-0ea448360f3d",
   "metadata": {},
   "source": [
    "# 인공지능의 범위\n",
    "인공지능 > 머신러닝 > 딥러닝"
   ]
  },
  {
   "cell_type": "markdown",
   "id": "24e73328-835f-4576-9427-f3242bb26ba6",
   "metadata": {},
   "source": [
    "# 인공지능 구현방식\n",
    "* 초기에는 지식전달방식으로 구현\n",
    "  + 개발자가 기계에게 일반적인 규칙을 알려줌\n",
    "  + 심한 변화의 양상에는 잘 대처하지 못함\n",
    "  + 기호주의(rule-based)\n",
    "* 후기에는 데이터중심으로 구현\n",
    "  + 데이터를 중심으로 기계가 학습(규칙/패턴인식)한 뒤\n",
    "  + 새로운 데이터를 통해 예측/분류함\n",
    "  + 훈련을 위한 많은 양질의 데이터가 필요\n",
    "  + 연결주의(신경망이용)"
   ]
  },
  {
   "cell_type": "markdown",
   "id": "47c0f644-12e1-416d-8329-0ef11c6a9925",
   "metadata": {},
   "source": [
    "# 머신러닝\n",
    "* 컴퓨터가 경험을 통해 학습할수 있도록 프로그래밍하되   \n",
    "  세세하게 프로그래밍 해야하는 번거로움에서 벗어나게 하는 것"
   ]
  },
  {
   "cell_type": "markdown",
   "id": "3690d1f4-e1a3-49a1-9a54-ce4dae1c50ce",
   "metadata": {},
   "source": [
    "# 머신러닝 알고리즘\n",
    "* 지도학습 : 데이터와 레이블(정답)을 통해 훈련 수행\n",
    "   + 분류 : 범주형데이터, 이진분류, 다항분류\n",
    "     - ex) 개,고양이 사진 분류, 스팸분류\n",
    "     - KNN,의사결정나무,로지스틱회귀,나이브베이즈,\n",
    "       SVM,신경망,부스팅\n",
    "   + 회귀 : 연속형데이터, 예측\n",
    "     - ex) 주식시세 예측\n",
    "     - 선형회귀,의사결정나무,부스팅,신경망"
   ]
  },
  {
   "cell_type": "markdown",
   "id": "636f2cf1-44a1-4a31-aefc-e857a28da7a0",
   "metadata": {},
   "source": [
    "* 비지도학습 : 데이터만을 통해 학습\n",
    "   + 군집화 : 유사한 성격의 데이터끼리 모음\n",
    "     - ex) 추천시스템, 고객별 타겟마케팅\n",
    "     - kmeans\n",
    "   + 차원축소 : 독립변수feature의 갯수를 줄임\n",
    "     - ex) 변수제거, 시각화\n",
    "     - PCA"
   ]
  },
  {
   "cell_type": "markdown",
   "id": "cf1c79a7-307a-429f-9180-164a75068851",
   "metadata": {},
   "source": [
    "# 머신러닝 처리 과정\n",
    "* 지도학습\n",
    "  + 훈련데이터와 레이블 준비\n",
    "  + 훈련데이터에서 특성 추출후 레이블과 학습 진행\n",
    "  + 평가데이터를 이용해서 학습의 결과로 만들어진 모델 평가\n",
    "  + 새로운 데이터로 모델을 통해 예측    "
   ]
  },
  {
   "cell_type": "markdown",
   "id": "37e572f7-f453-4316-b0bc-7cd45885e3b1",
   "metadata": {},
   "source": [
    "* 비지도학습\n",
    "  + 훈련데이터 준비\n",
    "  + 훈련데이터에서 특성 추출 후 학습 진행\n",
    "  + 평가데이터를 이용해서 학습의 결과로 만들어진 모델 평가\n",
    "  + 새로운 데이터로 모델을 통해 예측"
   ]
  },
  {
   "cell_type": "code",
   "execution_count": null,
   "id": "0a3b673e-3082-4865-af30-13b6a6c09da2",
   "metadata": {},
   "outputs": [],
   "source": []
  },
  {
   "cell_type": "code",
   "execution_count": null,
   "id": "d1c990ee-15b2-4d8f-a46d-7d5d28901a7e",
   "metadata": {},
   "outputs": [],
   "source": []
  },
  {
   "cell_type": "code",
   "execution_count": null,
   "id": "1cf9b6d1-bc0a-4499-b6f3-6bcfc9194886",
   "metadata": {},
   "outputs": [],
   "source": []
  },
  {
   "cell_type": "code",
   "execution_count": null,
   "id": "12b7a453-311c-4a51-8c55-e89d3fb3fb23",
   "metadata": {},
   "outputs": [],
   "source": []
  }
 ],
 "metadata": {
  "kernelspec": {
   "display_name": "Python 3 (ipykernel)",
   "language": "python",
   "name": "python3"
  },
  "language_info": {
   "codemirror_mode": {
    "name": "ipython",
    "version": 3
   },
   "file_extension": ".py",
   "mimetype": "text/x-python",
   "name": "python",
   "nbconvert_exporter": "python",
   "pygments_lexer": "ipython3",
   "version": "3.9.13"
  }
 },
 "nbformat": 4,
 "nbformat_minor": 5
}
