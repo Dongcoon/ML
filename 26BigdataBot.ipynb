{
 "cells": [
  {
   "cell_type": "code",
   "execution_count": 4,
   "id": "11e5d4b3-5fa3-400d-a9a2-a8549978c4a9",
   "metadata": {},
   "outputs": [],
   "source": [
    "import telegram\n",
    "import xml.etree.ElementTree as et\n",
    "import json\n",
    "import requests as req"
   ]
  },
  {
   "cell_type": "code",
   "execution_count": 5,
   "id": "0b6446fe-262a-4df1-a6ee-381a0fe85e32",
   "metadata": {},
   "outputs": [],
   "source": [
    "from telegram import Update\n",
    "from telegram.ext import Updater, CallbackContext\n",
    "from telegram.ext import MessageHandler\n",
    "from telegram.ext import CommandHandler\n",
    "from telegram.ext import Filters"
   ]
  },
  {
   "cell_type": "code",
   "execution_count": 6,
   "id": "ce51826f-1810-4007-b634-facbe8ad60ce",
   "metadata": {},
   "outputs": [],
   "source": [
    "mykey = '5925683914:AAHodNMQ2UQgahXBusavtKQbyIjaQXy_Rsc'\n",
    "chat_id = 5797700110"
   ]
  },
  {
   "cell_type": "markdown",
   "id": "6d20f3cb-df4a-4f6b-85e2-4996ccf5b7a0",
   "metadata": {},
   "source": [
    "## 코로나 확진자 정보 출력\n",
    "* /reload 명령 입력시 관련정보를 서버에서 받아서 파일로 저장해 둠\n",
    "* 이렇게 함으로써 사용자에게 나름 최신정보를 제공"
   ]
  },
  {
   "cell_type": "markdown",
   "id": "39a7a34d-d810-40b9-bf73-56ebda9e1956",
   "metadata": {},
   "source": [
    "### 서버에서 미세정보 파일 내려받기"
   ]
  },
  {
   "cell_type": "code",
   "execution_count": 4,
   "id": "22077bbf-a732-45b8-9b67-a81a68e6134a",
   "metadata": {
    "tags": []
   },
   "outputs": [],
   "source": [
    "# 서버에서 코로나 정보 내려받기\n",
    "url = 'http://apis.data.go.kr/1352000/ODMS_COVID_04/callCovid04Api'\n",
    "params = {'serviceKey':'GjgjTYLP10LmklhSDVDE6qQ8KZPc43DI+J0iaotwuQpc5cFzNY19Uo269sO/5MQJ+GT6AmPGbn3prlagN3nf7A==',\n",
    "         'numOfRows':1000,\n",
    "         'std_day':'2022-11-24'}\n",
    "res = req.get(url, params=params)"
   ]
  },
  {
   "cell_type": "code",
   "execution_count": 5,
   "id": "954b87a4-a100-486a-b687-ace090647c11",
   "metadata": {
    "tags": []
   },
   "outputs": [],
   "source": [
    "with open('data/covid.xml','w', encoding='utf-8') as f:\n",
    "    f.writelines(res.text)    "
   ]
  },
  {
   "cell_type": "markdown",
   "id": "bc8cceed-84a5-4b10-8ce8-824247ccaaa9",
   "metadata": {},
   "source": [
    "### 지역정보 입력시 코로나 정보 출력"
   ]
  },
  {
   "cell_type": "code",
   "execution_count": 6,
   "id": "0b92ace4-7c0e-4ed5-bd29-72b20fd1dd19",
   "metadata": {
    "tags": []
   },
   "outputs": [],
   "source": [
    "# xml로 저장된 파일의 내용 읽어오기\n",
    "tree = et.parse('data/covid.xml')\n",
    "root = tree.getroot()"
   ]
  },
  {
   "cell_type": "code",
   "execution_count": 7,
   "id": "7d5c2036-f493-48e3-b60a-aee9b5621a93",
   "metadata": {},
   "outputs": [
    {
     "name": "stdout",
     "output_type": "stream",
     "text": [
      "서울 11456 5235561 2022-11-24\n"
     ]
    }
   ],
   "source": [
    "sido = '서울'\n",
    "\n",
    "for data in root.findall('body/items/item'):\n",
    "    sidoName = data.find('gubun').text\n",
    "    \n",
    "    if sidoName == sido:\n",
    "        inc_dec = data.find('incDec').text\n",
    "        def_cnt = data.find('defCnt').text\n",
    "        date = data.find('stdDay').text\n",
    "        break\n",
    "        \n",
    "print(sidoName, inc_dec, int(def_cnt)+int(inc_dec), date)\n"
   ]
  },
  {
   "cell_type": "markdown",
   "id": "182b1c47-175a-4b93-ba97-a55e70bcd6af",
   "metadata": {
    "tags": []
   },
   "source": [
    "### 코로나 현황 챗봇 구현 (xml)"
   ]
  },
  {
   "cell_type": "code",
   "execution_count": 7,
   "id": "b8fb0113-8b6d-4f4d-b096-19ad10b44dd0",
   "metadata": {},
   "outputs": [
    {
     "data": {
      "text/plain": [
       "'2022-11-24'"
      ]
     },
     "execution_count": 7,
     "metadata": {},
     "output_type": "execute_result"
    }
   ],
   "source": [
    "import datetime as dt\n",
    "\n",
    "str(dt.datetime.now())[:10]"
   ]
  },
  {
   "cell_type": "code",
   "execution_count": 8,
   "id": "89fc2cb8-0775-47ca-b58f-5278d9db78ab",
   "metadata": {},
   "outputs": [],
   "source": [
    "import datetime as dt\n",
    "# data.go.kr에서 대기정보 받아서 파일로 저장\n",
    "url = 'http://apis.data.go.kr/1352000/ODMS_COVID_04/callCovid04Api'\n",
    "params = {'serviceKey':'GjgjTYLP10LmklhSDVDE6qQ8KZPc43DI+J0iaotwuQpc5cFzNY19Uo269sO/5MQJ+GT6AmPGbn3prlagN3nf7A==',\n",
    "         'numOfRows':1000,\n",
    "         'std_day':str(dt.datetime.now())[:10]} \n",
    "def reload_covid():\n",
    "    res = req.get(url,params=params)\n",
    "    with open('data/covid.xml','w', encoding='utf-8') as f:\n",
    "        f.writelines(res.text)    "
   ]
  },
  {
   "cell_type": "code",
   "execution_count": 16,
   "id": "2dddeaf0-0cb2-42be-8bcc-f857d0768a16",
   "metadata": {},
   "outputs": [],
   "source": [
    "# 특정지역의 대기정보와 이모지 받아오기\n",
    "def fetch_covid(sido):\n",
    "    tree = et.parse('data/covid.xml')\n",
    "    root = tree.getroot()\n",
    "        \n",
    "    covidinfo = '입력하신 지역에는 코로나정보가 없어요!😂😂'\n",
    "    for data in root.findall('body/items/item'):\n",
    "        sidoName = data.find('gubun').text\n",
    "    \n",
    "        if sidoName == sido:\n",
    "            inc_dec = int(data.find('incDec').text)\n",
    "            def_cnt = int(data.find('defCnt').text)\n",
    "            date = data.find('stdDay').text\n",
    "            covidinfo = f'🤕코로나확진 정보🤕\\n[{sidoName} {date} ]\\n증가수: {inc_dec:,d}명\\n금일 확진자수: {int(def_cnt+inc_dec):,d}명'\n",
    "            break\n",
    "    return covidinfo"
   ]
  },
  {
   "cell_type": "code",
   "execution_count": 24,
   "id": "24cc55ed-8aa0-4739-b61b-35706215419a",
   "metadata": {},
   "outputs": [
    {
     "name": "stdout",
     "output_type": "stream",
     "text": [
      "🤕코로나확진 정보🤕\n",
      "[서울 2022-11-24 ]\n",
      "증가수: 11,456명\n",
      "금일 확진자수: 5,235,561명\n"
     ]
    }
   ],
   "source": [
    "print(fetch_covid('서울'))"
   ]
  },
  {
   "cell_type": "markdown",
   "id": "25f8c810-4013-4d2d-a9da-55c83b82a546",
   "metadata": {},
   "source": [
    "### 메세지 함수 정의"
   ]
  },
  {
   "cell_type": "code",
   "execution_count": 20,
   "id": "b2c52ad7-0ff7-4b2c-9c51-0f53503e065d",
   "metadata": {},
   "outputs": [],
   "source": [
    "mykey = '5925683914:AAHodNMQ2UQgahXBusavtKQbyIjaQXy_Rsc'\n",
    "chat_id = 5797700110"
   ]
  },
  {
   "cell_type": "code",
   "execution_count": 18,
   "id": "0f9d1765-8369-42eb-8e59-ef69d08f8ea9",
   "metadata": {},
   "outputs": [],
   "source": [
    "def covid_message(update,context):\n",
    "    info = update.message.text\n",
    "    covidinfo = fetch_covid(info)\n",
    "    context.bot.send_message(text=f'{covidinfo}',\n",
    "                   chat_id=update.message.chat_id)"
   ]
  },
  {
   "cell_type": "code",
   "execution_count": 19,
   "id": "ddd339ae-c033-46db-9c6f-3433459c1907",
   "metadata": {},
   "outputs": [],
   "source": [
    "def reload_message(update,context):\n",
    "    reload_covid()\n",
    "    context.bot.send_message(text=f'🎉코로나정보 갱신됨!!🎉',\n",
    "                   chat_id=update.message.chat_id)\n"
   ]
  },
  {
   "cell_type": "markdown",
   "id": "a1b725ce-bba4-421b-b4f3-51a77948d704",
   "metadata": {},
   "source": [
    "### 핸들러 등록"
   ]
  },
  {
   "cell_type": "code",
   "execution_count": 21,
   "id": "f4442056-06d9-4555-94cb-4c0312a60a7c",
   "metadata": {},
   "outputs": [],
   "source": [
    "updater = Updater(mykey)\n",
    "reload_handler = CommandHandler('reload',reload_message)\n",
    "covid_handler = MessageHandler(Filters.text,covid_message)\n",
    "\n",
    "updater.dispatcher.add_handler(reload_handler)\n",
    "updater.dispatcher.add_handler(covid_handler)"
   ]
  },
  {
   "cell_type": "markdown",
   "id": "f716b1ef-180f-4028-a25c-cb193322524c",
   "metadata": {},
   "source": [
    "### 챗봇 서버 가동"
   ]
  },
  {
   "cell_type": "code",
   "execution_count": 22,
   "id": "f70ba4c4-dfa6-4033-ab33-fc3f60e2fda1",
   "metadata": {},
   "outputs": [
    {
     "name": "stdout",
     "output_type": "stream",
     "text": [
      "챗봇 서버 가동중...\n"
     ]
    }
   ],
   "source": [
    "print('챗봇 서버 가동중...')\n",
    "updater.start_polling()\n",
    "updater.idle()"
   ]
  },
  {
   "cell_type": "code",
   "execution_count": null,
   "id": "548745cf-9473-4245-a230-e44957d815af",
   "metadata": {},
   "outputs": [],
   "source": []
  }
 ],
 "metadata": {
  "kernelspec": {
   "display_name": "Python 3 (ipykernel)",
   "language": "python",
   "name": "python3"
  },
  "language_info": {
   "codemirror_mode": {
    "name": "ipython",
    "version": 3
   },
   "file_extension": ".py",
   "mimetype": "text/x-python",
   "name": "python",
   "nbconvert_exporter": "python",
   "pygments_lexer": "ipython3",
   "version": "3.9.13"
  }
 },
 "nbformat": 4,
 "nbformat_minor": 5
}
