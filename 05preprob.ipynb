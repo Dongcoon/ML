{
 "cells": [
  {
   "cell_type": "code",
   "execution_count": 1,
   "id": "23484f82-9090-49db-a221-f3033f815587",
   "metadata": {},
   "outputs": [],
   "source": [
    "import numpy as np\n",
    "import pandas as pd\n",
    "import matplotlib.pyplot as plt\n",
    "import sklearn"
   ]
  },
  {
   "cell_type": "markdown",
   "id": "8cca5aa5-8092-4065-85cd-a5e7a6e1f93f",
   "metadata": {
    "tags": []
   },
   "source": [
    "## 데이터전처리\n",
    "* 머신러닝 알고리즘을 익히는 것 못치 않게\n",
    "  데이터 전처리 역시 중요한 과정 중에 하나\n",
    "* 무엇보다 머신러닝 알고리즘을 적용하기 전에\n",
    "   데이터에 대해 미리 처리해야 하는 기본사항이 존재\n",
    "* `결측치 처리`\n",
    "  + NaN, Null은 허용되지 않음\n",
    "* `원핫인코딩` \n",
    "  + 머신러닝 알고리즘들은 문자열값을 데이터의 입력값으로 허용하지 않음\n",
    "  + 따라서, 모든 문자열값은 인코딩해서 숫자형으로 변환해둬야 함\n",
    "  + 한편, 텍스트 데이터들은 벡터화해서 처리\n",
    "  + 머신러닝을 위한 인코딩은 `레이블인코딩` 과 `원핫인코딩` 등이 있음"
   ]
  },
  {
   "cell_type": "code",
   "execution_count": 2,
   "id": "4c4a6ecd-771e-4801-ac23-8e2fe028309e",
   "metadata": {},
   "outputs": [],
   "source": [
    "from sklearn.preprocessing import LabelEncoder\n",
    "\n",
    "from sklearn.model_selection import train_test_split\n",
    "from sklearn.model_selection import cross_val_score\n",
    "\n",
    "from sklearn.tree import DecisionTreeClassifier\n",
    "from sklearn.ensemble import RandomForestClassifier\n",
    "from sklearn.linear_model import LogisticRegression\n",
    "from sklearn.neighbors import KNeighborsClassifier\n",
    "\n",
    "from sklearn.metrics import accuracy_score"
   ]
  },
  {
   "cell_type": "markdown",
   "id": "07a13f8c-6069-4b49-ae50-83c3dcb91f85",
   "metadata": {},
   "source": [
    "### 레이블 인코딩\n",
    "* 범주형값을 숫자형값으로 변환함"
   ]
  },
  {
   "cell_type": "code",
   "execution_count": 3,
   "id": "84e5e6d4-0017-4aa1-8635-007a2695a702",
   "metadata": {},
   "outputs": [],
   "source": [
    "from sklearn.preprocessing import LabelEncoder\n",
    "\n",
    "items = ['티비','냉장고','가스렌지','에어콘','컴퓨터']"
   ]
  },
  {
   "cell_type": "code",
   "execution_count": 4,
   "id": "0c164e87-5fbd-46af-8e2c-d9f82f3877dc",
   "metadata": {},
   "outputs": [],
   "source": [
    "encoder = LabelEncoder()\n",
    "encoder.fit(items)\n",
    "labels = encoder.transform(items)"
   ]
  },
  {
   "cell_type": "code",
   "execution_count": 5,
   "id": "6662e214-7424-4b2f-a4d8-69c91f4e6a78",
   "metadata": {},
   "outputs": [
    {
     "data": {
      "text/plain": [
       "array([4, 1, 0, 2, 3])"
      ]
     },
     "execution_count": 5,
     "metadata": {},
     "output_type": "execute_result"
    }
   ],
   "source": [
    "labels"
   ]
  },
  {
   "cell_type": "code",
   "execution_count": 6,
   "id": "1c1e4b96-5e0d-47a9-93dd-54b48c83add0",
   "metadata": {},
   "outputs": [
    {
     "data": {
      "text/plain": [
       "array(['가스렌지', '냉장고', '에어콘', '컴퓨터', '티비'], dtype='<U4')"
      ]
     },
     "execution_count": 6,
     "metadata": {},
     "output_type": "execute_result"
    }
   ],
   "source": [
    "# 인코딩된 순서\n",
    "encoder.classes_"
   ]
  },
  {
   "cell_type": "markdown",
   "id": "92244ffa-9848-4fa5-9808-889409861373",
   "metadata": {},
   "source": [
    "## LabelEncoder 시용시 문제점\n",
    "* 문자열값을 숫자형으로 변환시켰을때 발생할 수 있는 문제는 \n",
    "  각 값의 대소 관계를 통해 중요도 여부가 존재할 수 있음\n",
    "* 즉, 인코딩 된 값에 서수척도가 생길수 있음\n",
    "* 따라서, 대소관계가 있는 데이터를 분석할 경우 정확도에 영향을 미칠수있음\n",
    "  + => 원핫인코딩을 사용함으로써 문제해결\n",
    "  \n",
    "'티비','냉장고','가스렌지','에어콘','컴퓨터'   \n",
    "1\t0\t0\t0\t0   \n",
    "0\t1\t0\t0\t0   \n",
    "0\t0\t1\t0\t0   \n",
    "0\t0\t0\t1\t0   \n",
    "0\t0\t0\t0\t1  "
   ]
  },
  {
   "cell_type": "code",
   "execution_count": 7,
   "id": "29a7a1fb-e584-4146-88d7-4817b33b8c6b",
   "metadata": {
    "tags": []
   },
   "outputs": [
    {
     "data": {
      "text/plain": [
       "array([[4],\n",
       "       [1],\n",
       "       [0],\n",
       "       [2],\n",
       "       [3]])"
      ]
     },
     "execution_count": 7,
     "metadata": {},
     "output_type": "execute_result"
    }
   ],
   "source": [
    "from sklearn.preprocessing import OneHotEncoder\n",
    "\n",
    "# 먼저, LabelEncoder로 문자열을 숫자값으로 변환해두어야 함!\n",
    "# 그런 다음, 1차원 데이터를 2차원 데이터 변환\n",
    "labels = labels.reshape(-1, 1)   # -1 : 행을 열로 변환 (가로->세로)\n",
    "labels"
   ]
  },
  {
   "cell_type": "code",
   "execution_count": 8,
   "id": "7613db85-5f78-4dec-9f79-3f320be640be",
   "metadata": {
    "tags": []
   },
   "outputs": [
    {
     "data": {
      "text/plain": [
       "array([[0., 0., 0., 0., 1.],\n",
       "       [0., 1., 0., 0., 0.],\n",
       "       [1., 0., 0., 0., 0.],\n",
       "       [0., 0., 1., 0., 0.],\n",
       "       [0., 0., 0., 1., 0.]])"
      ]
     },
     "execution_count": 8,
     "metadata": {},
     "output_type": "execute_result"
    }
   ],
   "source": [
    "onehot = OneHotEncoder()\n",
    "onehot.fit(labels)\n",
    "ohlabels = onehot.transform(labels)\n",
    "\n",
    "# ['티비','냉장고','가스렌지','에어콘','컴퓨터']\n",
    "ohlabels.toarray()"
   ]
  },
  {
   "cell_type": "markdown",
   "id": "d33103c1-4989-4a00-80ec-2e5ac4ac2217",
   "metadata": {},
   "source": [
    "### pandas의 원핫인코딩\n",
    "+ get_dummies 함수 사용\n",
    "+ 단, 변환대상은 반드시 데이터프레임이어야 함!"
   ]
  },
  {
   "cell_type": "code",
   "execution_count": 9,
   "id": "326448ae-3ca6-440c-a108-e5fdb60fba05",
   "metadata": {},
   "outputs": [
    {
     "data": {
      "text/html": [
       "<div>\n",
       "<style scoped>\n",
       "    .dataframe tbody tr th:only-of-type {\n",
       "        vertical-align: middle;\n",
       "    }\n",
       "\n",
       "    .dataframe tbody tr th {\n",
       "        vertical-align: top;\n",
       "    }\n",
       "\n",
       "    .dataframe thead th {\n",
       "        text-align: right;\n",
       "    }\n",
       "</style>\n",
       "<table border=\"1\" class=\"dataframe\">\n",
       "  <thead>\n",
       "    <tr style=\"text-align: right;\">\n",
       "      <th></th>\n",
       "      <th>_가스렌지</th>\n",
       "      <th>_냉장고</th>\n",
       "      <th>_에어콘</th>\n",
       "      <th>_컴퓨터</th>\n",
       "      <th>_티비</th>\n",
       "    </tr>\n",
       "  </thead>\n",
       "  <tbody>\n",
       "    <tr>\n",
       "      <th>0</th>\n",
       "      <td>0</td>\n",
       "      <td>0</td>\n",
       "      <td>0</td>\n",
       "      <td>0</td>\n",
       "      <td>1</td>\n",
       "    </tr>\n",
       "    <tr>\n",
       "      <th>1</th>\n",
       "      <td>0</td>\n",
       "      <td>1</td>\n",
       "      <td>0</td>\n",
       "      <td>0</td>\n",
       "      <td>0</td>\n",
       "    </tr>\n",
       "    <tr>\n",
       "      <th>2</th>\n",
       "      <td>1</td>\n",
       "      <td>0</td>\n",
       "      <td>0</td>\n",
       "      <td>0</td>\n",
       "      <td>0</td>\n",
       "    </tr>\n",
       "    <tr>\n",
       "      <th>3</th>\n",
       "      <td>0</td>\n",
       "      <td>0</td>\n",
       "      <td>1</td>\n",
       "      <td>0</td>\n",
       "      <td>0</td>\n",
       "    </tr>\n",
       "    <tr>\n",
       "      <th>4</th>\n",
       "      <td>0</td>\n",
       "      <td>0</td>\n",
       "      <td>0</td>\n",
       "      <td>1</td>\n",
       "      <td>0</td>\n",
       "    </tr>\n",
       "  </tbody>\n",
       "</table>\n",
       "</div>"
      ],
      "text/plain": [
       "   _가스렌지  _냉장고  _에어콘  _컴퓨터  _티비\n",
       "0      0     0     0     0    1\n",
       "1      0     1     0     0    0\n",
       "2      1     0     0     0    0\n",
       "3      0     0     1     0    0\n",
       "4      0     0     0     1    0"
      ]
     },
     "execution_count": 9,
     "metadata": {},
     "output_type": "execute_result"
    }
   ],
   "source": [
    "df = pd.DataFrame({'':items})\n",
    "pd.get_dummies(df)"
   ]
  },
  {
   "cell_type": "markdown",
   "id": "f220fbb3-b0bc-4483-9768-248dcb1b64e5",
   "metadata": {},
   "source": [
    "## 특성 스케일링과 표준화/정규화\n",
    "* 서로 다른 범위, 단위의 변수값을\n",
    "  일정수준으로 맞추는 작업을 **특성feature 스케일링**이라 함\n",
    "* 어떤 데이터의 값이 정수와 실수가 혼용되어 있거나\n",
    "* 값의 범위가 1 ~ 100, 0 ~ 0.001, 1 ~ 10000 등등의 경우\n",
    "* 데이터 분석시 많은 cpu 파워/메모리가 필요하고\n",
    "* 학습시 느려질수 있으며 제대로 된 결과가 나오지 않을 수 있음\n",
    "* 이것을 제대로 변환하는 방법은 `정규화` 와 `표준화` 가 있음"
   ]
  },
  {
   "cell_type": "markdown",
   "id": "855fd801-c1a4-4fcb-a351-8414ede8facd",
   "metadata": {},
   "source": [
    "### 표준화\n",
    "* 특성값을 평균이 0이고 표준편차가 1인 정규분포를 가진값으로 변환하는 것\n"
   ]
  },
  {
   "cell_type": "code",
   "execution_count": 10,
   "id": "52ad0eb3-d999-45b9-b99a-83623ddb51f9",
   "metadata": {},
   "outputs": [
    {
     "data": {
      "text/plain": [
       "array([-3, -2, -1,  0,  1,  2,  3,  4,  5])"
      ]
     },
     "execution_count": 10,
     "metadata": {},
     "output_type": "execute_result"
    }
   ],
   "source": [
    "X = np.arange(9) -3\n",
    "X"
   ]
  },
  {
   "cell_type": "code",
   "execution_count": 11,
   "id": "26749f9d-0ee9-4b17-895e-d153836e0889",
   "metadata": {},
   "outputs": [
    {
     "name": "stdout",
     "output_type": "stream",
     "text": [
      "1.0\n",
      "2.581988897471611\n"
     ]
    }
   ],
   "source": [
    "print(np.mean(X, axis=0))\n",
    "print(np.std(X, axis=0))"
   ]
  },
  {
   "cell_type": "code",
   "execution_count": 12,
   "id": "9d7f1869-1000-441d-98f1-58a7f8ca78bb",
   "metadata": {
    "tags": []
   },
   "outputs": [
    {
     "data": {
      "text/plain": [
       "array([[-3],\n",
       "       [-2],\n",
       "       [-1],\n",
       "       [ 0],\n",
       "       [ 1],\n",
       "       [ 2],\n",
       "       [ 3],\n",
       "       [ 4],\n",
       "       [ 5]])"
      ]
     },
     "execution_count": 12,
     "metadata": {},
     "output_type": "execute_result"
    }
   ],
   "source": [
    "X = X.reshape(-1,1) # wide -> Long 변환\n",
    "X"
   ]
  },
  {
   "cell_type": "code",
   "execution_count": 13,
   "id": "7a165886-6740-4c12-8831-fd8ca7d00b19",
   "metadata": {
    "tags": []
   },
   "outputs": [
    {
     "data": {
      "text/plain": [
       "array([[-1.54919334],\n",
       "       [-1.161895  ],\n",
       "       [-0.77459667],\n",
       "       [-0.38729833],\n",
       "       [ 0.        ],\n",
       "       [ 0.38729833],\n",
       "       [ 0.77459667],\n",
       "       [ 1.161895  ],\n",
       "       [ 1.54919334]])"
      ]
     },
     "execution_count": 13,
     "metadata": {},
     "output_type": "execute_result"
    }
   ],
   "source": [
    "from sklearn.preprocessing import StandardScaler\n",
    "\n",
    "scaler = StandardScaler()\n",
    "scaler.fit(X)  \n",
    "XX = scaler.transform(X)\n",
    "XX"
   ]
  },
  {
   "cell_type": "code",
   "execution_count": 14,
   "id": "2415e334-afb2-4a0f-8492-2742d2f3381e",
   "metadata": {},
   "outputs": [
    {
     "name": "stdout",
     "output_type": "stream",
     "text": [
      "[0.]\n",
      "[1.]\n"
     ]
    }
   ],
   "source": [
    "print(np.mean(XX, axis=0))\n",
    "print(np.std(XX, axis=0))"
   ]
  },
  {
   "cell_type": "markdown",
   "id": "d89a1509-f554-4e77-9861-96a0b3782010",
   "metadata": {},
   "source": [
    "## 정규화\n",
    "* 특성값을 최소 0, 최대 1사이의 값으로 변환하는 것\n",
    "* 데이터의 분포가 정규분포를 따르지 않을때 적용"
   ]
  },
  {
   "cell_type": "code",
   "execution_count": 15,
   "id": "6d8bc1fb-17ed-4161-adaf-54d5d6ec4338",
   "metadata": {},
   "outputs": [
    {
     "name": "stdout",
     "output_type": "stream",
     "text": [
      "[-3]\n",
      "[5]\n"
     ]
    }
   ],
   "source": [
    "print(np.min(X, axis=0))\n",
    "print(np.max(X, axis=0))"
   ]
  },
  {
   "cell_type": "code",
   "execution_count": 16,
   "id": "8fe3de9e-d8b0-41de-82e4-7c6a659ba1b5",
   "metadata": {
    "tags": []
   },
   "outputs": [
    {
     "data": {
      "text/plain": [
       "array([[0.   ],\n",
       "       [0.125],\n",
       "       [0.25 ],\n",
       "       [0.375],\n",
       "       [0.5  ],\n",
       "       [0.625],\n",
       "       [0.75 ],\n",
       "       [0.875],\n",
       "       [1.   ]])"
      ]
     },
     "execution_count": 16,
     "metadata": {},
     "output_type": "execute_result"
    }
   ],
   "source": [
    "from sklearn.preprocessing import MinMaxScaler\n",
    "\n",
    "scaler = MinMaxScaler()\n",
    "scaler.fit(X)  \n",
    "XXX = scaler.transform(X)\n",
    "XXX"
   ]
  },
  {
   "cell_type": "code",
   "execution_count": 17,
   "id": "4ddf6f82-5b01-44f6-86c0-2d1eb5f873b8",
   "metadata": {},
   "outputs": [
    {
     "name": "stdout",
     "output_type": "stream",
     "text": [
      "[0.]\n",
      "[1.]\n"
     ]
    }
   ],
   "source": [
    "print(np.min(XXX, axis=0))\n",
    "print(np.max(XXX, axis=0))"
   ]
  },
  {
   "cell_type": "markdown",
   "id": "2dd375df-b3e1-4c85-9b42-e2d9cd6f5b43",
   "metadata": {},
   "source": [
    "## 중앙값, 사분위수 기반 스케일링\n",
    "* RobustScaler\n",
    "* 이상치나 극단치에 영향을 덜 받는 스케일링 기법\n"
   ]
  },
  {
   "cell_type": "code",
   "execution_count": 18,
   "id": "bb9210af-a326-48f6-94cb-cdbed90a1a1b",
   "metadata": {
    "tags": []
   },
   "outputs": [
    {
     "data": {
      "text/plain": [
       "array([[-1.  ],\n",
       "       [-0.75],\n",
       "       [-0.5 ],\n",
       "       [-0.25],\n",
       "       [ 0.  ],\n",
       "       [ 0.25],\n",
       "       [ 0.5 ],\n",
       "       [ 0.75],\n",
       "       [ 1.  ]])"
      ]
     },
     "execution_count": 18,
     "metadata": {},
     "output_type": "execute_result"
    }
   ],
   "source": [
    "from sklearn.preprocessing import RobustScaler\n",
    "\n",
    "scaler = RobustScaler()\n",
    "scaler.fit(X)  \n",
    "XXXX = scaler.transform(X)\n",
    "XXXX"
   ]
  },
  {
   "cell_type": "markdown",
   "id": "1d195f3e-7842-444a-8464-20ad9e2eb1d5",
   "metadata": {},
   "source": [
    "## 스케일링을 적용후 타이타닉 생존여부 분석하기"
   ]
  },
  {
   "cell_type": "code",
   "execution_count": 19,
   "id": "63c002f7-9fbe-47d1-9a9e-4e5d14badb3c",
   "metadata": {},
   "outputs": [
    {
     "name": "stdout",
     "output_type": "stream",
     "text": [
      "<class 'pandas.core.frame.DataFrame'>\n",
      "RangeIndex: 1306 entries, 0 to 1305\n",
      "Data columns (total 9 columns):\n",
      " #   Column    Non-Null Count  Dtype  \n",
      "---  ------    --------------  -----  \n",
      " 0   pclass    1306 non-null   int64  \n",
      " 1   age       1306 non-null   float64\n",
      " 2   sibsp     1306 non-null   int64  \n",
      " 3   parch     1306 non-null   int64  \n",
      " 4   fare      1306 non-null   float64\n",
      " 5   gender    1306 non-null   int64  \n",
      " 6   Embarked  1306 non-null   int64  \n",
      " 7   Title     1306 non-null   int64  \n",
      " 8   survived  1306 non-null   int64  \n",
      "dtypes: float64(2), int64(7)\n",
      "memory usage: 92.0 KB\n"
     ]
    }
   ],
   "source": [
    "titanic = pd.read_csv('data/titanic2.csv')\n",
    "titanic.info()"
   ]
  },
  {
   "cell_type": "markdown",
   "id": "776143dd-2a7e-4397-a3d5-0a30f0b2c6e8",
   "metadata": {},
   "source": [
    "### 승객의 나이, 요금을 범주형으로 변환"
   ]
  },
  {
   "cell_type": "code",
   "execution_count": 20,
   "id": "0087785f-a394-40ce-a7ae-c6a1dc17d8f9",
   "metadata": {},
   "outputs": [],
   "source": [
    "# 나이 범주 : 5, 10, 20,30, 40, 50, 60, 70,80, 90~\n",
    "def getAge(x):\n",
    "    age = 'A'\n",
    "    if (x >= 5) & (x < 10): age = 'B'\n",
    "    elif (x >= 10) & (x < 20): age = 'C'\n",
    "    elif (x >= 20) & (x < 30): age = 'D'\n",
    "    elif (x >= 30) & (x < 40): age = 'E'\n",
    "    elif (x >= 40) & (x < 50): age = 'F'\n",
    "    elif (x >= 50) & (x < 60): age = 'G'\n",
    "    elif (x >= 60) & (x < 70): age = 'H'\n",
    "    elif (x >= 70) & (x < 80): age = 'I'                  \n",
    "    elif (x >= 80) & (x < 90): age = 'J'\n",
    "    elif x >= 90: age = 'K'\n",
    "    return age"
   ]
  },
  {
   "cell_type": "code",
   "execution_count": 21,
   "id": "3c83bdd5-f52a-4592-ae5f-32981080737a",
   "metadata": {},
   "outputs": [],
   "source": [
    "# 요금 : 100, 200, 300, 400, 500~\n",
    "def getFare(x):\n",
    "    fare = 'A'\n",
    "    if (x >= 100) & (x < 200): fare = 'B'\n",
    "    elif (x >= 200) & (x < 300): fare = 'C'\n",
    "    elif (x >= 300) & (x < 400): fare = 'D'\n",
    "    elif (x >= 400) & (x < 500): fare = 'E'\n",
    "    elif x >= 500: fare = 'F'\n",
    "    return fare"
   ]
  },
  {
   "cell_type": "code",
   "execution_count": 22,
   "id": "6731e4f8-5c07-45ad-b5fa-89e86281d958",
   "metadata": {
    "tags": []
   },
   "outputs": [
    {
     "data": {
      "text/html": [
       "<div>\n",
       "<style scoped>\n",
       "    .dataframe tbody tr th:only-of-type {\n",
       "        vertical-align: middle;\n",
       "    }\n",
       "\n",
       "    .dataframe tbody tr th {\n",
       "        vertical-align: top;\n",
       "    }\n",
       "\n",
       "    .dataframe thead th {\n",
       "        text-align: right;\n",
       "    }\n",
       "</style>\n",
       "<table border=\"1\" class=\"dataframe\">\n",
       "  <thead>\n",
       "    <tr style=\"text-align: right;\">\n",
       "      <th></th>\n",
       "      <th>pclass</th>\n",
       "      <th>age</th>\n",
       "      <th>sibsp</th>\n",
       "      <th>parch</th>\n",
       "      <th>fare</th>\n",
       "      <th>gender</th>\n",
       "      <th>Embarked</th>\n",
       "      <th>Title</th>\n",
       "      <th>survived</th>\n",
       "    </tr>\n",
       "  </thead>\n",
       "  <tbody>\n",
       "    <tr>\n",
       "      <th>0</th>\n",
       "      <td>1</td>\n",
       "      <td>3</td>\n",
       "      <td>0</td>\n",
       "      <td>0</td>\n",
       "      <td>211.3375</td>\n",
       "      <td>0</td>\n",
       "      <td>2</td>\n",
       "      <td>10</td>\n",
       "      <td>1</td>\n",
       "    </tr>\n",
       "    <tr>\n",
       "      <th>1</th>\n",
       "      <td>1</td>\n",
       "      <td>0</td>\n",
       "      <td>1</td>\n",
       "      <td>2</td>\n",
       "      <td>151.5500</td>\n",
       "      <td>1</td>\n",
       "      <td>2</td>\n",
       "      <td>9</td>\n",
       "      <td>1</td>\n",
       "    </tr>\n",
       "    <tr>\n",
       "      <th>2</th>\n",
       "      <td>1</td>\n",
       "      <td>0</td>\n",
       "      <td>1</td>\n",
       "      <td>2</td>\n",
       "      <td>151.5500</td>\n",
       "      <td>0</td>\n",
       "      <td>2</td>\n",
       "      <td>10</td>\n",
       "      <td>0</td>\n",
       "    </tr>\n",
       "    <tr>\n",
       "      <th>3</th>\n",
       "      <td>1</td>\n",
       "      <td>4</td>\n",
       "      <td>1</td>\n",
       "      <td>2</td>\n",
       "      <td>151.5500</td>\n",
       "      <td>1</td>\n",
       "      <td>2</td>\n",
       "      <td>13</td>\n",
       "      <td>0</td>\n",
       "    </tr>\n",
       "    <tr>\n",
       "      <th>4</th>\n",
       "      <td>1</td>\n",
       "      <td>3</td>\n",
       "      <td>1</td>\n",
       "      <td>2</td>\n",
       "      <td>151.5500</td>\n",
       "      <td>0</td>\n",
       "      <td>2</td>\n",
       "      <td>14</td>\n",
       "      <td>0</td>\n",
       "    </tr>\n",
       "  </tbody>\n",
       "</table>\n",
       "</div>"
      ],
      "text/plain": [
       "   pclass  age  sibsp  parch      fare  gender  Embarked  Title  survived\n",
       "0       1    3      0      0  211.3375       0         2     10         1\n",
       "1       1    0      1      2  151.5500       1         2      9         1\n",
       "2       1    0      1      2  151.5500       0         2     10         0\n",
       "3       1    4      1      2  151.5500       1         2     13         0\n",
       "4       1    3      1      2  151.5500       0         2     14         0"
      ]
     },
     "execution_count": 22,
     "metadata": {},
     "output_type": "execute_result"
    }
   ],
   "source": [
    "titanic['age'] = titanic.age.apply(lambda x: getAge(x))\n",
    "\n",
    "encoder = LabelEncoder()\n",
    "encoder.fit(titanic['age'])\n",
    "titanic['age'] = encoder.transform(titanic['age'])\n",
    "titanic.head()"
   ]
  },
  {
   "cell_type": "code",
   "execution_count": 23,
   "id": "f55ee548-9efe-4533-b8cf-2da9a9a36b3b",
   "metadata": {
    "tags": []
   },
   "outputs": [
    {
     "data": {
      "text/html": [
       "<div>\n",
       "<style scoped>\n",
       "    .dataframe tbody tr th:only-of-type {\n",
       "        vertical-align: middle;\n",
       "    }\n",
       "\n",
       "    .dataframe tbody tr th {\n",
       "        vertical-align: top;\n",
       "    }\n",
       "\n",
       "    .dataframe thead th {\n",
       "        text-align: right;\n",
       "    }\n",
       "</style>\n",
       "<table border=\"1\" class=\"dataframe\">\n",
       "  <thead>\n",
       "    <tr style=\"text-align: right;\">\n",
       "      <th></th>\n",
       "      <th>pclass</th>\n",
       "      <th>age</th>\n",
       "      <th>sibsp</th>\n",
       "      <th>parch</th>\n",
       "      <th>fare</th>\n",
       "      <th>gender</th>\n",
       "      <th>Embarked</th>\n",
       "      <th>Title</th>\n",
       "      <th>survived</th>\n",
       "    </tr>\n",
       "  </thead>\n",
       "  <tbody>\n",
       "    <tr>\n",
       "      <th>0</th>\n",
       "      <td>1</td>\n",
       "      <td>3</td>\n",
       "      <td>0</td>\n",
       "      <td>0</td>\n",
       "      <td>2</td>\n",
       "      <td>0</td>\n",
       "      <td>2</td>\n",
       "      <td>10</td>\n",
       "      <td>1</td>\n",
       "    </tr>\n",
       "    <tr>\n",
       "      <th>1</th>\n",
       "      <td>1</td>\n",
       "      <td>0</td>\n",
       "      <td>1</td>\n",
       "      <td>2</td>\n",
       "      <td>1</td>\n",
       "      <td>1</td>\n",
       "      <td>2</td>\n",
       "      <td>9</td>\n",
       "      <td>1</td>\n",
       "    </tr>\n",
       "    <tr>\n",
       "      <th>2</th>\n",
       "      <td>1</td>\n",
       "      <td>0</td>\n",
       "      <td>1</td>\n",
       "      <td>2</td>\n",
       "      <td>1</td>\n",
       "      <td>0</td>\n",
       "      <td>2</td>\n",
       "      <td>10</td>\n",
       "      <td>0</td>\n",
       "    </tr>\n",
       "    <tr>\n",
       "      <th>3</th>\n",
       "      <td>1</td>\n",
       "      <td>4</td>\n",
       "      <td>1</td>\n",
       "      <td>2</td>\n",
       "      <td>1</td>\n",
       "      <td>1</td>\n",
       "      <td>2</td>\n",
       "      <td>13</td>\n",
       "      <td>0</td>\n",
       "    </tr>\n",
       "    <tr>\n",
       "      <th>4</th>\n",
       "      <td>1</td>\n",
       "      <td>3</td>\n",
       "      <td>1</td>\n",
       "      <td>2</td>\n",
       "      <td>1</td>\n",
       "      <td>0</td>\n",
       "      <td>2</td>\n",
       "      <td>14</td>\n",
       "      <td>0</td>\n",
       "    </tr>\n",
       "  </tbody>\n",
       "</table>\n",
       "</div>"
      ],
      "text/plain": [
       "   pclass  age  sibsp  parch  fare  gender  Embarked  Title  survived\n",
       "0       1    3      0      0     2       0         2     10         1\n",
       "1       1    0      1      2     1       1         2      9         1\n",
       "2       1    0      1      2     1       0         2     10         0\n",
       "3       1    4      1      2     1       1         2     13         0\n",
       "4       1    3      1      2     1       0         2     14         0"
      ]
     },
     "execution_count": 23,
     "metadata": {},
     "output_type": "execute_result"
    }
   ],
   "source": [
    "titanic['fare'] = titanic.fare.apply(lambda x: getFare(x))\n",
    "\n",
    "encoder = LabelEncoder()\n",
    "encoder.fit(titanic['fare'])\n",
    "titanic['fare'] = encoder.transform(titanic['fare'])\n",
    "titanic.head()"
   ]
  },
  {
   "cell_type": "code",
   "execution_count": 24,
   "id": "dab64407-d3e0-4b52-b4fb-6d12da89b7ff",
   "metadata": {
    "tags": []
   },
   "outputs": [
    {
     "name": "stdout",
     "output_type": "stream",
     "text": [
      "<class 'pandas.core.frame.DataFrame'>\n",
      "RangeIndex: 1306 entries, 0 to 1305\n",
      "Data columns (total 9 columns):\n",
      " #   Column    Non-Null Count  Dtype\n",
      "---  ------    --------------  -----\n",
      " 0   pclass    1306 non-null   int64\n",
      " 1   age       1306 non-null   int32\n",
      " 2   sibsp     1306 non-null   int64\n",
      " 3   parch     1306 non-null   int64\n",
      " 4   fare      1306 non-null   int32\n",
      " 5   gender    1306 non-null   int64\n",
      " 6   Embarked  1306 non-null   int64\n",
      " 7   Title     1306 non-null   int64\n",
      " 8   survived  1306 non-null   int64\n",
      "dtypes: int32(2), int64(7)\n",
      "memory usage: 81.8 KB\n"
     ]
    }
   ],
   "source": [
    "titanic.info()"
   ]
  },
  {
   "cell_type": "code",
   "execution_count": 42,
   "id": "4c82a3a3-4ea0-47c8-950e-ed7f102ab600",
   "metadata": {
    "tags": []
   },
   "outputs": [
    {
     "name": "stdout",
     "output_type": "stream",
     "text": [
      "<class 'pandas.core.frame.DataFrame'>\n",
      "RangeIndex: 1306 entries, 0 to 1305\n",
      "Data columns (total 8 columns):\n",
      " #   Column    Non-Null Count  Dtype\n",
      "---  ------    --------------  -----\n",
      " 0   pclass    1306 non-null   int64\n",
      " 1   age       1306 non-null   int32\n",
      " 2   sibsp     1306 non-null   int64\n",
      " 3   parch     1306 non-null   int64\n",
      " 4   fare      1306 non-null   int32\n",
      " 5   gender    1306 non-null   int64\n",
      " 6   Embarked  1306 non-null   int64\n",
      " 7   Title     1306 non-null   int64\n",
      "dtypes: int32(2), int64(6)\n",
      "memory usage: 71.5 KB\n"
     ]
    }
   ],
   "source": [
    "data = titanic.iloc[:,:8]\n",
    "target = titanic.survived\n",
    "data.info()"
   ]
  },
  {
   "cell_type": "markdown",
   "id": "3ea17bb4-b76f-45b1-9a5b-6e83b67a9d7c",
   "metadata": {
    "tags": []
   },
   "source": [
    "### 표준화 적용"
   ]
  },
  {
   "cell_type": "code",
   "execution_count": 43,
   "id": "702f8ea7-31e4-4c30-8afd-493768a73701",
   "metadata": {},
   "outputs": [],
   "source": [
    "scaler = StandardScaler()\n",
    "scaler.fit(data)\n",
    "data2 = scaler.transform(data)"
   ]
  },
  {
   "cell_type": "code",
   "execution_count": 44,
   "id": "21eb1de7-8c8b-4775-9db6-f827e01af50e",
   "metadata": {},
   "outputs": [],
   "source": [
    "X_train, X_test, Y_train,Y_test = train_test_split(data2,target, train_size=0.7, stratify=target, random_state=2211161705)"
   ]
  },
  {
   "cell_type": "code",
   "execution_count": 45,
   "id": "82b632a1-5cc5-4b67-9185-7b21f470b992",
   "metadata": {},
   "outputs": [
    {
     "data": {
      "text/plain": [
       "0.7602040816326531"
      ]
     },
     "execution_count": 45,
     "metadata": {},
     "output_type": "execute_result"
    }
   ],
   "source": [
    "dtclf = DecisionTreeClassifier(random_state=2211161705)\n",
    "\n",
    "dtclf.fit(X_train, Y_train)\n",
    "pred = dtclf.predict(X_test)\n",
    "\n",
    "accuracy_score(Y_test,pred)"
   ]
  },
  {
   "cell_type": "code",
   "execution_count": 46,
   "id": "03c18b1c-69e1-470c-b485-801108ec9053",
   "metadata": {},
   "outputs": [
    {
     "data": {
      "text/plain": [
       "0.7346938775510204"
      ]
     },
     "execution_count": 46,
     "metadata": {},
     "output_type": "execute_result"
    }
   ],
   "source": [
    "rfclf = RandomForestClassifier(random_state=2211161705)\n",
    "\n",
    "rfclf.fit(X_train, Y_train)\n",
    "pred = rfclf.predict(X_test)\n",
    "\n",
    "accuracy_score(Y_test,pred)"
   ]
  },
  {
   "cell_type": "code",
   "execution_count": 47,
   "id": "1c22de18-6608-4ce3-9ccf-670f82969818",
   "metadata": {},
   "outputs": [],
   "source": [
    "scores = cross_val_score(rfclf, data, target, scoring='accuracy', cv=10)"
   ]
  },
  {
   "cell_type": "code",
   "execution_count": 48,
   "id": "525f8d18-3c64-474e-9bf0-52313b75d591",
   "metadata": {},
   "outputs": [
    {
     "name": "stdout",
     "output_type": "stream",
     "text": [
      "-8.704964603492805e-17\n",
      "1.0\n"
     ]
    }
   ],
   "source": [
    "print(np.mean(data2[:, 1], axis=0))\n",
    "print(np.std(data2[:, 1], axis=0))"
   ]
  },
  {
   "cell_type": "markdown",
   "id": "a7d9e89a-901d-4fd7-babf-b573f4b0d387",
   "metadata": {},
   "source": [
    "### 정규화 적용"
   ]
  },
  {
   "cell_type": "code",
   "execution_count": 49,
   "id": "05366d15-bc86-4781-9767-d98da5747ec4",
   "metadata": {},
   "outputs": [],
   "source": [
    "from sklearn.preprocessing import MinMaxScaler\n",
    "\n",
    "scaler = MinMaxScaler()\n",
    "scaler.fit(data)\n",
    "data2 = scaler.transform(data)"
   ]
  },
  {
   "cell_type": "code",
   "execution_count": 52,
   "id": "230962b9-5405-4d8d-b319-640073ad2ff1",
   "metadata": {},
   "outputs": [],
   "source": [
    "X_train, X_test, Y_train,Y_test = train_test_split(data2,target, train_size=0.7, stratify=target, random_state=2211161555)"
   ]
  },
  {
   "cell_type": "code",
   "execution_count": 53,
   "id": "8557175f-e6d4-48d6-8ebc-b6dd6360acde",
   "metadata": {},
   "outputs": [
    {
     "data": {
      "text/plain": [
       "0.7678571428571429"
      ]
     },
     "execution_count": 53,
     "metadata": {},
     "output_type": "execute_result"
    }
   ],
   "source": [
    "dtclf = DecisionTreeClassifier(random_state=2211161315)\n",
    "\n",
    "dtclf.fit(X_train, Y_train)\n",
    "pred = dtclf.predict(X_test)\n",
    "\n",
    "accuracy_score(Y_test,pred)"
   ]
  },
  {
   "cell_type": "code",
   "execution_count": 54,
   "id": "39d18741-1aca-4449-9d6e-2526f2dec2da",
   "metadata": {},
   "outputs": [
    {
     "data": {
      "text/plain": [
       "0.7882653061224489"
      ]
     },
     "execution_count": 54,
     "metadata": {},
     "output_type": "execute_result"
    }
   ],
   "source": [
    "rfclf = RandomForestClassifier()\n",
    "\n",
    "rfclf.fit(X_train, Y_train)\n",
    "pred = rfclf.predict(X_test)\n",
    "\n",
    "accuracy_score(Y_test,pred)"
   ]
  },
  {
   "cell_type": "code",
   "execution_count": 55,
   "id": "3ad1da94-a39c-457e-8984-635ee60011dd",
   "metadata": {},
   "outputs": [
    {
     "name": "stdout",
     "output_type": "stream",
     "text": [
      "0.37706312744597587\n",
      "0.1572462742173892\n"
     ]
    }
   ],
   "source": [
    "print(np.mean(data2[:, 1], axis=0))\n",
    "print(np.std(data2[:, 1], axis=0))"
   ]
  },
  {
   "cell_type": "markdown",
   "id": "5436ff2b-d411-493d-87d7-f4f02869a891",
   "metadata": {},
   "source": [
    "### 중앙값, 사분위수 기반 스케일링 적용"
   ]
  },
  {
   "cell_type": "code",
   "execution_count": 56,
   "id": "bbe8d139-1ab8-4a05-92ac-2debbaeacbfc",
   "metadata": {},
   "outputs": [],
   "source": [
    "from sklearn.preprocessing import RobustScaler\n",
    "\n",
    "scaler = RobustScaler()\n",
    "scaler.fit(data)\n",
    "data2 = scaler.transform(data)"
   ]
  },
  {
   "cell_type": "code",
   "execution_count": 57,
   "id": "37170953-3e97-40a9-9ccd-473bfad588c5",
   "metadata": {},
   "outputs": [],
   "source": [
    "X_train, X_test, Y_train,Y_test = train_test_split(data2,target, train_size=0.7, stratify=target, random_state=2211161555)"
   ]
  },
  {
   "cell_type": "code",
   "execution_count": 58,
   "id": "8053989d-5921-46c2-ae6e-a682d3b7a895",
   "metadata": {},
   "outputs": [
    {
     "data": {
      "text/plain": [
       "0.7704081632653061"
      ]
     },
     "execution_count": 58,
     "metadata": {},
     "output_type": "execute_result"
    }
   ],
   "source": [
    "dtclf = DecisionTreeClassifier()\n",
    "\n",
    "dtclf.fit(X_train, Y_train)\n",
    "pred = dtclf.predict(X_test)\n",
    "\n",
    "accuracy_score(Y_test,pred)"
   ]
  },
  {
   "cell_type": "code",
   "execution_count": 59,
   "id": "df1d3221-3ff0-4780-a900-5e5b795c36b1",
   "metadata": {},
   "outputs": [
    {
     "data": {
      "text/plain": [
       "0.7882653061224489"
      ]
     },
     "execution_count": 59,
     "metadata": {},
     "output_type": "execute_result"
    }
   ],
   "source": [
    "rfclf = RandomForestClassifier()\n",
    "\n",
    "rfclf.fit(X_train, Y_train)\n",
    "pred = rfclf.predict(X_test)\n",
    "\n",
    "accuracy_score(Y_test,pred)"
   ]
  },
  {
   "cell_type": "code",
   "execution_count": 60,
   "id": "2c613447-c7c4-4181-80d0-b5cccd25595e",
   "metadata": {},
   "outputs": [
    {
     "name": "stdout",
     "output_type": "stream",
     "text": [
      "0.39356814701378257\n",
      "1.4152164679565031\n"
     ]
    }
   ],
   "source": [
    "print(np.mean(data2[:, 1], axis=0))\n",
    "print(np.std(data2[:, 1], axis=0))"
   ]
  },
  {
   "cell_type": "code",
   "execution_count": null,
   "id": "d0779f94-8b01-4cdb-b207-7df18273d604",
   "metadata": {},
   "outputs": [],
   "source": []
  }
 ],
 "metadata": {
  "kernelspec": {
   "display_name": "Python 3 (ipykernel)",
   "language": "python",
   "name": "python3"
  },
  "language_info": {
   "codemirror_mode": {
    "name": "ipython",
    "version": 3
   },
   "file_extension": ".py",
   "mimetype": "text/x-python",
   "name": "python",
   "nbconvert_exporter": "python",
   "pygments_lexer": "ipython3",
   "version": "3.9.13"
  }
 },
 "nbformat": 4,
 "nbformat_minor": 5
}
