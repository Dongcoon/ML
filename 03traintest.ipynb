{
 "cells": [
  {
   "cell_type": "markdown",
   "id": "1b7bfcda-fcbe-48b8-97ba-697217d32a1f",
   "metadata": {},
   "source": [
    "## 훈련과 테스트 데이터\n",
    "* 머신러닝 모델을 만들기 위해서 데이터집합이 필요\n",
    "* `과적합`을 방지하기 위해 데이터를 훈련/테스트 데이터로 나누고 \n",
    "* 교차검증 방식으로 모델을 만들어 성능을 평가함\n",
    "* **훈련데이터** : 모델 추정및 학습이 목적\n",
    "* **테스트데이터** : 모델 성능 평가가 목적\n",
    "* 분할 비율은 7:3 또는 8:2로 설정\n"
   ]
  },
  {
   "cell_type": "markdown",
   "id": "b6bd7799-9369-4ac2-9249-8436b6cc4fa0",
   "metadata": {},
   "source": [
    "## train/test 분할 없이 분석하는 경우"
   ]
  },
  {
   "cell_type": "code",
   "execution_count": 2,
   "id": "39c6a40f-1555-4f23-a325-12fd9f49d45c",
   "metadata": {},
   "outputs": [],
   "source": [
    "from sklearn.datasets import load_iris\n",
    "from sklearn.tree import DecisionTreeClassifier\n",
    "from sklearn.metrics import accuracy_score"
   ]
  },
  {
   "cell_type": "code",
   "execution_count": 15,
   "id": "acd178e7-14cd-4e0e-8eaf-28b4643e6452",
   "metadata": {},
   "outputs": [],
   "source": [
    "# 데이터 불러오기\n",
    "iris = load_iris()\n",
    "data = iris.data\n",
    "target = iris.target"
   ]
  },
  {
   "cell_type": "code",
   "execution_count": 4,
   "id": "fdd129f1-1903-452f-a181-78bbcc4fad75",
   "metadata": {},
   "outputs": [
    {
     "data": {
      "text/html": [
       "<style>#sk-container-id-1 {color: black;background-color: white;}#sk-container-id-1 pre{padding: 0;}#sk-container-id-1 div.sk-toggleable {background-color: white;}#sk-container-id-1 label.sk-toggleable__label {cursor: pointer;display: block;width: 100%;margin-bottom: 0;padding: 0.3em;box-sizing: border-box;text-align: center;}#sk-container-id-1 label.sk-toggleable__label-arrow:before {content: \"▸\";float: left;margin-right: 0.25em;color: #696969;}#sk-container-id-1 label.sk-toggleable__label-arrow:hover:before {color: black;}#sk-container-id-1 div.sk-estimator:hover label.sk-toggleable__label-arrow:before {color: black;}#sk-container-id-1 div.sk-toggleable__content {max-height: 0;max-width: 0;overflow: hidden;text-align: left;background-color: #f0f8ff;}#sk-container-id-1 div.sk-toggleable__content pre {margin: 0.2em;color: black;border-radius: 0.25em;background-color: #f0f8ff;}#sk-container-id-1 input.sk-toggleable__control:checked~div.sk-toggleable__content {max-height: 200px;max-width: 100%;overflow: auto;}#sk-container-id-1 input.sk-toggleable__control:checked~label.sk-toggleable__label-arrow:before {content: \"▾\";}#sk-container-id-1 div.sk-estimator input.sk-toggleable__control:checked~label.sk-toggleable__label {background-color: #d4ebff;}#sk-container-id-1 div.sk-label input.sk-toggleable__control:checked~label.sk-toggleable__label {background-color: #d4ebff;}#sk-container-id-1 input.sk-hidden--visually {border: 0;clip: rect(1px 1px 1px 1px);clip: rect(1px, 1px, 1px, 1px);height: 1px;margin: -1px;overflow: hidden;padding: 0;position: absolute;width: 1px;}#sk-container-id-1 div.sk-estimator {font-family: monospace;background-color: #f0f8ff;border: 1px dotted black;border-radius: 0.25em;box-sizing: border-box;margin-bottom: 0.5em;}#sk-container-id-1 div.sk-estimator:hover {background-color: #d4ebff;}#sk-container-id-1 div.sk-parallel-item::after {content: \"\";width: 100%;border-bottom: 1px solid gray;flex-grow: 1;}#sk-container-id-1 div.sk-label:hover label.sk-toggleable__label {background-color: #d4ebff;}#sk-container-id-1 div.sk-serial::before {content: \"\";position: absolute;border-left: 1px solid gray;box-sizing: border-box;top: 0;bottom: 0;left: 50%;z-index: 0;}#sk-container-id-1 div.sk-serial {display: flex;flex-direction: column;align-items: center;background-color: white;padding-right: 0.2em;padding-left: 0.2em;position: relative;}#sk-container-id-1 div.sk-item {position: relative;z-index: 1;}#sk-container-id-1 div.sk-parallel {display: flex;align-items: stretch;justify-content: center;background-color: white;position: relative;}#sk-container-id-1 div.sk-item::before, #sk-container-id-1 div.sk-parallel-item::before {content: \"\";position: absolute;border-left: 1px solid gray;box-sizing: border-box;top: 0;bottom: 0;left: 50%;z-index: -1;}#sk-container-id-1 div.sk-parallel-item {display: flex;flex-direction: column;z-index: 1;position: relative;background-color: white;}#sk-container-id-1 div.sk-parallel-item:first-child::after {align-self: flex-end;width: 50%;}#sk-container-id-1 div.sk-parallel-item:last-child::after {align-self: flex-start;width: 50%;}#sk-container-id-1 div.sk-parallel-item:only-child::after {width: 0;}#sk-container-id-1 div.sk-dashed-wrapped {border: 1px dashed gray;margin: 0 0.4em 0.5em 0.4em;box-sizing: border-box;padding-bottom: 0.4em;background-color: white;}#sk-container-id-1 div.sk-label label {font-family: monospace;font-weight: bold;display: inline-block;line-height: 1.2em;}#sk-container-id-1 div.sk-label-container {text-align: center;}#sk-container-id-1 div.sk-container {/* jupyter's `normalize.less` sets `[hidden] { display: none; }` but bootstrap.min.css set `[hidden] { display: none !important; }` so we also need the `!important` here to be able to override the default hidden behavior on the sphinx rendered scikit-learn.org. See: https://github.com/scikit-learn/scikit-learn/issues/21755 */display: inline-block !important;position: relative;}#sk-container-id-1 div.sk-text-repr-fallback {display: none;}</style><div id=\"sk-container-id-1\" class=\"sk-top-container\"><div class=\"sk-text-repr-fallback\"><pre>DecisionTreeClassifier()</pre><b>In a Jupyter environment, please rerun this cell to show the HTML representation or trust the notebook. <br />On GitHub, the HTML representation is unable to render, please try loading this page with nbviewer.org.</b></div><div class=\"sk-container\" hidden><div class=\"sk-item\"><div class=\"sk-estimator sk-toggleable\"><input class=\"sk-toggleable__control sk-hidden--visually\" id=\"sk-estimator-id-1\" type=\"checkbox\" checked><label for=\"sk-estimator-id-1\" class=\"sk-toggleable__label sk-toggleable__label-arrow\">DecisionTreeClassifier</label><div class=\"sk-toggleable__content\"><pre>DecisionTreeClassifier()</pre></div></div></div></div></div>"
      ],
      "text/plain": [
       "DecisionTreeClassifier()"
      ]
     },
     "execution_count": 4,
     "metadata": {},
     "output_type": "execute_result"
    }
   ],
   "source": [
    "# 의사결정나무로 모델 학습\n",
    "dtclf = DecisionTreeClassifier()\n",
    "\n",
    "# 분류모델 학습시킴\n",
    "# fit(독립변수, 종속변수)\n",
    "dtclf.fit(data, target)"
   ]
  },
  {
   "cell_type": "code",
   "execution_count": 6,
   "id": "9bd06db2-f690-4a04-8723-19b7eca2dd1c",
   "metadata": {},
   "outputs": [
    {
     "data": {
      "text/plain": [
       "1.0"
      ]
     },
     "execution_count": 6,
     "metadata": {},
     "output_type": "execute_result"
    }
   ],
   "source": [
    "# 학습된 모델 성능을 알아보기\n",
    "# predict(독립변수)\n",
    "pred = dtclf.predict(data)\n",
    "\n",
    "# 학습된 모델로 예측한 결과를 실제값과 비교해 봄\n",
    "# accuracy_score(실제값, 예측값)\n",
    "accuracy_score(target,pred)"
   ]
  },
  {
   "cell_type": "markdown",
   "id": "59a33517-4a72-4701-9858-24a3608d1fdd",
   "metadata": {},
   "source": [
    "### 과적합overfit 발생\n",
    "* 훈련데이터가 가지고 있는 특성을 너무 많이 반영해서\n",
    "   훈련데이터의 패턴을 너무 잘 인식하게 되는 문제\n",
    "* 이런 경우 새로운 데이터가 주어지면 정확하게 예측하는 능력은 떨어짐\n",
    "    + 비유) A문제집으로 시험공부했는데,\n",
    "    + 시험문제가 A문제집에서 거의 다나옴 => 100점 맞음!\n",
    "* 이런문제를 피할려면 데이터셋을 \n",
    "   훈련/테스트로 나눠 학습과 평가를 수행해야 함"
   ]
  },
  {
   "cell_type": "code",
   "execution_count": null,
   "id": "dfbc78f4-d79d-453f-9ad1-a55bffbc00d3",
   "metadata": {},
   "outputs": [],
   "source": [
    "import numpy as np\n",
    "import pandas as pd\n",
    "import matplotlib.pyplot as plt\n",
    "import sklearn"
   ]
  },
  {
   "cell_type": "markdown",
   "id": "0cde34ec-6dd3-479f-8b2b-05c61f927268",
   "metadata": {},
   "source": [
    "### 데이터를 학습/평가용으로 분할 1\n",
    "* 학습/평가용 데이터 비율은 7:3으로 설정\n",
    "* iris 데이터의 총 갯수는 150개이므로\n",
    "* 105:45로 분할하면 됨"
   ]
  },
  {
   "cell_type": "code",
   "execution_count": 23,
   "id": "b777a00e-c6f8-4c5a-babe-b6f962463806",
   "metadata": {},
   "outputs": [
    {
     "name": "stdout",
     "output_type": "stream",
     "text": [
      "(105, 4) (45, 4)\n"
     ]
    }
   ],
   "source": [
    "train_data = iris.data[:105, ]\n",
    "test_data = iris.data[105:, ]\n",
    "\n",
    "print(train_data.shape, test_data.shape)"
   ]
  },
  {
   "cell_type": "code",
   "execution_count": 24,
   "id": "cd15096e-284b-43b0-8863-2ce61d314392",
   "metadata": {},
   "outputs": [
    {
     "name": "stdout",
     "output_type": "stream",
     "text": [
      "(105,) (45,)\n"
     ]
    }
   ],
   "source": [
    "train_target = iris.target[:105, ]\n",
    "test_target = iris.target[105:, ]\n",
    "\n",
    "print(train_target.shape, test_target.shape)"
   ]
  },
  {
   "cell_type": "code",
   "execution_count": 25,
   "id": "31cf34ef-93ce-42d4-95f1-5c69abe58c25",
   "metadata": {
    "tags": []
   },
   "outputs": [
    {
     "data": {
      "text/plain": [
       "0.7333333333333333"
      ]
     },
     "execution_count": 25,
     "metadata": {},
     "output_type": "execute_result"
    }
   ],
   "source": [
    "# 모델 학습후 평가\n",
    "dtclf = DecisionTreeClassifier(random_state=2211161135)\n",
    "\n",
    "dtclf.fit(train_data, train_target)\n",
    "pred = dtclf.predict(test_data)\n",
    "\n",
    "accuracy_score(test_target,pred)"
   ]
  },
  {
   "cell_type": "markdown",
   "id": "75dabf9e-3829-428b-946b-01cb033b9e8b",
   "metadata": {},
   "source": [
    "## 데이터 분할 분포 확인"
   ]
  },
  {
   "cell_type": "code",
   "execution_count": 27,
   "id": "d035cc9c-aee4-40bc-85be-4b2dc951f813",
   "metadata": {},
   "outputs": [
    {
     "data": {
      "text/plain": [
       "0    50\n",
       "1    50\n",
       "2     5\n",
       "dtype: int64"
      ]
     },
     "execution_count": 27,
     "metadata": {},
     "output_type": "execute_result"
    }
   ],
   "source": [
    "pd.Series(train_target).value_counts()"
   ]
  },
  {
   "cell_type": "code",
   "execution_count": 28,
   "id": "9777192f-a52c-47b5-8375-c955f766ecd6",
   "metadata": {},
   "outputs": [
    {
     "data": {
      "text/plain": [
       "2    45\n",
       "dtype: int64"
      ]
     },
     "execution_count": 28,
     "metadata": {},
     "output_type": "execute_result"
    }
   ],
   "source": [
    "pd.Series(test_target).value_counts()"
   ]
  },
  {
   "cell_type": "code",
   "execution_count": 29,
   "id": "911480c5-65e9-48bc-9673-280432dffd26",
   "metadata": {},
   "outputs": [],
   "source": [
    "# 데이터를 앞에서 순서대로 나눴기 때문에\n",
    "# 데이터 분포가 일정하지 않음\n",
    "\n",
    "# 즉, setosa, verginica, versicolor의 비율이\n",
    "# 같아야 하는데, train에는 setosa, verginica위주로\n",
    "# test에는 versicolor위주로 데이터가 분할됨\n",
    "\n",
    "# 따라서, setosa, verginica들은 잘 구분하지만\n",
    "# versicolor는 잘 예측하지 못하는 경우 발생함"
   ]
  },
  {
   "cell_type": "markdown",
   "id": "44fd6dae-e5da-443f-81f6-2cba8a80b2b4",
   "metadata": {},
   "source": [
    "## 데이터를 학습용/평가용 데이터로 분할 2\n",
    "* 독립변수의 속성들의 분포를 고려한 표본추출 필요\n",
    "   + => sklearn의 train_test_split 함수를 사용\n",
    "* train_test_split(독립변수, 종속변수, 훈련데이터크기,\n",
    "            평가데이터크기, 계층추출여부(분류용), 난수시드값)\n"
   ]
  },
  {
   "cell_type": "code",
   "execution_count": 31,
   "id": "5c6e628e-5d98-44e5-a521-0e049b4573d8",
   "metadata": {},
   "outputs": [],
   "source": [
    "from sklearn.model_selection import train_test_split\n",
    "\n",
    "X_train, X_test, Y_train,Y_test = train_test_split(iris.data,iris.target, train_size=0.7,\n",
    "                                stratify=iris.target, random_state=2211161135)"
   ]
  },
  {
   "cell_type": "markdown",
   "id": "97abf84e-a253-4877-b752-e4711360fd75",
   "metadata": {},
   "source": [
    "### 균등하게 분배"
   ]
  },
  {
   "cell_type": "code",
   "execution_count": 32,
   "id": "2511b174-6f68-47da-adac-b423a86d59d4",
   "metadata": {
    "collapsed": true,
    "jupyter": {
     "outputs_hidden": true
    },
    "tags": []
   },
   "outputs": [
    {
     "data": {
      "text/plain": [
       "0    35\n",
       "2    35\n",
       "1    35\n",
       "dtype: int64"
      ]
     },
     "execution_count": 32,
     "metadata": {},
     "output_type": "execute_result"
    }
   ],
   "source": [
    "pd.Series(Y_train).value_counts()"
   ]
  },
  {
   "cell_type": "code",
   "execution_count": 33,
   "id": "f2c74db3-71aa-43bf-bd65-558d12784125",
   "metadata": {
    "collapsed": true,
    "jupyter": {
     "outputs_hidden": true
    },
    "tags": []
   },
   "outputs": [
    {
     "data": {
      "text/plain": [
       "0    15\n",
       "2    15\n",
       "1    15\n",
       "dtype: int64"
      ]
     },
     "execution_count": 33,
     "metadata": {},
     "output_type": "execute_result"
    }
   ],
   "source": [
    "pd.Series(Y_test).value_counts()"
   ]
  },
  {
   "cell_type": "code",
   "execution_count": 34,
   "id": "fefc2a50-2e1e-40da-963d-fc384cfe6346",
   "metadata": {},
   "outputs": [
    {
     "data": {
      "text/plain": [
       "0.9777777777777777"
      ]
     },
     "execution_count": 34,
     "metadata": {},
     "output_type": "execute_result"
    }
   ],
   "source": [
    "# 모델 학습후 평가\n",
    "dtclf = DecisionTreeClassifier(random_state=2211161145)\n",
    "\n",
    "dtclf.fit(X_train, Y_train)\n",
    "pred = dtclf.predict(X_test)\n",
    "\n",
    "accuracy_score(Y_test,pred)"
   ]
  },
  {
   "cell_type": "markdown",
   "id": "996949f0-0c7a-4f72-8433-aadedb97322e",
   "metadata": {},
   "source": [
    "## 데이터를 학습용/평가용 데이터로 분할 3\n",
    "* 데이터수가 작은 경우 데이터의 일부인 평가 데이터도 작음\n",
    "   + => 성능 평가의 신뢰도 의심\n",
    "* 데이터를 동일한 크기로 k개 나누고 이들 중 훈련/평가데이터를 구분지어\n",
    "* 순환적으로 훈련 및 평가를 k번 실시함\n",
    "* K fold 교차검증이라 함\n",
    "* cross_val_score(분류기, feature, target, 평가지표, 검증횟수)\n"
   ]
  },
  {
   "cell_type": "code",
   "execution_count": 35,
   "id": "54986443-8301-47cf-9bd3-09e6ccab4c36",
   "metadata": {},
   "outputs": [],
   "source": [
    "from sklearn.model_selection import cross_val_score\n",
    "\n",
    "dtclf = DecisionTreeClassifier(random_state=2211161155)\n",
    "\n",
    "scores = cross_val_score(dtclf, iris.data, iris.target, scoring='accuracy', cv=10)"
   ]
  },
  {
   "cell_type": "code",
   "execution_count": 36,
   "id": "572bc5c1-56c0-40ec-a916-70fc95a69c0d",
   "metadata": {},
   "outputs": [
    {
     "data": {
      "text/plain": [
       "array([1.        , 0.93333333, 1.        , 0.93333333, 0.93333333,\n",
       "       0.86666667, 0.93333333, 1.        , 1.        , 1.        ])"
      ]
     },
     "execution_count": 36,
     "metadata": {},
     "output_type": "execute_result"
    }
   ],
   "source": [
    "scores"
   ]
  },
  {
   "cell_type": "code",
   "execution_count": 37,
   "id": "af05e054-d591-4514-a1ba-011e326c48a6",
   "metadata": {},
   "outputs": [
    {
     "data": {
      "text/plain": [
       "0.96"
      ]
     },
     "execution_count": 37,
     "metadata": {},
     "output_type": "execute_result"
    }
   ],
   "source": [
    "np.mean(scores)"
   ]
  },
  {
   "cell_type": "code",
   "execution_count": null,
   "id": "2bd18b52-f028-44e3-a65d-888a30085536",
   "metadata": {},
   "outputs": [],
   "source": []
  }
 ],
 "metadata": {
  "kernelspec": {
   "display_name": "Python 3 (ipykernel)",
   "language": "python",
   "name": "python3"
  },
  "language_info": {
   "codemirror_mode": {
    "name": "ipython",
    "version": 3
   },
   "file_extension": ".py",
   "mimetype": "text/x-python",
   "name": "python",
   "nbconvert_exporter": "python",
   "pygments_lexer": "ipython3",
   "version": "3.9.13"
  }
 },
 "nbformat": 4,
 "nbformat_minor": 5
}
