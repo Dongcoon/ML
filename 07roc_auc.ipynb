{
 "cells": [
  {
   "cell_type": "code",
   "execution_count": 80,
   "id": "04495321-1d0c-409f-bdea-7b04b4d15e9c",
   "metadata": {},
   "outputs": [],
   "source": [
    "import numpy as np\n",
    "import pandas as pd\n",
    "import matplotlib.pyplot as plt\n",
    "import seaborn as sns\n",
    "\n",
    "from sklearn.model_selection import train_test_split\n",
    "from sklearn.linear_model import LogisticRegression\n",
    "\n",
    "from sklearn.metrics import confusion_matrix\n",
    "from sklearn.metrics import accuracy_score\n",
    "from sklearn.metrics import recall_score\n",
    "from sklearn.metrics import precision_score\n",
    "\n",
    "from sklearn.metrics import roc_curve\n",
    "    from sklearn.metrics import roc_auc_score"
   ]
  },
  {
   "cell_type": "markdown",
   "id": "465598de-347a-47ff-903f-3ca4d5bfb7f7",
   "metadata": {},
   "source": [
    "## ROC\n",
    "* Receiver Operation Characteristic\n",
    "* 수신자 판단 곡선 \n",
    "* 세계 2차 대전 통신 장비 성능 평가를 위해 고안된 수치\n",
    "    + 레이더 데이터를 분석하여 적 항공기와 신호 소음을 구별하는 데 사용\n",
    "    + 수신기의 감도가 증가함에 따라 거짓 긍정의 수(즉, 특이성)이 감소함\n",
    "* 의학분야에 많이 사용되지만, 머신러닝의 이진 분류 모델 예측 성능 평가에도 사용\n",
    "* ROC곡선의 y축은 '민감도TPR'를, x축은 '1-재현율FPR'로 그림\n",
    "\n",
    "    + FPR : FP/(TN+FP) : 아군항공기 소리를 적항공기 소리라고 오판한 비율 - 낮아야 함\n",
    "    + TPR : TP/(TP+FN) : 적항공기 소리를 적항공기 소리라고 잘판단한 비율 - 높아야 함\n",
    "    + FPR이 변할때 TPR이 어떻게 변하는지 알아봄\n",
    "\n",
    "* 모델이 양성/긍정으로 예측했을때 얼마나 잘 맞추고 있는지를 설명한 것"
   ]
  },
  {
   "cell_type": "markdown",
   "id": "114c9aaf-44a3-480c-9c6e-f75a721d53dc",
   "metadata": {},
   "source": [
    "### ROC 그래프 그리기\n",
    "* 타이타닉 데이터셋으로 로지스틱회귀 분석한 후\n",
    "* 특이도, 재현율을 구한후 ROC 그래프 작성"
   ]
  },
  {
   "cell_type": "code",
   "execution_count": 50,
   "id": "19a1c68b-93ae-4640-88a0-962aa79ee4be",
   "metadata": {},
   "outputs": [],
   "source": [
    "titanic = pd.read_csv('data/titanic2.csv')"
   ]
  },
  {
   "cell_type": "code",
   "execution_count": 51,
   "id": "22d5a5ed-0523-49c7-99a8-e11c7c61508e",
   "metadata": {},
   "outputs": [],
   "source": [
    "data = titanic.iloc[:,:8]\n",
    "target = titanic.survived"
   ]
  },
  {
   "cell_type": "code",
   "execution_count": 52,
   "id": "0033c4ba-f59b-4e32-95a5-88aed71fd716",
   "metadata": {},
   "outputs": [],
   "source": [
    "X_train, X_test, Y_train,Y_test = train_test_split(data,target, train_size=0.7, stratify=target, random_state=2211171140)"
   ]
  },
  {
   "cell_type": "code",
   "execution_count": 55,
   "id": "1cdcb8ad-a87a-41e2-a574-bec2cf0fe059",
   "metadata": {},
   "outputs": [
    {
     "data": {
      "text/plain": [
       "0.8061224489795918"
      ]
     },
     "execution_count": 55,
     "metadata": {},
     "output_type": "execute_result"
    }
   ],
   "source": [
    "lrclf = LogisticRegression(max_iter=500)\n",
    "\n",
    "lrclf.fit(X_train, Y_train)\n",
    "pred = lrclf.predict(X_test)\n",
    "\n",
    "accuracy_score(Y_test,pred)"
   ]
  },
  {
   "cell_type": "code",
   "execution_count": null,
   "id": "7fdcc2b7-d93e-4a93-abd8-eb936cf08c3d",
   "metadata": {},
   "outputs": [],
   "source": []
  },
  {
   "cell_type": "code",
   "execution_count": 28,
   "id": "2d1fed6d-2969-4857-981a-7b713b321b2d",
   "metadata": {},
   "outputs": [
    {
     "data": {
      "text/plain": [
       "array([[193,  50],\n",
       "       [ 41, 108]], dtype=int64)"
      ]
     },
     "execution_count": 28,
     "metadata": {},
     "output_type": "execute_result"
    }
   ],
   "source": [
    "confusion_matrix(Y_test,pred)"
   ]
  },
  {
   "cell_type": "code",
   "execution_count": 29,
   "id": "4d17a82b-5d0e-4123-9bdf-90c524bb2283",
   "metadata": {},
   "outputs": [
    {
     "data": {
      "text/plain": [
       "0.7678571428571429"
      ]
     },
     "execution_count": 29,
     "metadata": {},
     "output_type": "execute_result"
    }
   ],
   "source": [
    "# 정확도\n",
    "accuracy_score(Y_test,pred)"
   ]
  },
  {
   "cell_type": "code",
   "execution_count": 31,
   "id": "477af611-db5b-4b0d-a4b7-4dc46d63f374",
   "metadata": {},
   "outputs": [
    {
     "data": {
      "text/plain": [
       "0.6835443037974683"
      ]
     },
     "execution_count": 31,
     "metadata": {},
     "output_type": "execute_result"
    }
   ],
   "source": [
    "# 정밀도\n",
    "precision_score(Y_test,pred)"
   ]
  },
  {
   "cell_type": "code",
   "execution_count": 32,
   "id": "23ed959d-fde9-4c91-9f54-1ec992bf4611",
   "metadata": {},
   "outputs": [
    {
     "data": {
      "text/plain": [
       "0.7248322147651006"
      ]
     },
     "execution_count": 32,
     "metadata": {},
     "output_type": "execute_result"
    }
   ],
   "source": [
    "# 재현율\n",
    "recall_score(Y_test,pred)"
   ]
  },
  {
   "cell_type": "code",
   "execution_count": 35,
   "id": "ef051dea-72a8-4a51-be95-33b99f094787",
   "metadata": {},
   "outputs": [
    {
     "data": {
      "text/plain": [
       "0.2751677852348993"
      ]
     },
     "execution_count": 35,
     "metadata": {},
     "output_type": "execute_result"
    }
   ],
   "source": [
    "41/(41+108)"
   ]
  },
  {
   "cell_type": "markdown",
   "id": "1aa7b24d-28eb-4885-8839-2ab585544497",
   "metadata": {},
   "source": [
    "## 분류 알고리즘 종류\n",
    "* 판별함수 모형\n",
    "    + 주어진 데이터를 범주category에 따라 서로 다른 영역으로 나누는 경계면decision boundary을 찾아낸 후, 이 경계면을 기준으로 데이터가 어디에 있는지를 계산하는 함수를 이용\n",
    "* 확률적 판별/생성 모형 \n",
    "    + 주어진 데이터에 대해 각 범주category/레이블이 정답일 조건부확률을 계산하는 방법에 따라 **조건부 확률함수를 추정**하거나 베이즈 정리를 사용해서 분류하는 모형\n",
    "* 따라서, 분류기의 **예측 불확실성**을 추정하려면 scikit-learn에서 제공하는 2가지 함수를 사용\n",
    "     + decision function, `predict_proba`\n"
   ]
  },
  {
   "cell_type": "markdown",
   "id": "f6943930-c639-48af-ac40-e0063d0ece4d",
   "metadata": {},
   "source": [
    "### 타이타닉 생존 예측확률 알아보기 1"
   ]
  },
  {
   "cell_type": "code",
   "execution_count": 58,
   "id": "33c2cadd-5fc7-47d9-a689-9fdd6d3ad06e",
   "metadata": {},
   "outputs": [
    {
     "data": {
      "text/html": [
       "<div>\n",
       "<style scoped>\n",
       "    .dataframe tbody tr th:only-of-type {\n",
       "        vertical-align: middle;\n",
       "    }\n",
       "\n",
       "    .dataframe tbody tr th {\n",
       "        vertical-align: top;\n",
       "    }\n",
       "\n",
       "    .dataframe thead th {\n",
       "        text-align: right;\n",
       "    }\n",
       "</style>\n",
       "<table border=\"1\" class=\"dataframe\">\n",
       "  <thead>\n",
       "    <tr style=\"text-align: right;\">\n",
       "      <th></th>\n",
       "      <th>pclass</th>\n",
       "      <th>age</th>\n",
       "      <th>sibsp</th>\n",
       "      <th>parch</th>\n",
       "      <th>fare</th>\n",
       "      <th>gender</th>\n",
       "      <th>Embarked</th>\n",
       "      <th>Title</th>\n",
       "    </tr>\n",
       "  </thead>\n",
       "  <tbody>\n",
       "    <tr>\n",
       "      <th>951</th>\n",
       "      <td>3</td>\n",
       "      <td>22.0</td>\n",
       "      <td>0</td>\n",
       "      <td>0</td>\n",
       "      <td>7.2250</td>\n",
       "      <td>1</td>\n",
       "      <td>0</td>\n",
       "      <td>13</td>\n",
       "    </tr>\n",
       "    <tr>\n",
       "      <th>364</th>\n",
       "      <td>2</td>\n",
       "      <td>54.0</td>\n",
       "      <td>1</td>\n",
       "      <td>0</td>\n",
       "      <td>26.0000</td>\n",
       "      <td>1</td>\n",
       "      <td>2</td>\n",
       "      <td>16</td>\n",
       "    </tr>\n",
       "    <tr>\n",
       "      <th>1125</th>\n",
       "      <td>3</td>\n",
       "      <td>19.0</td>\n",
       "      <td>0</td>\n",
       "      <td>0</td>\n",
       "      <td>7.8958</td>\n",
       "      <td>1</td>\n",
       "      <td>2</td>\n",
       "      <td>13</td>\n",
       "    </tr>\n",
       "  </tbody>\n",
       "</table>\n",
       "</div>"
      ],
      "text/plain": [
       "      pclass   age  sibsp  parch     fare  gender  Embarked  Title\n",
       "951        3  22.0      0      0   7.2250       1         0     13\n",
       "364        2  54.0      1      0  26.0000       1         2     16\n",
       "1125       3  19.0      0      0   7.8958       1         2     13"
      ]
     },
     "execution_count": 58,
     "metadata": {},
     "output_type": "execute_result"
    }
   ],
   "source": [
    "X_test[:3]"
   ]
  },
  {
   "cell_type": "code",
   "execution_count": 59,
   "id": "f548d422-5f4a-4ff3-9368-9c69113993d6",
   "metadata": {},
   "outputs": [
    {
     "data": {
      "text/plain": [
       "array([0, 0, 0], dtype=int64)"
      ]
     },
     "execution_count": 59,
     "metadata": {},
     "output_type": "execute_result"
    }
   ],
   "source": [
    "# 판별함수 모형으로 생존여부 확인 : 이산형 수치로 출력\n",
    "lrclf.predict(X_test[:3])"
   ]
  },
  {
   "cell_type": "code",
   "execution_count": 60,
   "id": "81e4c5bd-61a4-4389-9ccc-e0b68ddec0d6",
   "metadata": {},
   "outputs": [
    {
     "data": {
      "text/plain": [
       "array([[0.81781522, 0.18218478],\n",
       "       [0.90536551, 0.09463449],\n",
       "       [0.87151445, 0.12848555]])"
      ]
     },
     "execution_count": 60,
     "metadata": {},
     "output_type": "execute_result"
    }
   ],
   "source": [
    "# 확률적 판별/생lrclf.predict_(X_test[:3])성 모형으로 생존여부 확인\n",
    "lrclf.predict_proba(X_test[:3])"
   ]
  },
  {
   "cell_type": "markdown",
   "id": "ec2c1a37-512b-4917-81c3-78ca1e013815",
   "metadata": {},
   "source": [
    "### 타이타닉 승객 생존 여부 확률값 추출\n",
    "+ 타이타닉 승객 생존 여부에서 생존(1)이 주된 관심사이므로\n",
    "+ 생존에 대한 확률값만 따로 추출"
   ]
  },
  {
   "cell_type": "code",
   "execution_count": 61,
   "id": "0d0fbe7c-e21b-4254-ba36-350354dfb24e",
   "metadata": {},
   "outputs": [
    {
     "data": {
      "text/plain": [
       "array([0.18218478, 0.09463449, 0.12848555])"
      ]
     },
     "execution_count": 61,
     "metadata": {},
     "output_type": "execute_result"
    }
   ],
   "source": [
    "pred_proba = lrclf.predict_proba(X_test)\n",
    "pred_proba[:3,1]"
   ]
  },
  {
   "cell_type": "code",
   "execution_count": 66,
   "id": "352ba6f5-6135-4cc8-bfd2-e795b577c72e",
   "metadata": {},
   "outputs": [],
   "source": [
    "# 실제값, 확률값, 예측값을\n",
    "# 하나의 데이터프레임으로 작성\n",
    "table = pd.DataFrame()\n",
    "table['실제값'] = Y_test\n",
    "table['생존 활률값'] = pred_proba[:,1]\n",
    "table['예측값'] = lrclf.predict(X_test)"
   ]
  },
  {
   "cell_type": "code",
   "execution_count": 67,
   "id": "4a81365f-42f4-47e7-a553-ab1c79a91f20",
   "metadata": {
    "collapsed": true,
    "jupyter": {
     "outputs_hidden": true
    },
    "tags": []
   },
   "outputs": [
    {
     "data": {
      "text/html": [
       "<div>\n",
       "<style scoped>\n",
       "    .dataframe tbody tr th:only-of-type {\n",
       "        vertical-align: middle;\n",
       "    }\n",
       "\n",
       "    .dataframe tbody tr th {\n",
       "        vertical-align: top;\n",
       "    }\n",
       "\n",
       "    .dataframe thead th {\n",
       "        text-align: right;\n",
       "    }\n",
       "</style>\n",
       "<table border=\"1\" class=\"dataframe\">\n",
       "  <thead>\n",
       "    <tr style=\"text-align: right;\">\n",
       "      <th></th>\n",
       "      <th>실제값</th>\n",
       "      <th>생존 활률값</th>\n",
       "      <th>예측값</th>\n",
       "    </tr>\n",
       "  </thead>\n",
       "  <tbody>\n",
       "    <tr>\n",
       "      <th>951</th>\n",
       "      <td>1</td>\n",
       "      <td>0.182185</td>\n",
       "      <td>0</td>\n",
       "    </tr>\n",
       "    <tr>\n",
       "      <th>364</th>\n",
       "      <td>0</td>\n",
       "      <td>0.094634</td>\n",
       "      <td>0</td>\n",
       "    </tr>\n",
       "    <tr>\n",
       "      <th>1125</th>\n",
       "      <td>0</td>\n",
       "      <td>0.128486</td>\n",
       "      <td>0</td>\n",
       "    </tr>\n",
       "    <tr>\n",
       "      <th>1170</th>\n",
       "      <td>0</td>\n",
       "      <td>0.188228</td>\n",
       "      <td>0</td>\n",
       "    </tr>\n",
       "    <tr>\n",
       "      <th>393</th>\n",
       "      <td>1</td>\n",
       "      <td>0.822625</td>\n",
       "      <td>1</td>\n",
       "    </tr>\n",
       "  </tbody>\n",
       "</table>\n",
       "</div>"
      ],
      "text/plain": [
       "      실제값    생존 활률값  예측값\n",
       "951     1  0.182185    0\n",
       "364     0  0.094634    0\n",
       "1125    0  0.128486    0\n",
       "1170    0  0.188228    0\n",
       "393     1  0.822625    1"
      ]
     },
     "execution_count": 67,
     "metadata": {},
     "output_type": "execute_result"
    }
   ],
   "source": [
    "table.head()"
   ]
  },
  {
   "cell_type": "markdown",
   "id": "c26f58ba-77ab-40e4-88c2-bf8d1f21163c",
   "metadata": {},
   "source": [
    "### 각 예측값 별 특이도fprs, 민감도/재현율tprs, 임계값을 구함\n",
    "+ tprs : 실제값이 양성(승객 생존)이고 예측값이 양성(승객 생존)으로 예측되는 정도\n",
    "+ fprs : 실제값이 음성(승객 사망)인데 예측값이 양성(승객 생존)으로 예측되는 정도\n",
    "+ thresholds : 임계값"
   ]
  },
  {
   "cell_type": "code",
   "execution_count": 72,
   "id": "b64e7d9f-ae34-4ad0-b996-9d8cf34268c8",
   "metadata": {},
   "outputs": [
    {
     "name": "stdout",
     "output_type": "stream",
     "text": [
      "양성tprs 결과 [0.         0.00671141 0.20134228 0.20134228 0.36912752]\n",
      "양성fprs 결과 [0.         0.         0.         0.00411523 0.00411523]\n",
      "임계값 결과 [1.94469716 0.94469716 0.88689677 0.87541853 0.78352177]\n"
     ]
    }
   ],
   "source": [
    "fprs, tprs, thresholds = roc_curve(Y_test,pred_proba[:,1])\n",
    "print('양성tprs 결과', tprs[:5])\n",
    "print('양성fprs 결과', fprs[:5])\n",
    "print('임계값 결과', thresholds[:5])\n",
    "# 임계값에 따라 tprs, fprs 가 달라져 보임"
   ]
  },
  {
   "cell_type": "markdown",
   "id": "c6b0bfc0-00c3-4bd9-81bc-c4f43b1ff101",
   "metadata": {},
   "source": [
    "## 특이도fprs, 민감도/재현율tprs 시각화"
   ]
  },
  {
   "cell_type": "code",
   "execution_count": 74,
   "id": "fa86e7fe-9f97-48fa-8b80-a2fa1430ad6d",
   "metadata": {
    "collapsed": true,
    "jupyter": {
     "outputs_hidden": true
    },
    "tags": []
   },
   "outputs": [
    {
     "data": {
      "text/html": [
       "<div>\n",
       "<style scoped>\n",
       "    .dataframe tbody tr th:only-of-type {\n",
       "        vertical-align: middle;\n",
       "    }\n",
       "\n",
       "    .dataframe tbody tr th {\n",
       "        vertical-align: top;\n",
       "    }\n",
       "\n",
       "    .dataframe thead th {\n",
       "        text-align: right;\n",
       "    }\n",
       "</style>\n",
       "<table border=\"1\" class=\"dataframe\">\n",
       "  <thead>\n",
       "    <tr style=\"text-align: right;\">\n",
       "      <th></th>\n",
       "      <th>tprs</th>\n",
       "      <th>fprs</th>\n",
       "      <th>thresholds</th>\n",
       "    </tr>\n",
       "  </thead>\n",
       "  <tbody>\n",
       "    <tr>\n",
       "      <th>0</th>\n",
       "      <td>0.000000</td>\n",
       "      <td>0.000000</td>\n",
       "      <td>1.944697</td>\n",
       "    </tr>\n",
       "    <tr>\n",
       "      <th>1</th>\n",
       "      <td>0.006711</td>\n",
       "      <td>0.000000</td>\n",
       "      <td>0.944697</td>\n",
       "    </tr>\n",
       "    <tr>\n",
       "      <th>2</th>\n",
       "      <td>0.201342</td>\n",
       "      <td>0.000000</td>\n",
       "      <td>0.886897</td>\n",
       "    </tr>\n",
       "    <tr>\n",
       "      <th>3</th>\n",
       "      <td>0.201342</td>\n",
       "      <td>0.004115</td>\n",
       "      <td>0.875419</td>\n",
       "    </tr>\n",
       "    <tr>\n",
       "      <th>4</th>\n",
       "      <td>0.369128</td>\n",
       "      <td>0.004115</td>\n",
       "      <td>0.783522</td>\n",
       "    </tr>\n",
       "  </tbody>\n",
       "</table>\n",
       "</div>"
      ],
      "text/plain": [
       "       tprs      fprs  thresholds\n",
       "0  0.000000  0.000000    1.944697\n",
       "1  0.006711  0.000000    0.944697\n",
       "2  0.201342  0.000000    0.886897\n",
       "3  0.201342  0.004115    0.875419\n",
       "4  0.369128  0.004115    0.783522"
      ]
     },
     "execution_count": 74,
     "metadata": {},
     "output_type": "execute_result"
    }
   ],
   "source": [
    "# 특이도, 민감도, 임계값을 데이터프레임에 합침\n",
    "roc = pd.DataFrame({'tprs':tprs,'fprs':fprs,'thresholds':thresholds})\n",
    "\n",
    "roc.head()"
   ]
  },
  {
   "cell_type": "code",
   "execution_count": 76,
   "id": "94b9d84e-cbd4-47c4-a7ec-63526db5afe9",
   "metadata": {},
   "outputs": [
    {
     "data": {
      "image/png": "[encoded data removed]",
      "text/plain": [
       "<Figure size 577.25x500 with 1 Axes>"
      ]
     },
     "metadata": {},
     "output_type": "display_data"
    }
   ],
   "source": [
    "sns.displot(roc.iloc[:, [0,1]],kind = 'kde')\n",
    "plt.show()"
   ]
  },
  {
   "cell_type": "markdown",
   "id": "f363b2d6-a707-4383-aa05-01c2d6a6d01e",
   "metadata": {},
   "source": [
    "### 최적임계값 알아보기\n",
    "+ argmax : 가장 큰값을 지닌 요소의 index값 출력"
   ]
  },
  {
   "cell_type": "code",
   "execution_count": 77,
   "id": "3dfdf0d3-2e94-4cf9-83bb-0587dbee2521",
   "metadata": {},
   "outputs": [
    {
     "data": {
      "text/plain": [
       "0.6331691748111533"
      ]
     },
     "execution_count": 77,
     "metadata": {},
     "output_type": "execute_result"
    }
   ],
   "source": [
    "optidx = np.argmax(tprs - fprs)\n",
    "thresholds[optidx]"
   ]
  },
  {
   "cell_type": "markdown",
   "id": "7c560794-561f-44f6-9ed9-890b5f71ec69",
   "metadata": {},
   "source": [
    "### ROC 그래프 그리기\n",
    "+ 분류를 잘 하는 모델일수록 커브는 1에 가깝게 표시\n",
    "+ fpr, tpr 그래프의 겹친 부분이 크다 - 변별력 낮음 - 곡선이 0에 가깝게 붙어서 출력\n",
    "+ fpr, tpr 그래프가 겹친 부분이 작다 - 변별력 높음 - 곡선이 1에 가깝게 붙어서 출력"
   ]
  },
  {
   "cell_type": "code",
   "execution_count": 79,
   "id": "72769338-db68-4457-869e-d6dc2db27b0a",
   "metadata": {},
   "outputs": [
    {
     "data": {
      "image/png": "[encoded data removed]",
      "text/plain": [
       "<Figure size 640x480 with 1 Axes>"
      ]
     },
     "metadata": {},
     "output_type": "display_data"
    }
   ],
   "source": [
    "plt.plot(fprs, tprs,'r')\n",
    "plt.plot([0,1],[0,1],'k--')\n",
    "\n",
    "plt.xlabel('FPRS')\n",
    "plt.ylabel('TPRS')\n",
    "\n",
    "plt.show()"
   ]
  },
  {
   "cell_type": "markdown",
   "id": "f7b1a751-a0fa-424d-a8c1-cf0cc5da6543",
   "metadata": {},
   "source": [
    "## AUC\n",
    "* Area Under Curve\n",
    "* ROC 곡선 밑의 면적을 구한 값\n",
    "* 1에 가까울 수록 좋은 수치를 의미함\n",
    "    + 0.9 ~ 1 : excellent\n",
    "    + 0.8 ~ 0.9 : good\n",
    "    + 0.7 ~ 0.8 : normal"
   ]
  },
  {
   "cell_type": "code",
   "execution_count": 81,
   "id": "6fdb84fd-3726-4a7f-be8c-889db4ca8090",
   "metadata": {},
   "outputs": [
    {
     "data": {
      "text/plain": [
       "0.7852072803601514"
      ]
     },
     "execution_count": 81,
     "metadata": {},
     "output_type": "execute_result"
    }
   ],
   "source": [
    "roc_auc_score(Y_test,pred)"
   ]
  },
  {
   "cell_type": "code",
   "execution_count": null,
   "id": "03f0de58-a84c-43c9-9ebb-f18f5d26f0b4",
   "metadata": {},
   "outputs": [],
   "source": []
  }
 ],
 "metadata": {
  "kernelspec": {
   "display_name": "Python 3 (ipykernel)",
   "language": "python",
   "name": "python3"
  },
  "language_info": {
   "codemirror_mode": {
    "name": "ipython",
    "version": 3
   },
   "file_extension": ".py",
   "mimetype": "text/x-python",
   "name": "python",
   "nbconvert_exporter": "python",
   "pygments_lexer": "ipython3",
   "version": "3.9.13"
  }
 },
 "nbformat": 4,
 "nbformat_minor": 5
}
