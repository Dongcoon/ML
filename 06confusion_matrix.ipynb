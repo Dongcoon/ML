{
 "cells": [
  {
   "cell_type": "markdown",
   "id": "d2eca6dc-95b0-4e4a-9cb2-1d8e4f49e268",
   "metadata": {},
   "source": [
    "## 머신러닝의 모델평가\n",
    "* 일반적으로 머신러닝은 \n",
    "    + 데이터 가공/변환(전처리)\n",
    "    + 모델 학습/예측\n",
    "    + 평가의 과정을 거침\n",
    "* 앞의 타이타닉 예제에서 모델의 평가는 **정확도**만 사용했음\n",
    "* 한편, 머신러닝의 예측성능의 평가방법은 다양함\n",
    "    + 회귀 - R^2, MSE평균제곱오차\n",
    "    + 분류 - 혼동(오차)행렬, 크로스엔트로피, 최대우도, ROC, AUC, F1스코어"
   ]
  },
  {
   "cell_type": "markdown",
   "id": "94287c9d-1fe7-4b6c-b673-dc0b7c2a08ca",
   "metadata": {},
   "source": [
    "## 정확도의 함정\n",
    "* 앞의 타이타닉 생존자 ML예제의 정확도는 평균 80%였음\n",
    "* 그런데 정확도 지표만으로 ML 모델의 성능을 파악하기에는 다소 문제가 있음 - 왜곡의 위험\n",
    "* 즉, 탐색적 분석을 시행했을때 성별을 기준으로 생존비율은 여성일 때가 더 높았음\n",
    "* 따라서, 굳이 ML 알고리즘을 적용하지 않아도 성별이 여성일 경우 생존, 남성일 경우 사망이라고 예측해도 크게 무리 없음\n",
    "* 단순히 성별 조건 하나만 적용해도 별거 아닌 알고리즘으로도 높은 정확도가 나타나는 상황 발생"
   ]
  },
  {
   "cell_type": "markdown",
   "id": "3b0b76f4-2839-466b-b7a4-9ef45508fcc7",
   "metadata": {},
   "source": [
    "### 가짜 분류기 생성\n",
    "* 성별이 남자면 사망\n",
    "* 성별이 여자면 생존이라고 예측하는 더미분류기 생성"
   ]
  },
  {
   "cell_type": "code",
   "execution_count": 1,
   "id": "74ed2cf4-7ac3-460c-a3a2-af40041a032f",
   "metadata": {},
   "outputs": [],
   "source": [
    "from sklearn.base import BaseEstimator\n",
    "\n",
    "class MyDummyClassifier(BaseEstimator):\n",
    "    # 아무것도 학습하지 않는 fit 메서드 정의\n",
    "    def fit(self, X, y=None):\n",
    "        pass\n",
    "\n",
    "    # 성별이 1(남성)이면 0(사망), 0이면 1\n",
    "    def predict(self, X):\n",
    "        pred = np.zeros((X.shape[0], 1))\n",
    "        # 입력데이터 크기만큼 0으로 채워진 1차원 행렬 생성\n",
    "\n",
    "        for i in range(X.shape[0]):\n",
    "            if X['gender'].iloc[i] != 1:\n",
    "                pred[i] = 1\n",
    "            # 성별이 여성인 경우 1로 설정\n",
    "\n",
    "        return pred"
   ]
  },
  {
   "cell_type": "code",
   "execution_count": 87,
   "id": "ff2ddfd1-b0c1-4b63-bc81-0ddb13eaa8bc",
   "metadata": {},
   "outputs": [],
   "source": [
    "import numpy as np\n",
    "import pandas as pd\n",
    "import matplotlib.pyplot as plt\n",
    "\n",
    "from sklearn.model_selection import train_test_split\n",
    "from sklearn.model_selection import cross_val_score\n",
    "from sklearn.ensemble import RandomForestClassifier\n",
    "from sklearn.metrics import accuracy_score\n",
    "from sklearn.tree import DecisionTreeClassifier"
   ]
  },
  {
   "cell_type": "code",
   "execution_count": 14,
   "id": "5d884ee3-46f3-49e8-88d2-1f71d40a4fc3",
   "metadata": {},
   "outputs": [],
   "source": [
    "titanic = pd.read_csv('data/titanic2.csv')\n",
    "\n",
    "data = titanic.iloc[:, :]\n",
    "target = titanic.survived"
   ]
  },
  {
   "cell_type": "code",
   "execution_count": 15,
   "id": "ec9277e9-549a-43b8-a791-07c862391b9b",
   "metadata": {},
   "outputs": [],
   "source": [
    "X_train, X_test, Y_train,Y_test = train_test_split(data,target, train_size=0.7, stratify=target)"
   ]
  },
  {
   "cell_type": "code",
   "execution_count": 16,
   "id": "b91b873d-55fa-4a3e-93f8-9cf4f4a6df7c",
   "metadata": {},
   "outputs": [
    {
     "data": {
      "text/plain": [
       "0.7678571428571429"
      ]
     },
     "execution_count": 16,
     "metadata": {},
     "output_type": "execute_result"
    }
   ],
   "source": [
    "dtclf = MyDummyClassifier()\n",
    "\n",
    "dtclf.fit(X_train, Y_train)\n",
    "pred = dtclf.predict(X_test)\n",
    "\n",
    "accuracy_score(Y_test,pred)"
   ]
  },
  {
   "cell_type": "code",
   "execution_count": null,
   "id": "64317d6e-b27d-4969-8a67-8a4aac8f271e",
   "metadata": {},
   "outputs": [],
   "source": [
    "# 즉, 이렇게 단순한 알고리즘만으로 예측하더라도\n",
    "# 데이터의 구성에 따라 정확도가 약 76%가 나옴\n",
    "# 불균형한 레이블의 비율()에서는 \n",
    "# 정확도 지표만으로 모델 성능을 평가하는 것은 올바르지 않음\n",
    "\n",
    "# 예를 들어, 100개의 종속변수 중 90개의 레이블 0이고, 10개의 레이블이 1인 경우, \n",
    "# 무조건 0으로 예측결과를 반환하는 머신러닝 알고리즘의 정확도는 90%임!\n",
    "# 즉, 선생님이 시험 정답지의 답을 1로만 작성한 경우, \n",
    "# 학생이 1로 찍기만 해도 100점을 맞는 경우와 비슷한 상황임!\n",
    "\n",
    "# 따라서, 불균형한 레이블 데이터세트의 성능수치로 \n",
    "# 정확도 평가지표를 사용하면 안됨\n",
    "# 이러한 한계를 극복하기 위해 오차행렬 사용\n",
    "# 특히, 정확도보다는 정밀도, 재현율을 더 선호"
   ]
  },
  {
   "cell_type": "markdown",
   "id": "6d446ca6-9403-4e1f-85ec-50efdecfb132",
   "metadata": {},
   "source": [
    "# 오차행렬\n",
    "<img src='img/confusion_matrix.png' width='%'>"
   ]
  },
  {
   "cell_type": "code",
   "execution_count": 29,
   "id": "22b9626d-65ba-4ac4-9412-cda1963ede98",
   "metadata": {},
   "outputs": [
    {
     "data": {
      "text/plain": [
       "array([[204,  39],\n",
       "       [ 52,  97]], dtype=int64)"
      ]
     },
     "execution_count": 29,
     "metadata": {},
     "output_type": "execute_result"
    }
   ],
   "source": [
    "from sklearn.metrics import confusion_matrix\n",
    "\n",
    "confusion_matrix(Y_test,pred)"
   ]
  },
  {
   "cell_type": "markdown",
   "id": "bbd299a2-2433-4929-b400-8abd298a71c4",
   "metadata": {},
   "source": [
    "## 정확도accuracy\n",
    "* 맞는 것(양성, Positive, 1)을 맞다고, 틀린 것(음성, Negative, 0)을 틀리다고 올바르게 예측한 것\n",
    "* $ accuracy = \\frac {TP + TN} {TP + FN + FP + TN} $\n",
    "* 위 오차행렬 대각선 부분"
   ]
  },
  {
   "cell_type": "code",
   "execution_count": 18,
   "id": "67105e97-49d1-4114-a690-ac3f95622c48",
   "metadata": {},
   "outputs": [
    {
     "data": {
      "text/plain": [
       "0.7678571428571429"
      ]
     },
     "execution_count": 18,
     "metadata": {},
     "output_type": "execute_result"
    }
   ],
   "source": [
    "accuracy_score(Y_test,pred)"
   ]
  },
  {
   "cell_type": "code",
   "execution_count": 20,
   "id": "6ecf3b76-bd89-4c7b-a36d-7bd1d05340e0",
   "metadata": {},
   "outputs": [
    {
     "data": {
      "text/plain": [
       "0.7678571428571429"
      ]
     },
     "execution_count": 20,
     "metadata": {},
     "output_type": "execute_result"
    }
   ],
   "source": [
    "(204+97) / (204+39+52+97)"
   ]
  },
  {
   "cell_type": "markdown",
   "id": "4171e819-dc55-4d0a-9077-30b4ac419471",
   "metadata": {},
   "source": [
    "## 정밀도Precision\n",
    "* **모델의 예측값**이 얼마나 올바른지 알아봄 - 스팸분야\n",
    "* $precision = \\frac {TP} {TP+FP}$\n",
    "* 위 오차행렬 1열 부분"
   ]
  },
  {
   "cell_type": "code",
   "execution_count": 40,
   "id": "c76a6d15-6885-4f29-b588-2e32e2971968",
   "metadata": {},
   "outputs": [
    {
     "data": {
      "text/plain": [
       "array([[204,  39],\n",
       "       [ 52,  97]], dtype=int64)"
      ]
     },
     "execution_count": 40,
     "metadata": {},
     "output_type": "execute_result"
    }
   ],
   "source": [
    "confusion_matrix(Y_test,pred)"
   ]
  },
  {
   "cell_type": "code",
   "execution_count": 31,
   "id": "ae02df44-78be-4fb4-88e0-430c232fcf39",
   "metadata": {},
   "outputs": [
    {
     "data": {
      "text/plain": [
       "0.7132352941176471"
      ]
     },
     "execution_count": 31,
     "metadata": {},
     "output_type": "execute_result"
    }
   ],
   "source": [
    "from sklearn.metrics import precision_score\n",
    "\n",
    "precision_score(Y_test,pred)"
   ]
  },
  {
   "cell_type": "code",
   "execution_count": 37,
   "id": "485abdeb-1a41-4ed3-8ccd-af163fe96a50",
   "metadata": {},
   "outputs": [
    {
     "data": {
      "text/plain": [
       "0.796875"
      ]
     },
     "execution_count": 37,
     "metadata": {},
     "output_type": "execute_result"
    }
   ],
   "source": [
    "(204) / (204 + 52)"
   ]
  },
  {
   "cell_type": "code",
   "execution_count": 27,
   "id": "1342b0f5-2ee5-46a4-a2f8-e410ea61c89b",
   "metadata": {},
   "outputs": [
    {
     "name": "stdout",
     "output_type": "stream",
     "text": [
      "              precision    recall  f1-score   support\n",
      "\n",
      "           0       0.80      0.84      0.82       243\n",
      "           1       0.71      0.65      0.68       149\n",
      "\n",
      "    accuracy                           0.77       392\n",
      "   macro avg       0.76      0.75      0.75       392\n",
      "weighted avg       0.77      0.77      0.77       392\n",
      "\n"
     ]
    }
   ],
   "source": [
    "from sklearn.metrics import classification_report\n",
    "\n",
    "print(classification_report(Y_test,pred))"
   ]
  },
  {
   "cell_type": "markdown",
   "id": "5783d29b-3739-4075-8d76-471921b2d60a",
   "metadata": {},
   "source": [
    "## 재현율Recall\n",
    "* 실제로 중 맞다고 예측된 것들의 비율\n",
    "* 민감도Sensitivity(통계학), 적중률hit rate(마케팅) - 임상분류\n",
    "* $recall = \\frac {TP} {TP+FN}$\n",
    "* 위 오차행렬 1행 부분"
   ]
  },
  {
   "cell_type": "code",
   "execution_count": 100,
   "id": "72db06ba-9093-43dc-b39f-9235ff3b169f",
   "metadata": {},
   "outputs": [],
   "source": [
    "from sklearn.metrics import recall_score"
   ]
  },
  {
   "cell_type": "code",
   "execution_count": 41,
   "id": "d95c5714-120f-426c-88dd-f5e46399c5a8",
   "metadata": {},
   "outputs": [
    {
     "data": {
      "text/plain": [
       "array([[204,  39],\n",
       "       [ 52,  97]], dtype=int64)"
      ]
     },
     "execution_count": 41,
     "metadata": {},
     "output_type": "execute_result"
    }
   ],
   "source": [
    "confusion_matrix(Y_test,pred)"
   ]
  },
  {
   "cell_type": "code",
   "execution_count": 42,
   "id": "8da7d641-8c60-4cef-a44b-9366b62c7285",
   "metadata": {},
   "outputs": [
    {
     "data": {
      "text/plain": [
       "0.8395061728395061"
      ]
     },
     "execution_count": 42,
     "metadata": {},
     "output_type": "execute_result"
    }
   ],
   "source": [
    "(204) / (204+39)"
   ]
  },
  {
   "cell_type": "code",
   "execution_count": null,
   "id": "c9ae8878-9b0b-427f-8745-5d0ba5bdd0b2",
   "metadata": {},
   "outputs": [],
   "source": []
  },
  {
   "cell_type": "markdown",
   "id": "3f09d1f2-f573-4ec8-8ecd-01775883b607",
   "metadata": {},
   "source": [
    "## 특이도Specificity\n",
    "* 틀린 것 중 틀리다고 예측된 것들의 비율\n",
    "* (FP) / (TN+FP)\n",
    "* 오차행렬의 2행 부분"
   ]
  },
  {
   "cell_type": "code",
   "execution_count": 38,
   "id": "bd824f63-6db7-4ffb-b9d6-5623c7bdeb19",
   "metadata": {},
   "outputs": [
    {
     "data": {
      "text/plain": [
       "array([[204,  39],\n",
       "       [ 52,  97]], dtype=int64)"
      ]
     },
     "execution_count": 38,
     "metadata": {},
     "output_type": "execute_result"
    }
   ],
   "source": [
    "confusion_matrix(Y_test,pred)"
   ]
  },
  {
   "cell_type": "code",
   "execution_count": 39,
   "id": "3bece87a-12ef-4dc4-aec1-e219f3ee5dc4",
   "metadata": {},
   "outputs": [
    {
     "data": {
      "text/plain": [
       "0.348993288590604"
      ]
     },
     "execution_count": 39,
     "metadata": {},
     "output_type": "execute_result"
    }
   ],
   "source": [
    "(52) / (97 + 52)"
   ]
  },
  {
   "cell_type": "markdown",
   "id": "aa2cc9a8-1c51-43d3-b75b-77a0d5e04d80",
   "metadata": {},
   "source": [
    "### 간단예제 - 정확도, 정밀도, 재현율(민감도)\n",
    "* 6마리의 동물형상 중 개p/고양이n를 맞추는 게임을 진행\n",
    "* <pre>정답 = [개     개     개 고양이 개     고양이]</pre>\n",
    "* <pre>예측 = [개     고양이 개 고양이 개     개    ]</pre>"
   ]
  },
  {
   "cell_type": "markdown",
   "id": "65a453d1-af42-49f5-8e20-43421904ba61",
   "metadata": {},
   "source": [
    "### 오차행렬"
   ]
  },
  {
   "cell_type": "code",
   "execution_count": null,
   "id": "9d1fd5a9-e1e8-4a95-98f3-ba2796357c73",
   "metadata": {},
   "outputs": [],
   "source": [
    "# 개 : 1, 고양이 : 0\n",
    "tp = 3 | fn = 1\n",
    "fp = 1 | tn = 1"
   ]
  },
  {
   "cell_type": "code",
   "execution_count": 93,
   "id": "bc3ab57c-5df1-4e03-8e41-f4d708eb7b6b",
   "metadata": {},
   "outputs": [],
   "source": [
    "Y_test = ['개', '개', '개', '고양이', '개', '고양이']\n",
    "pred = ['개', '고양이', '개', '고양이', '개', '개' ]"
   ]
  },
  {
   "cell_type": "code",
   "execution_count": 96,
   "id": "81639081-bd47-44c3-b489-15f18b09c916",
   "metadata": {},
   "outputs": [
    {
     "name": "stdout",
     "output_type": "stream",
     "text": [
      "              precision    recall  f1-score   support\n",
      "\n",
      "           개       0.75      0.75      0.75         4\n",
      "         고양이       0.50      0.50      0.50         2\n",
      "\n",
      "    accuracy                           0.67         6\n",
      "   macro avg       0.62      0.62      0.62         6\n",
      "weighted avg       0.67      0.67      0.67         6\n",
      "\n"
     ]
    }
   ],
   "source": [
    "print(classification_report(Y_test,pred))"
   ]
  },
  {
   "cell_type": "code",
   "execution_count": 94,
   "id": "08597667-1a17-4f59-baf7-f71b26871622",
   "metadata": {},
   "outputs": [
    {
     "data": {
      "text/plain": [
       "array([[3, 1],\n",
       "       [1, 1]], dtype=int64)"
      ]
     },
     "execution_count": 94,
     "metadata": {},
     "output_type": "execute_result"
    }
   ],
   "source": [
    "confusion_matrix(Y_test,pred)"
   ]
  },
  {
   "cell_type": "markdown",
   "id": "4550240e-bae5-458b-81a5-d7ed82b6ad8c",
   "metadata": {},
   "source": [
    "### 정확도 - 전체 정확도"
   ]
  },
  {
   "cell_type": "code",
   "execution_count": 95,
   "id": "c22307e3-9fc7-47fe-ac73-6dba9f5c1f3f",
   "metadata": {},
   "outputs": [
    {
     "data": {
      "text/plain": [
       "0.6666666666666666"
      ]
     },
     "execution_count": 95,
     "metadata": {},
     "output_type": "execute_result"
    }
   ],
   "source": [
    "accuracy_score(Y_test,pred)"
   ]
  },
  {
   "cell_type": "code",
   "execution_count": 75,
   "id": "a449d008-73bf-4b26-a89c-bbded81cbb19",
   "metadata": {},
   "outputs": [
    {
     "data": {
      "text/plain": [
       "0.6666666666666666"
      ]
     },
     "execution_count": 75,
     "metadata": {},
     "output_type": "execute_result"
    }
   ],
   "source": [
    "4 / 6"
   ]
  },
  {
   "cell_type": "markdown",
   "id": "cbfbe7d0-e11d-47d5-8cea-b251d30e4ff2",
   "metadata": {},
   "source": [
    "### 정밀도 - 얼마나 개를 잘 예측했는가"
   ]
  },
  {
   "cell_type": "code",
   "execution_count": 97,
   "id": "3ee17c91-de9d-4996-b362-d623ee4f8cee",
   "metadata": {},
   "outputs": [
    {
     "data": {
      "text/plain": [
       "0.75"
      ]
     },
     "execution_count": 97,
     "metadata": {},
     "output_type": "execute_result"
    }
   ],
   "source": [
    "precision_score(Y_test,pred, pos_label='개')"
   ]
  },
  {
   "cell_type": "code",
   "execution_count": 77,
   "id": "f066ac79-ebfc-4eb0-9179-1715de266f6a",
   "metadata": {},
   "outputs": [
    {
     "data": {
      "text/plain": [
       "0.75"
      ]
     },
     "execution_count": 77,
     "metadata": {},
     "output_type": "execute_result"
    }
   ],
   "source": [
    "3 / 4"
   ]
  },
  {
   "cell_type": "markdown",
   "id": "04774321-fb1c-4d34-8e16-560cc710f599",
   "metadata": {},
   "source": [
    "### 재현율"
   ]
  },
  {
   "cell_type": "code",
   "execution_count": 101,
   "id": "02f19a7e-1d4a-4643-bbb8-cbccff7b4b0d",
   "metadata": {},
   "outputs": [
    {
     "data": {
      "text/plain": [
       "0.75"
      ]
     },
     "execution_count": 101,
     "metadata": {},
     "output_type": "execute_result"
    }
   ],
   "source": [
    "recall_score(Y_test,pred, pos_label='개')"
   ]
  },
  {
   "cell_type": "code",
   "execution_count": 78,
   "id": "52b396fa-cd27-4ba8-9333-010da279ca56",
   "metadata": {},
   "outputs": [
    {
     "data": {
      "text/plain": [
       "0.75"
      ]
     },
     "execution_count": 78,
     "metadata": {},
     "output_type": "execute_result"
    }
   ],
   "source": [
    "3/4"
   ]
  },
  {
   "cell_type": "markdown",
   "id": "3fa732b2-12c9-4eab-91af-87417f1ca03a",
   "metadata": {},
   "source": [
    "### 1종오류/2종오류 알아보기\n",
    "+ 전자회로기판PCB 생산업체에서 불량률이 6% 이하일때 \n",
    "+ 계약업체로 선적해서 납품한다는 품질보증계약 체결함\n",
    "+ 불량류 6% 이하 선적함 (P), 불량류 6% 초과 선적안함 (N)"
   ]
  },
  {
   "cell_type": "code",
   "execution_count": null,
   "id": "6ae693ee-a83a-4c85-b1f2-4f49cdb435c6",
   "metadata": {},
   "outputs": [],
   "source": [
    "# 4000개의 회로판에서 표본 50개 추출\n",
    "# 4개가 불량 -> 0.08 -> 8% -> 선적x\n",
    "# 그런데, 4개의 불량이 전체 4000개에서 유일하다면?\n",
    "# 불량률 0.1% -> 선적취소는 잘못된 결정 (2종오류 - FN)"
   ]
  },
  {
   "cell_type": "code",
   "execution_count": null,
   "id": "93626e82-4912-468b-8cc9-0a58d9de307b",
   "metadata": {},
   "outputs": [],
   "source": [
    "# 4000개의 회로판에서 표본 50개 추출\n",
    "# 2개가 불량 -> 0.04 -> 4% -> 선적o\n",
    "# 그런데, 48개 정상품이 전체 4000개에서 유일\n",
    "# 불량률 98.8% -> 선적허용은 잘못된 결정 (1종오류 - FP)"
   ]
  },
  {
   "cell_type": "markdown",
   "id": "2bd2199c-adf8-47a7-9fcf-8cb02666b027",
   "metadata": {},
   "source": [
    "## 정밀도/재현율 trade-off\n",
    "* 분류하는 업무의 특성상 정밀도 또는 재현율이 특별히 강조되어야 하는 경우 존재\n",
    "     + 정밀도 : 스팸분류 (FP 중시 - 1종오류)\n",
    "     + 재현율 : 임상실험 (FN 중시 - 2종오류)\n",
    "* 결정 임계값을 조정하면 정밀도 또는 재현율을 높일 수 있음\n",
    "     + 즉, 이진분류에서 0 또는 1로 판정할 기준값을 의미\n",
    "     + 임계값을 0.5로 정하는 경우 기준값보다 확률이 크면 positive, 작으면 negative로 결정\n",
    "* 한편, 정밀도와 재현율은 상호보완적인 지표이기때문에, \n",
    "* 어느 한쪽을 올리면 다른 한쪽은 떨어지는 관계를 뜀"
   ]
  },
  {
   "cell_type": "code",
   "execution_count": null,
   "id": "3b719979-c164-4e9a-98aa-9d2e2f88a50e",
   "metadata": {},
   "outputs": [],
   "source": []
  }
 ],
 "metadata": {
  "kernelspec": {
   "display_name": "Python 3 (ipykernel)",
   "language": "python",
   "name": "python3"
  },
  "language_info": {
   "codemirror_mode": {
    "name": "ipython",
    "version": 3
   },
   "file_extension": ".py",
   "mimetype": "text/x-python",
   "name": "python",
   "nbconvert_exporter": "python",
   "pygments_lexer": "ipython3",
   "version": "3.9.13"
  }
 },
 "nbformat": 4,
 "nbformat_minor": 5
}
