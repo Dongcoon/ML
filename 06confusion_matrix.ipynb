{
 "cells": [
  {
   "cell_type": "markdown",
   "id": "d2eca6dc-95b0-4e4a-9cb2-1d8e4f49e268",
   "metadata": {},
   "source": [
    "## 머신러닝의 모델평가\n",
    "* 일반적으로 머신러닝은 \n",
    "    + 데이터 가공/변환(전처리)\n",
    "    + 모델 학습/예측\n",
    "    + 평가의 과정을 거침\n",
    "* 앞의 타이타닉 예제에서 모델의 평가는 **정확도**만 사용했음\n",
    "* 한편, 머신러닝의 예측성능의 평가방법은 다양함\n",
    "    + 회귀 - R^2, MSE평균제곱오차\n",
    "    + 분류 - 혼동(오차)행렬, 크로스엔트로피, 최대우도, ROC, AUC, F1스코어"
   ]
  },
  {
   "cell_type": "markdown",
   "id": "94287c9d-1fe7-4b6c-b673-dc0b7c2a08ca",
   "metadata": {},
   "source": [
    "## 정확도의 함정\n",
    "* 앞의 타이타닉 생존자 ML예제의 정확도는 평균 80%였음\n",
    "* 그런데 정확도 지표만으로 ML 모델의 성능을 파악하기에는 다소 문제가 있음 - 왜곡의 위험\n",
    "* 즉, 탐색적 분석을 시행했을때 성별을 기준으로 생존비율은 여성일 때가 더 높았음\n",
    "* 따라서, 굳이 ML 알고리즘을 적용하지 않아도 성별이 여성일 경우 생존, 남성일 경우 사망이라고 예측해도 크게 무리 없음\n",
    "* 단순히 성별 조건 하나만 적용해도 별거 아닌 알고리즘으로도 높은 정확도가 나타나는 상황 발생"
   ]
  },
  {
   "cell_type": "markdown",
   "id": "3b0b76f4-2839-466b-b7a4-9ef45508fcc7",
   "metadata": {},
   "source": [
    "### 가짜 분류기 생성\n",
    "* 성별이 남자면 사망\n",
    "* 성별이 여자면 생존이라고 예측하는 더미분류기 생성"
   ]
  },
  {
   "cell_type": "code",
   "execution_count": 1,
   "id": "74ed2cf4-7ac3-460c-a3a2-af40041a032f",
   "metadata": {},
   "outputs": [],
   "source": [
    "from sklearn.base import BaseEstimator\n",
    "\n",
    "class MyDummyClassifier(BaseEstimator):\n",
    "    # 아무것도 학습하지 않는 fit 메서드 정의\n",
    "    def fit(self, X, y=None):\n",
    "        pass\n",
    "\n",
    "    # 성별이 1(남성)이면 0(사망), 0이면 1\n",
    "    def predict(self, X):\n",
    "        pred = np.zeros((X.shape[0], 1))\n",
    "        # 입력데이터 크기만큼 0으로 채워진 1차원 행렬 생성\n",
    "\n",
    "        for i in range(X.shape[0]):\n",
    "            if X['gender'].iloc[i] != 1:\n",
    "                pred[i] = 1\n",
    "            # 성별이 여성인 경우 1로 설정\n",
    "\n",
    "        return pred"
   ]
  },
  {
   "cell_type": "code",
   "execution_count": 4,
   "id": "ff2ddfd1-b0c1-4b63-bc81-0ddb13eaa8bc",
   "metadata": {},
   "outputs": [],
   "source": [
    "import numpy as np\n",
    "import pandas as pd\n",
    "import matplotlib.pyplot as plt\n",
    "\n",
    "from sklearn.model_selection import train_test_split\n",
    "from sklearn.model_selection import cross_val_score\n",
    "from sklearn.ensemble import RandomForestClassifier\n",
    "from sklearn.metrics import accuracy_score"
   ]
  },
  {
   "cell_type": "code",
   "execution_count": 5,
   "id": "5d884ee3-46f3-49e8-88d2-1f71d40a4fc3",
   "metadata": {},
   "outputs": [],
   "source": [
    "titanic = pd.read_csv('data/titanic2.csv')\n",
    "\n",
    "data = titanic.iloc[:, :7]\n",
    "target = titanic.survived"
   ]
  },
  {
   "cell_type": "code",
   "execution_count": 9,
   "id": "ec9277e9-549a-43b8-a791-07c862391b9b",
   "metadata": {},
   "outputs": [],
   "source": [
    "X_train, X_test, Y_train,Y_test = train_test_split(data,target, train_size=0.7, stratify=target)"
   ]
  },
  {
   "cell_type": "code",
   "execution_count": 10,
   "id": "b91b873d-55fa-4a3e-93f8-9cf4f4a6df7c",
   "metadata": {},
   "outputs": [
    {
     "data": {
      "text/plain": [
       "0.7908163265306123"
      ]
     },
     "execution_count": 10,
     "metadata": {},
     "output_type": "execute_result"
    }
   ],
   "source": [
    "dtclf = MyDummyClassifier()\n",
    "\n",
    "dtclf.fit(X_train, Y_train)\n",
    "pred = dtclf.predict(X_test)\n",
    "\n",
    "accuracy_score(Y_test,pred)"
   ]
  },
  {
   "cell_type": "code",
   "execution_count": null,
   "id": "64317d6e-b27d-4969-8a67-8a4aac8f271e",
   "metadata": {},
   "outputs": [],
   "source": [
    "# 즉, 이렇게 단순한 알고리즘만으로 예측하더라도\n",
    "# 데이터의 구성에 따라 정확도가 약 76%가 나옴\n",
    "# 불균형한 레이블의 비율()에서는 \n",
    "# 정확도 지표만으로 모델 성능을 평가하는 것은 올바르지 않음\n",
    "\n",
    "# 예를 들어, 100개의 종속변수 중 90개의 레이블 0이고, 10개의 레이블이 1인 경우, \n",
    "# 무조건 0으로 예측결과를 반환하는 머신러닝 알고리즘의 정확도는 90%임!\n",
    "# 즉, 선생님이 시험 정답지의 답을 1로만 작성한 경우, \n",
    "# 학생이 1로 찍기만 해도 100점을 맞는 경우와 비슷한 상황임!\n",
    "\n",
    "# 따라서, 불균형한 레이블 데이터세트의 성능수치로 \n",
    "# 정확도 평가지표를 사용하면 안됨\n",
    "# 이러한 한계를 극복하기 위해 오차행렬 사용\n",
    "# 특히, 정확도보다는 정밀도, 재현율을 더 선호"
   ]
  },
  {
   "cell_type": "markdown",
   "id": "6d446ca6-9403-4e1f-85ec-50efdecfb132",
   "metadata": {},
   "source": [
    "# 오차행렬\n",
    "<img src='img/confusion_matrix.png' width='%'>"
   ]
  },
  {
   "cell_type": "code",
   "execution_count": 12,
   "id": "22b9626d-65ba-4ac4-9412-cda1963ede98",
   "metadata": {},
   "outputs": [
    {
     "data": {
      "text/plain": [
       "array([[202,  41],\n",
       "       [ 41, 108]], dtype=int64)"
      ]
     },
     "execution_count": 12,
     "metadata": {},
     "output_type": "execute_result"
    }
   ],
   "source": [
    "from sklearn.metrics import confusion_matrix\n",
    "\n",
    "confusion_matrix(Y_test,pred)"
   ]
  },
  {
   "cell_type": "code",
   "execution_count": null,
   "id": "7babd579-3ec5-425a-9304-332f284f8e66",
   "metadata": {},
   "outputs": [],
   "source": []
  }
 ],
 "metadata": {
  "kernelspec": {
   "display_name": "Python 3 (ipykernel)",
   "language": "python",
   "name": "python3"
  },
  "language_info": {
   "codemirror_mode": {
    "name": "ipython",
    "version": 3
   },
   "file_extension": ".py",
   "mimetype": "text/x-python",
   "name": "python",
   "nbconvert_exporter": "python",
   "pygments_lexer": "ipython3",
   "version": "3.9.13"
  }
 },
 "nbformat": 4,
 "nbformat_minor": 5
}
