{
 "cells": [
  {
   "cell_type": "code",
   "execution_count": 1,
   "id": "203116dc-8795-4311-b3ce-b6260db257ab",
   "metadata": {},
   "outputs": [],
   "source": [
    "import numpy as np\n",
    "import pandas as pd\n",
    "import matplotlib.pyplot as plt\n",
    "import sklearn"
   ]
  },
  {
   "cell_type": "markdown",
   "id": "cc88665c-99c3-443b-ba90-9f017bc5fc9d",
   "metadata": {
    "tags": []
   },
   "source": [
    "## 머신러닝으로 타이타닉 생존자 예측하기\n",
    "* 다양한 머신러닝 알고리즘을 이용해서\n",
    "* 교차검증 방식으로 모델을 훈련시키고\n",
    "* 예측 정확도를 통해 평가해 봄"
   ]
  },
  {
   "cell_type": "code",
   "execution_count": 2,
   "id": "2be2bdb7-2bb0-4f79-94cf-3c466b635c79",
   "metadata": {},
   "outputs": [],
   "source": [
    "from sklearn.preprocessing import LabelEncoder\n",
    "\n",
    "from sklearn.model_selection import train_test_split\n",
    "from sklearn.model_selection import cross_val_score\n",
    "\n",
    "from sklearn.tree import DecisionTreeClassifier\n",
    "from sklearn.ensemble import RandomForestClassifier\n",
    "from sklearn.linear_model import LogisticRegression\n",
    "from sklearn.neighbors import KNeighborsClassifier\n",
    "\n",
    "from sklearn.metrics import accuracy_score"
   ]
  },
  {
   "cell_type": "markdown",
   "id": "2b7bb37f-325e-4074-88de-bf1b2218d0e0",
   "metadata": {},
   "source": [
    "## 데이터 불러오기"
   ]
  },
  {
   "cell_type": "code",
   "execution_count": 3,
   "id": "d2f731aa-8621-4859-a258-5a768ee887a8",
   "metadata": {
    "tags": []
   },
   "outputs": [
    {
     "data": {
      "text/html": [
       "<div>\n",
       "<style scoped>\n",
       "    .dataframe tbody tr th:only-of-type {\n",
       "        vertical-align: middle;\n",
       "    }\n",
       "\n",
       "    .dataframe tbody tr th {\n",
       "        vertical-align: top;\n",
       "    }\n",
       "\n",
       "    .dataframe thead th {\n",
       "        text-align: right;\n",
       "    }\n",
       "</style>\n",
       "<table border=\"1\" class=\"dataframe\">\n",
       "  <thead>\n",
       "    <tr style=\"text-align: right;\">\n",
       "      <th></th>\n",
       "      <th>pclass</th>\n",
       "      <th>survived</th>\n",
       "      <th>name</th>\n",
       "      <th>sex</th>\n",
       "      <th>age</th>\n",
       "      <th>sibsp</th>\n",
       "      <th>parch</th>\n",
       "      <th>ticket</th>\n",
       "      <th>fare</th>\n",
       "      <th>cabin</th>\n",
       "      <th>embarked</th>\n",
       "    </tr>\n",
       "  </thead>\n",
       "  <tbody>\n",
       "    <tr>\n",
       "      <th>0</th>\n",
       "      <td>1</td>\n",
       "      <td>1</td>\n",
       "      <td>Allen, Miss. Elisabeth Walton</td>\n",
       "      <td>female</td>\n",
       "      <td>29.0000</td>\n",
       "      <td>0</td>\n",
       "      <td>0</td>\n",
       "      <td>24160</td>\n",
       "      <td>211.3375</td>\n",
       "      <td>B5</td>\n",
       "      <td>S</td>\n",
       "    </tr>\n",
       "    <tr>\n",
       "      <th>1</th>\n",
       "      <td>1</td>\n",
       "      <td>1</td>\n",
       "      <td>Allison, Master. Hudson Trevor</td>\n",
       "      <td>male</td>\n",
       "      <td>0.9167</td>\n",
       "      <td>1</td>\n",
       "      <td>2</td>\n",
       "      <td>113781</td>\n",
       "      <td>151.5500</td>\n",
       "      <td>C22 C26</td>\n",
       "      <td>S</td>\n",
       "    </tr>\n",
       "    <tr>\n",
       "      <th>2</th>\n",
       "      <td>1</td>\n",
       "      <td>0</td>\n",
       "      <td>Allison, Miss. Helen Loraine</td>\n",
       "      <td>female</td>\n",
       "      <td>2.0000</td>\n",
       "      <td>1</td>\n",
       "      <td>2</td>\n",
       "      <td>113781</td>\n",
       "      <td>151.5500</td>\n",
       "      <td>C22 C26</td>\n",
       "      <td>S</td>\n",
       "    </tr>\n",
       "    <tr>\n",
       "      <th>3</th>\n",
       "      <td>1</td>\n",
       "      <td>0</td>\n",
       "      <td>Allison, Mr. Hudson Joshua Creighton</td>\n",
       "      <td>male</td>\n",
       "      <td>30.0000</td>\n",
       "      <td>1</td>\n",
       "      <td>2</td>\n",
       "      <td>113781</td>\n",
       "      <td>151.5500</td>\n",
       "      <td>C22 C26</td>\n",
       "      <td>S</td>\n",
       "    </tr>\n",
       "    <tr>\n",
       "      <th>4</th>\n",
       "      <td>1</td>\n",
       "      <td>0</td>\n",
       "      <td>Allison, Mrs. Hudson J C (Bessie Waldo Daniels)</td>\n",
       "      <td>female</td>\n",
       "      <td>25.0000</td>\n",
       "      <td>1</td>\n",
       "      <td>2</td>\n",
       "      <td>113781</td>\n",
       "      <td>151.5500</td>\n",
       "      <td>C22 C26</td>\n",
       "      <td>S</td>\n",
       "    </tr>\n",
       "  </tbody>\n",
       "</table>\n",
       "</div>"
      ],
      "text/plain": [
       "   pclass  survived                                             name     sex  \\\n",
       "0       1         1                    Allen, Miss. Elisabeth Walton  female   \n",
       "1       1         1                   Allison, Master. Hudson Trevor    male   \n",
       "2       1         0                     Allison, Miss. Helen Loraine  female   \n",
       "3       1         0             Allison, Mr. Hudson Joshua Creighton    male   \n",
       "4       1         0  Allison, Mrs. Hudson J C (Bessie Waldo Daniels)  female   \n",
       "\n",
       "       age  sibsp  parch  ticket      fare    cabin embarked  \n",
       "0  29.0000      0      0   24160  211.3375       B5        S  \n",
       "1   0.9167      1      2  113781  151.5500  C22 C26        S  \n",
       "2   2.0000      1      2  113781  151.5500  C22 C26        S  \n",
       "3  30.0000      1      2  113781  151.5500  C22 C26        S  \n",
       "4  25.0000      1      2  113781  151.5500  C22 C26        S  "
      ]
     },
     "execution_count": 3,
     "metadata": {},
     "output_type": "execute_result"
    }
   ],
   "source": [
    "titanic = pd.read_csv('data/titanic.csv')\n",
    "titanic.head()"
   ]
  },
  {
   "cell_type": "code",
   "execution_count": 4,
   "id": "1eeb5bcd-540f-4127-bc95-9af26472a819",
   "metadata": {},
   "outputs": [
    {
     "name": "stdout",
     "output_type": "stream",
     "text": [
      "<class 'pandas.core.frame.DataFrame'>\n",
      "RangeIndex: 1309 entries, 0 to 1308\n",
      "Data columns (total 11 columns):\n",
      " #   Column    Non-Null Count  Dtype  \n",
      "---  ------    --------------  -----  \n",
      " 0   pclass    1309 non-null   int64  \n",
      " 1   survived  1309 non-null   int64  \n",
      " 2   name      1309 non-null   object \n",
      " 3   sex       1309 non-null   object \n",
      " 4   age       1046 non-null   float64\n",
      " 5   sibsp     1309 non-null   int64  \n",
      " 6   parch     1309 non-null   int64  \n",
      " 7   ticket    1309 non-null   object \n",
      " 8   fare      1308 non-null   float64\n",
      " 9   cabin     295 non-null    object \n",
      " 10  embarked  1307 non-null   object \n",
      "dtypes: float64(2), int64(4), object(5)\n",
      "memory usage: 112.6+ KB\n"
     ]
    }
   ],
   "source": [
    "titanic.info()"
   ]
  },
  {
   "cell_type": "markdown",
   "id": "d9249076-b90c-4812-a546-8ccd45cb1a8e",
   "metadata": {},
   "source": [
    "## 전처리 \n",
    "* 분석대상 컬럼들은 반드시 숫자형 값들로 구성되어야 함\n",
    "   + sex, embarked 컬럼을 숫자형으로 변환\n",
    "* cabin은 결측치가 많기 때문에 컬럼자체를 제거\n",
    "* ticket은 분석하기에 너무 많은 범주를 포함함 - 과감히 제거\n",
    "* 승객직함titles을 추출해서 분석대상 컬럼으로 지정하고 숫자형으로 변환\n",
    "* 최종컬럼 : pclass, sex, age, sibsp, parch, fare, embarked, titles\n"
   ]
  },
  {
   "cell_type": "markdown",
   "id": "e9226b81-780d-437a-9ae0-204bbb48a136",
   "metadata": {},
   "source": [
    "### 1. cabin, ticket 컬럼 제거"
   ]
  },
  {
   "cell_type": "code",
   "execution_count": 5,
   "id": "f64e8291-ca13-41a1-9544-2130ee3a4536",
   "metadata": {},
   "outputs": [],
   "source": [
    "titanic.drop('cabin', axis=1, inplace=True)\n",
    "titanic.drop('ticket', axis=1, inplace=True)"
   ]
  },
  {
   "cell_type": "markdown",
   "id": "1f5ee00f-e417-48d4-80e1-30a6966ed291",
   "metadata": {},
   "source": [
    "### 2. 승객나이, 승선위치 결측치 처리"
   ]
  },
  {
   "cell_type": "code",
   "execution_count": 6,
   "id": "1c3c2c70-9e0f-44c5-8edd-222d05db5cf2",
   "metadata": {
    "tags": []
   },
   "outputs": [
    {
     "data": {
      "text/plain": [
       "pclass        0\n",
       "survived      0\n",
       "name          0\n",
       "sex           0\n",
       "age         263\n",
       "sibsp         0\n",
       "parch         0\n",
       "fare          1\n",
       "embarked      2\n",
       "dtype: int64"
      ]
     },
     "execution_count": 6,
     "metadata": {},
     "output_type": "execute_result"
    }
   ],
   "source": [
    "# 결측치 확인\n",
    "titanic.isna().sum()"
   ]
  },
  {
   "cell_type": "code",
   "execution_count": 7,
   "id": "5b0631cf-fea2-46cf-9f15-97399f71f6ea",
   "metadata": {},
   "outputs": [],
   "source": [
    "# 나이의 결측치는 중앙값으로 대체\n",
    "median = titanic.age.median()\n",
    "titanic.age.fillna(median, inplace=True)"
   ]
  },
  {
   "cell_type": "code",
   "execution_count": 8,
   "id": "f71d91a4-e373-4620-ab74-33d93b861293",
   "metadata": {},
   "outputs": [],
   "source": [
    "# 요금, 승선위치의 결측치는 소량이므로 바로 제거\n",
    "titanic.dropna(inplace=True)"
   ]
  },
  {
   "cell_type": "markdown",
   "id": "d951626c-994d-41a8-b019-6cf993984706",
   "metadata": {},
   "source": [
    "### 3. 승객이름에서 직함이라는 파생변수 생성"
   ]
  },
  {
   "cell_type": "code",
   "execution_count": 9,
   "id": "5b59189e-f456-49af-8151-76a0d9c027a8",
   "metadata": {},
   "outputs": [],
   "source": [
    "# 승객 이름 : Allen, Miss. Elisabeth Walton\n",
    "# 지정한 규칙에 맞춰 특정문자열 추출 : extract(정규식)\n",
    "fmt = ' ([A-Za-z]+)\\.'\n",
    "titanic['title'] = titanic.name.str.extract(fmt)"
   ]
  },
  {
   "cell_type": "code",
   "execution_count": 10,
   "id": "241a4dfa-4b00-4657-89f6-9033f6863e02",
   "metadata": {
    "tags": []
   },
   "outputs": [
    {
     "data": {
      "text/plain": [
       "Mr          756\n",
       "Miss        259\n",
       "Mrs         196\n",
       "Master       61\n",
       "Rev           8\n",
       "Dr            8\n",
       "Col           4\n",
       "Mlle          2\n",
       "Ms            2\n",
       "Major         2\n",
       "Capt          1\n",
       "Sir           1\n",
       "Dona          1\n",
       "Jonkheer      1\n",
       "Countess      1\n",
       "Don           1\n",
       "Mme           1\n",
       "Lady          1\n",
       "Name: title, dtype: int64"
      ]
     },
     "execution_count": 10,
     "metadata": {},
     "output_type": "execute_result"
    }
   ],
   "source": [
    "titanic['title'].value_counts()"
   ]
  },
  {
   "cell_type": "markdown",
   "id": "4babf58b-155f-48fb-b1e8-dcc5c359fc82",
   "metadata": {},
   "source": [
    "### 4. 성별, 승선위치, 직함등을 숫자형으로 변환"
   ]
  },
  {
   "cell_type": "code",
   "execution_count": 11,
   "id": "4b14a282-e995-451f-aa1a-e9cc40f3fab6",
   "metadata": {
    "tags": []
   },
   "outputs": [],
   "source": [
    "# 성별\n",
    "encoder = LabelEncoder()\n",
    "gender = titanic.sex\n",
    "encoder.fit(gender)  # female : 0, male : 1\n",
    "titanic['gender'] = encoder.transform(gender)"
   ]
  },
  {
   "cell_type": "code",
   "execution_count": 12,
   "id": "01c2af89-ba01-4309-a397-fbd1991c23ac",
   "metadata": {
    "tags": []
   },
   "outputs": [],
   "source": [
    "# 승선위치\n",
    "encoder = LabelEncoder()\n",
    "embarked = titanic.embarked\n",
    "encoder.fit(embarked)  # C : 0, Q : 1, S : 2\n",
    "titanic['Embarked'] = encoder.transform(embarked)"
   ]
  },
  {
   "cell_type": "code",
   "execution_count": 13,
   "id": "9731a79f-2f63-4682-95ce-80b313c09630",
   "metadata": {},
   "outputs": [],
   "source": [
    "# 직함\n",
    "encoder = LabelEncoder()\n",
    "Title = titanic.title\n",
    "encoder.fit(Title)\n",
    "# Capt : 0, Col : 1, Countess : 2, Don : 3, Dona : 4, Dr : 5, Jonkheer : 6, Lady : 7, \n",
    "# Major : 8, Master : 9, Miss : 10, Mlle : 11, Mme : 12, Mr : 13, Mrs : 14, Ms : 15, Rev : 16, Sir : 17\n",
    "titanic['Title'] = encoder.transform(Title)"
   ]
  },
  {
   "cell_type": "code",
   "execution_count": 14,
   "id": "22ab9e98-8cee-40d3-bdde-55e5c94539f9",
   "metadata": {
    "tags": []
   },
   "outputs": [],
   "source": [
    "# 컬럼명 변경 : titanic.rename(columns={'embark':'Embarked'})"
   ]
  },
  {
   "cell_type": "code",
   "execution_count": 16,
   "id": "29f23a3f-c8e0-48f5-8aee-3700aef4ab8e",
   "metadata": {
    "tags": []
   },
   "outputs": [
    {
     "data": {
      "text/html": [
       "<div>\n",
       "<style scoped>\n",
       "    .dataframe tbody tr th:only-of-type {\n",
       "        vertical-align: middle;\n",
       "    }\n",
       "\n",
       "    .dataframe tbody tr th {\n",
       "        vertical-align: top;\n",
       "    }\n",
       "\n",
       "    .dataframe thead th {\n",
       "        text-align: right;\n",
       "    }\n",
       "</style>\n",
       "<table border=\"1\" class=\"dataframe\">\n",
       "  <thead>\n",
       "    <tr style=\"text-align: right;\">\n",
       "      <th></th>\n",
       "      <th>sex</th>\n",
       "      <th>gender</th>\n",
       "      <th>embarked</th>\n",
       "      <th>Embarked</th>\n",
       "      <th>title</th>\n",
       "      <th>Title</th>\n",
       "    </tr>\n",
       "  </thead>\n",
       "  <tbody>\n",
       "    <tr>\n",
       "      <th>0</th>\n",
       "      <td>female</td>\n",
       "      <td>0</td>\n",
       "      <td>S</td>\n",
       "      <td>2</td>\n",
       "      <td>Miss</td>\n",
       "      <td>10</td>\n",
       "    </tr>\n",
       "    <tr>\n",
       "      <th>1</th>\n",
       "      <td>male</td>\n",
       "      <td>1</td>\n",
       "      <td>S</td>\n",
       "      <td>2</td>\n",
       "      <td>Master</td>\n",
       "      <td>9</td>\n",
       "    </tr>\n",
       "    <tr>\n",
       "      <th>2</th>\n",
       "      <td>female</td>\n",
       "      <td>0</td>\n",
       "      <td>S</td>\n",
       "      <td>2</td>\n",
       "      <td>Miss</td>\n",
       "      <td>10</td>\n",
       "    </tr>\n",
       "    <tr>\n",
       "      <th>3</th>\n",
       "      <td>male</td>\n",
       "      <td>1</td>\n",
       "      <td>S</td>\n",
       "      <td>2</td>\n",
       "      <td>Mr</td>\n",
       "      <td>13</td>\n",
       "    </tr>\n",
       "    <tr>\n",
       "      <th>4</th>\n",
       "      <td>female</td>\n",
       "      <td>0</td>\n",
       "      <td>S</td>\n",
       "      <td>2</td>\n",
       "      <td>Mrs</td>\n",
       "      <td>14</td>\n",
       "    </tr>\n",
       "  </tbody>\n",
       "</table>\n",
       "</div>"
      ],
      "text/plain": [
       "      sex  gender embarked  Embarked   title  Title\n",
       "0  female       0        S         2    Miss     10\n",
       "1    male       1        S         2  Master      9\n",
       "2  female       0        S         2    Miss     10\n",
       "3    male       1        S         2      Mr     13\n",
       "4  female       0        S         2     Mrs     14"
      ]
     },
     "execution_count": 16,
     "metadata": {},
     "output_type": "execute_result"
    }
   ],
   "source": [
    "titanic.loc[:,['sex','gender','embarked','Embarked','title','Title']].head()"
   ]
  },
  {
   "cell_type": "markdown",
   "id": "42406d1e-2e7a-4987-b65f-6e0b001a540b",
   "metadata": {},
   "source": [
    "### 5. feature, target 추출"
   ]
  },
  {
   "cell_type": "code",
   "execution_count": 17,
   "id": "415e3c60-129e-4f75-b338-7da0011df269",
   "metadata": {},
   "outputs": [
    {
     "name": "stdout",
     "output_type": "stream",
     "text": [
      "<class 'pandas.core.frame.DataFrame'>\n",
      "Int64Index: 1306 entries, 0 to 1308\n",
      "Data columns (total 13 columns):\n",
      " #   Column    Non-Null Count  Dtype  \n",
      "---  ------    --------------  -----  \n",
      " 0   pclass    1306 non-null   int64  \n",
      " 1   survived  1306 non-null   int64  \n",
      " 2   name      1306 non-null   object \n",
      " 3   sex       1306 non-null   object \n",
      " 4   age       1306 non-null   float64\n",
      " 5   sibsp     1306 non-null   int64  \n",
      " 6   parch     1306 non-null   int64  \n",
      " 7   fare      1306 non-null   float64\n",
      " 8   embarked  1306 non-null   object \n",
      " 9   title     1306 non-null   object \n",
      " 10  gender    1306 non-null   int32  \n",
      " 11  Embarked  1306 non-null   int32  \n",
      " 12  Title     1306 non-null   int32  \n",
      "dtypes: float64(2), int32(3), int64(4), object(4)\n",
      "memory usage: 127.5+ KB\n"
     ]
    }
   ],
   "source": [
    "titanic.info()"
   ]
  },
  {
   "cell_type": "code",
   "execution_count": 18,
   "id": "4b3566ea-ab0d-4a7a-9f70-fc680f329a83",
   "metadata": {},
   "outputs": [],
   "source": [
    "data = titanic.iloc[:,[0,4,5,6,7,10,11,12]]\n",
    "target = titanic.survived"
   ]
  },
  {
   "cell_type": "code",
   "execution_count": 19,
   "id": "fbfbbd7f-9d53-467d-bb41-8265a97eedc8",
   "metadata": {
    "tags": []
   },
   "outputs": [
    {
     "data": {
      "text/html": [
       "<div>\n",
       "<style scoped>\n",
       "    .dataframe tbody tr th:only-of-type {\n",
       "        vertical-align: middle;\n",
       "    }\n",
       "\n",
       "    .dataframe tbody tr th {\n",
       "        vertical-align: top;\n",
       "    }\n",
       "\n",
       "    .dataframe thead th {\n",
       "        text-align: right;\n",
       "    }\n",
       "</style>\n",
       "<table border=\"1\" class=\"dataframe\">\n",
       "  <thead>\n",
       "    <tr style=\"text-align: right;\">\n",
       "      <th></th>\n",
       "      <th>pclass</th>\n",
       "      <th>age</th>\n",
       "      <th>sibsp</th>\n",
       "      <th>parch</th>\n",
       "      <th>fare</th>\n",
       "      <th>gender</th>\n",
       "      <th>Embarked</th>\n",
       "      <th>Title</th>\n",
       "    </tr>\n",
       "  </thead>\n",
       "  <tbody>\n",
       "    <tr>\n",
       "      <th>0</th>\n",
       "      <td>1</td>\n",
       "      <td>29.0000</td>\n",
       "      <td>0</td>\n",
       "      <td>0</td>\n",
       "      <td>211.3375</td>\n",
       "      <td>0</td>\n",
       "      <td>2</td>\n",
       "      <td>10</td>\n",
       "    </tr>\n",
       "    <tr>\n",
       "      <th>1</th>\n",
       "      <td>1</td>\n",
       "      <td>0.9167</td>\n",
       "      <td>1</td>\n",
       "      <td>2</td>\n",
       "      <td>151.5500</td>\n",
       "      <td>1</td>\n",
       "      <td>2</td>\n",
       "      <td>9</td>\n",
       "    </tr>\n",
       "    <tr>\n",
       "      <th>2</th>\n",
       "      <td>1</td>\n",
       "      <td>2.0000</td>\n",
       "      <td>1</td>\n",
       "      <td>2</td>\n",
       "      <td>151.5500</td>\n",
       "      <td>0</td>\n",
       "      <td>2</td>\n",
       "      <td>10</td>\n",
       "    </tr>\n",
       "    <tr>\n",
       "      <th>3</th>\n",
       "      <td>1</td>\n",
       "      <td>30.0000</td>\n",
       "      <td>1</td>\n",
       "      <td>2</td>\n",
       "      <td>151.5500</td>\n",
       "      <td>1</td>\n",
       "      <td>2</td>\n",
       "      <td>13</td>\n",
       "    </tr>\n",
       "    <tr>\n",
       "      <th>4</th>\n",
       "      <td>1</td>\n",
       "      <td>25.0000</td>\n",
       "      <td>1</td>\n",
       "      <td>2</td>\n",
       "      <td>151.5500</td>\n",
       "      <td>0</td>\n",
       "      <td>2</td>\n",
       "      <td>14</td>\n",
       "    </tr>\n",
       "  </tbody>\n",
       "</table>\n",
       "</div>"
      ],
      "text/plain": [
       "   pclass      age  sibsp  parch      fare  gender  Embarked  Title\n",
       "0       1  29.0000      0      0  211.3375       0         2     10\n",
       "1       1   0.9167      1      2  151.5500       1         2      9\n",
       "2       1   2.0000      1      2  151.5500       0         2     10\n",
       "3       1  30.0000      1      2  151.5500       1         2     13\n",
       "4       1  25.0000      1      2  151.5500       0         2     14"
      ]
     },
     "execution_count": 19,
     "metadata": {},
     "output_type": "execute_result"
    }
   ],
   "source": [
    "data.head()"
   ]
  },
  {
   "cell_type": "code",
   "execution_count": 20,
   "id": "d1b916fe-44f9-4d37-883c-4625882866a2",
   "metadata": {},
   "outputs": [
    {
     "data": {
      "text/plain": [
       "0    808\n",
       "1    498\n",
       "Name: survived, dtype: int64"
      ]
     },
     "execution_count": 20,
     "metadata": {},
     "output_type": "execute_result"
    }
   ],
   "source": [
    "target.value_counts()"
   ]
  },
  {
   "cell_type": "markdown",
   "id": "d95b759b-58fd-4ed5-9f01-7081e4dfc805",
   "metadata": {},
   "source": [
    "### 6. 훈련/평가 데이터 분할"
   ]
  },
  {
   "cell_type": "code",
   "execution_count": 21,
   "id": "320e026f-9fc0-4a57-9830-a5df676165ac",
   "metadata": {},
   "outputs": [],
   "source": [
    "X_train, X_test, Y_train,Y_test = train_test_split(data,target, train_size=0.7,\n",
    "                                stratify=target, random_state=2211161315)"
   ]
  },
  {
   "cell_type": "markdown",
   "id": "fa7bef05-5cb9-40ca-9fb8-3e6fb6eb39db",
   "metadata": {},
   "source": [
    "### 7. 머신러닝 알고리즘 적용"
   ]
  },
  {
   "cell_type": "code",
   "execution_count": 22,
   "id": "f77cb7ed-863d-4ded-9d8f-7014f14ff3d8",
   "metadata": {},
   "outputs": [
    {
     "data": {
      "text/plain": [
       "0.7448979591836735"
      ]
     },
     "execution_count": 22,
     "metadata": {},
     "output_type": "execute_result"
    }
   ],
   "source": [
    "dtclf = DecisionTreeClassifier(random_state=2211161315)\n",
    "\n",
    "dtclf.fit(X_train, Y_train)\n",
    "pred = dtclf.predict(X_test)\n",
    "\n",
    "accuracy_score(Y_test,pred)"
   ]
  },
  {
   "cell_type": "code",
   "execution_count": 23,
   "id": "cdb035f5-7fc5-4410-9611-941d5118747e",
   "metadata": {},
   "outputs": [
    {
     "data": {
      "text/plain": [
       "0.7729591836734694"
      ]
     },
     "execution_count": 23,
     "metadata": {},
     "output_type": "execute_result"
    }
   ],
   "source": [
    "rfclf = RandomForestClassifier(random_state=2211161315)\n",
    "\n",
    "rfclf.fit(X_train, Y_train)\n",
    "pred = rfclf.predict(X_test)\n",
    "\n",
    "accuracy_score(Y_test,pred)"
   ]
  },
  {
   "cell_type": "markdown",
   "id": "b78ad49b-0bc5-4707-88fc-bf689ea901f7",
   "metadata": {},
   "source": [
    "### 8. 작업한 데이터프레임 파일로 저장"
   ]
  },
  {
   "cell_type": "code",
   "execution_count": 24,
   "id": "05abd4d1-84a6-485e-b448-9f52c5f61914",
   "metadata": {},
   "outputs": [],
   "source": [
    "df = data.copy()\n",
    "df['survived'] = target\n",
    "\n",
    "df.to_csv('data/titanic2.csv', index=False)"
   ]
  }
 ],
 "metadata": {
  "kernelspec": {
   "display_name": "Python 3 (ipykernel)",
   "language": "python",
   "name": "python3"
  },
  "language_info": {
   "codemirror_mode": {
    "name": "ipython",
    "version": 3
   },
   "file_extension": ".py",
   "mimetype": "text/x-python",
   "name": "python",
   "nbconvert_exporter": "python",
   "pygments_lexer": "ipython3",
   "version": "3.9.13"
  }
 },
 "nbformat": 4,
 "nbformat_minor": 5
}
