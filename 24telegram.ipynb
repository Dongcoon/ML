{
 "cells": [
  {
   "cell_type": "markdown",
   "id": "714fc600-dbd1-4a44-925b-8ba0f84e85cb",
   "metadata": {},
   "source": [
    "## 텔레그램 봇 만들기\n",
    "* telegram.org\n",
    "* 봇이름 : bigdata전화번호뒷4자리Bot"
   ]
  },
  {
   "cell_type": "code",
   "execution_count": 2,
   "id": "0bd17245-affe-4dc6-a742-b3acfeaa6e06",
   "metadata": {
    "collapsed": true,
    "jupyter": {
     "outputs_hidden": true
    },
    "tags": []
   },
   "outputs": [
    {
     "name": "stdout",
     "output_type": "stream",
     "text": [
      "Collecting python-telegram-bot\n",
      "  Using cached python_telegram_bot-13.14-py3-none-any.whl (514 kB)\n",
      "Collecting APScheduler==3.6.3\n",
      "  Using cached APScheduler-3.6.3-py2.py3-none-any.whl (58 kB)\n",
      "Requirement already satisfied: certifi in c:\\users\\lg pc\\lib\\site-packages (from python-telegram-bot) (2022.9.24)\n",
      "Requirement already satisfied: pytz>=2018.6 in c:\\users\\lg pc\\lib\\site-packages (from python-telegram-bot) (2022.5)\n",
      "Collecting cachetools==4.2.2\n",
      "  Using cached cachetools-4.2.2-py3-none-any.whl (11 kB)\n",
      "Requirement already satisfied: tornado==6.1 in c:\\users\\lg pc\\lib\\site-packages (from python-telegram-bot) (6.1)\n",
      "Requirement already satisfied: setuptools>=0.7 in c:\\users\\lg pc\\lib\\site-packages (from APScheduler==3.6.3->python-telegram-bot) (60.2.0)\n",
      "Requirement already satisfied: six>=1.4.0 in c:\\users\\lg pc\\lib\\site-packages (from APScheduler==3.6.3->python-telegram-bot) (1.16.0)\n",
      "Collecting tzlocal>=1.2\n",
      "  Using cached tzlocal-4.2-py3-none-any.whl (19 kB)\n",
      "Collecting pytz-deprecation-shim\n",
      "  Using cached pytz_deprecation_shim-0.1.0.post0-py2.py3-none-any.whl (15 kB)\n",
      "Requirement already satisfied: tzdata in c:\\users\\lg pc\\lib\\site-packages (from tzlocal>=1.2->APScheduler==3.6.3->python-telegram-bot) (2022.6)\n",
      "Installing collected packages: pytz-deprecation-shim, cachetools, tzlocal, APScheduler, python-telegram-bot\n",
      "  Attempting uninstall: cachetools\n",
      "    Found existing installation: cachetools 5.2.0\n",
      "    Uninstalling cachetools-5.2.0:\n",
      "      Successfully uninstalled cachetools-5.2.0\n",
      "Successfully installed APScheduler-3.6.3 cachetools-4.2.2 python-telegram-bot-13.14 pytz-deprecation-shim-0.1.0.post0 tzlocal-4.2\n"
     ]
    }
   ],
   "source": [
    "!pip install python-telegram-bot"
   ]
  },
  {
   "cell_type": "code",
   "execution_count": 5,
   "id": "0d1b0dac-f2c7-493d-a117-f55061ae9616",
   "metadata": {},
   "outputs": [],
   "source": [
    "import telegram"
   ]
  },
  {
   "cell_type": "code",
   "execution_count": 8,
   "id": "9397d1a5-e5b8-4ab2-a596-6ae1235de655",
   "metadata": {},
   "outputs": [],
   "source": [
    "# 텔레그램 인증키 등록\n",
    "mykey = '5925683914:AAHodNMQ2UQgahXBusavtKQbyIjaQXy_Rsc'\n",
    "chat_id = 5797700110"
   ]
  },
  {
   "cell_type": "code",
   "execution_count": 9,
   "id": "325448e8-93ef-402c-8fd7-993ea3b43867",
   "metadata": {},
   "outputs": [],
   "source": [
    "# 텔레그램 봇 객체 생성\n",
    "bot = telegram.Bot(token=mykey)"
   ]
  },
  {
   "cell_type": "code",
   "execution_count": 10,
   "id": "cc489169-29e5-4cbc-86a8-fd996f805ddd",
   "metadata": {},
   "outputs": [
    {
     "data": {
      "text/plain": [
       "<telegram.message.Message at 0x1dfbfe22600>"
      ]
     },
     "execution_count": 10,
     "metadata": {},
     "output_type": "execute_result"
    }
   ],
   "source": [
    "# 특정 상대에게 메세지 보내기 테스트\n",
    "# send_message(대상, 메세지)\n",
    "bot.send_message(chat_id=chat_id, text='Hello, World!!')"
   ]
  },
  {
   "cell_type": "markdown",
   "id": "0322dd77-335e-4fd6-a7d5-317bcc0980b6",
   "metadata": {},
   "source": [
    "## 로또 번호를 생성해서 메세지로 전달하기 "
   ]
  },
  {
   "cell_type": "code",
   "execution_count": 12,
   "id": "97644d99-771f-4d5e-9d1a-be9d2fa1476a",
   "metadata": {},
   "outputs": [],
   "source": [
    "import numpy as np\n",
    "import random"
   ]
  },
  {
   "cell_type": "code",
   "execution_count": 17,
   "id": "6ab9bc39-1ef8-4845-b9e6-acd10cf1d1c8",
   "metadata": {},
   "outputs": [
    {
     "data": {
      "text/plain": [
       "<telegram.message.Message at 0x1dfc0041f20>"
      ]
     },
     "execution_count": 17,
     "metadata": {},
     "output_type": "execute_result"
    }
   ],
   "source": [
    "lotto = []\n",
    "for i in range(6):\n",
    "    lotto.append(random.randrange(1,45))\n",
    "\n",
    "bot.send_message(chat_id=chat_id, text=f'Lotto Number : {lotto}')"
   ]
  },
  {
   "cell_type": "markdown",
   "id": "e554912a-b38d-437c-bb4c-21c18479da79",
   "metadata": {},
   "source": [
    "## 로또 번호를 알려주는 봇 생성"
   ]
  },
  {
   "cell_type": "code",
   "execution_count": null,
   "id": "0b0827e2-291f-43a4-a653-ea5ff052919c",
   "metadata": {},
   "outputs": [],
   "source": []
  }
 ],
 "metadata": {
  "kernelspec": {
   "display_name": "Python 3 (ipykernel)",
   "language": "python",
   "name": "python3"
  },
  "language_info": {
   "codemirror_mode": {
    "name": "ipython",
    "version": 3
   },
   "file_extension": ".py",
   "mimetype": "text/x-python",
   "name": "python",
   "nbconvert_exporter": "python",
   "pygments_lexer": "ipython3",
   "version": "3.9.13"
  }
 },
 "nbformat": 4,
 "nbformat_minor": 5
}
