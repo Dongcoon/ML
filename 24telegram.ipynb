{
 "cells": [
  {
   "cell_type": "markdown",
   "id": "714fc600-dbd1-4a44-925b-8ba0f84e85cb",
   "metadata": {},
   "source": [
    "## 텔레그램 봇 만들기\n",
    "* telegram.org\n",
    "* 봇이름 : bigdata전화번호뒷4자리Bot"
   ]
  },
  {
   "cell_type": "code",
   "execution_count": 1,
   "id": "0bd17245-affe-4dc6-a742-b3acfeaa6e06",
   "metadata": {
    "tags": []
   },
   "outputs": [
    {
     "name": "stdout",
     "output_type": "stream",
     "text": [
      "Requirement already satisfied: python-telegram-bot in c:\\users\\lg pc\\lib\\site-packages (13.14)\n",
      "Requirement already satisfied: tornado==6.1 in c:\\users\\lg pc\\lib\\site-packages (from python-telegram-bot) (6.1)\n",
      "Requirement already satisfied: certifi in c:\\users\\lg pc\\lib\\site-packages (from python-telegram-bot) (2022.9.24)\n",
      "Requirement already satisfied: pytz>=2018.6 in c:\\users\\lg pc\\lib\\site-packages (from python-telegram-bot) (2022.5)\n",
      "Requirement already satisfied: APScheduler==3.6.3 in c:\\users\\lg pc\\lib\\site-packages (from python-telegram-bot) (3.6.3)\n",
      "Requirement already satisfied: cachetools==4.2.2 in c:\\users\\lg pc\\lib\\site-packages (from python-telegram-bot) (4.2.2)\n",
      "Requirement already satisfied: setuptools>=0.7 in c:\\users\\lg pc\\lib\\site-packages (from APScheduler==3.6.3->python-telegram-bot) (60.2.0)\n",
      "Requirement already satisfied: six>=1.4.0 in c:\\users\\lg pc\\lib\\site-packages (from APScheduler==3.6.3->python-telegram-bot) (1.16.0)\n",
      "Requirement already satisfied: tzlocal>=1.2 in c:\\users\\lg pc\\lib\\site-packages (from APScheduler==3.6.3->python-telegram-bot) (4.2)\n",
      "Requirement already satisfied: pytz-deprecation-shim in c:\\users\\lg pc\\lib\\site-packages (from tzlocal>=1.2->APScheduler==3.6.3->python-telegram-bot) (0.1.0.post0)\n",
      "Requirement already satisfied: tzdata in c:\\users\\lg pc\\lib\\site-packages (from tzlocal>=1.2->APScheduler==3.6.3->python-telegram-bot) (2022.6)\n"
     ]
    }
   ],
   "source": [
    "!pip install python-telegram-bot"
   ]
  },
  {
   "cell_type": "code",
   "execution_count": 2,
   "id": "0d1b0dac-f2c7-493d-a117-f55061ae9616",
   "metadata": {},
   "outputs": [],
   "source": [
    "import telegram"
   ]
  },
  {
   "cell_type": "code",
   "execution_count": 3,
   "id": "9397d1a5-e5b8-4ab2-a596-6ae1235de655",
   "metadata": {},
   "outputs": [],
   "source": [
    "# 텔레그램 인증키 등록\n",
    "mykey = '5925683914:AAHodNMQ2UQgahXBusavtKQbyIjaQXy_Rsc'\n",
    "chat_id = 5797700110"
   ]
  },
  {
   "cell_type": "code",
   "execution_count": 4,
   "id": "325448e8-93ef-402c-8fd7-993ea3b43867",
   "metadata": {},
   "outputs": [],
   "source": [
    "# 텔레그램 봇 객체 생성\n",
    "bot = telegram.Bot(token=mykey)"
   ]
  },
  {
   "cell_type": "code",
   "execution_count": 5,
   "id": "cc489169-29e5-4cbc-86a8-fd996f805ddd",
   "metadata": {},
   "outputs": [
    {
     "data": {
      "text/plain": [
       "<telegram.message.Message at 0x1ffebe07650>"
      ]
     },
     "execution_count": 5,
     "metadata": {},
     "output_type": "execute_result"
    }
   ],
   "source": [
    "# 특정 상대에게 메세지 보내기 테스트\n",
    "# send_message(대상, 메세지)\n",
    "bot.send_message(chat_id=chat_id, text='Hello, World!!')"
   ]
  },
  {
   "cell_type": "markdown",
   "id": "0322dd77-335e-4fd6-a7d5-317bcc0980b6",
   "metadata": {},
   "source": [
    "## 로또 번호를 생성해서 메세지로 전달하기 "
   ]
  },
  {
   "cell_type": "code",
   "execution_count": 6,
   "id": "97644d99-771f-4d5e-9d1a-be9d2fa1476a",
   "metadata": {},
   "outputs": [],
   "source": [
    "import random"
   ]
  },
  {
   "cell_type": "code",
   "execution_count": 7,
   "id": "6ab9bc39-1ef8-4845-b9e6-acd10cf1d1c8",
   "metadata": {},
   "outputs": [
    {
     "data": {
      "text/plain": [
       "<telegram.message.Message at 0x1ffebe068d0>"
      ]
     },
     "execution_count": 7,
     "metadata": {},
     "output_type": "execute_result"
    }
   ],
   "source": [
    "# random.sample(범위, 추출수)\n",
    "lotto = random.sample(range(1,45+1),6)\n",
    "\n",
    "bot.send_message(chat_id=chat_id, text=f'Lotto Number : {lotto}')"
   ]
  },
  {
   "cell_type": "markdown",
   "id": "e554912a-b38d-437c-bb4c-21c18479da79",
   "metadata": {},
   "source": [
    "## 로또 번호를 알려주는 봇 생성\n",
    "* /lotto 라고 입력하면 6개의 숫자 출력\n",
    "* 더불어 /time, /date라고 입력하면 현재시간과 날짜를 출력"
   ]
  },
  {
   "cell_type": "code",
   "execution_count": 8,
   "id": "0b0827e2-291f-43a4-a653-ea5ff052919c",
   "metadata": {},
   "outputs": [],
   "source": [
    "import time\n",
    "import datetime as dt\n",
    "\n",
    "from telegram import Update\n",
    "from telegram.ext import Updater, CallbackContext\n",
    "from telegram.ext import MessageHandler\n",
    "from telegram.ext import CommandHandler\n",
    "from telegram.ext import Filters"
   ]
  },
  {
   "cell_type": "markdown",
   "id": "a00a4d13-1fe5-4b52-b8ac-97f57cb1eeb2",
   "metadata": {},
   "source": [
    "## 파이썬으로 날짜형식 다루기"
   ]
  },
  {
   "cell_type": "code",
   "execution_count": 9,
   "id": "845d1943-4c93-473e-9429-1aa7c3c78b66",
   "metadata": {},
   "outputs": [
    {
     "data": {
      "text/plain": [
       "datetime.datetime(2022, 11, 24, 11, 20, 13, 231137)"
      ]
     },
     "execution_count": 9,
     "metadata": {},
     "output_type": "execute_result"
    }
   ],
   "source": [
    "now = dt.datetime.now()\n",
    "now"
   ]
  },
  {
   "cell_type": "code",
   "execution_count": 10,
   "id": "2ed3c24a-841b-434a-9e52-22111d2bffcf",
   "metadata": {},
   "outputs": [
    {
     "data": {
      "text/plain": [
       "'2022-11-24 Thursday Thu'"
      ]
     },
     "execution_count": 10,
     "metadata": {},
     "output_type": "execute_result"
    }
   ],
   "source": [
    "# strftime : 날짜객체를 원하는 형식으로 출력하도록 해줌\n",
    "# %A, %a : 요일 표시\n",
    "now.strftime('%Y-%m-%d %A %a')"
   ]
  },
  {
   "cell_type": "code",
   "execution_count": 11,
   "id": "e5ec76d9-753d-4735-b6a5-47bb976d48ae",
   "metadata": {},
   "outputs": [
    {
     "data": {
      "text/plain": [
       "'AM:11:20:13'"
      ]
     },
     "execution_count": 11,
     "metadata": {},
     "output_type": "execute_result"
    }
   ],
   "source": [
    "# %p : 오전/오후 표시\n",
    "# I,H : 12시간 / 24시간 기준\n",
    "now.strftime('%p:%I:%M:%S')"
   ]
  },
  {
   "cell_type": "code",
   "execution_count": 12,
   "id": "ef1f7ca1-e599-48c8-8ff8-2306268f7268",
   "metadata": {},
   "outputs": [
    {
     "data": {
      "text/plain": [
       "'ko_KR.UTF-8'"
      ]
     },
     "execution_count": 12,
     "metadata": {},
     "output_type": "execute_result"
    }
   ],
   "source": [
    "# 로케일 설정을 바꿔 요일이나 오전을 한글로 표시\n",
    "# setlocale(로케일)\n",
    "# 한국의 로케일은 ko_KR.UTF-8로 지정\n",
    "import locale\n",
    "locale.setlocale(locale.LC_ALL, 'ko_KR.UTF-8')"
   ]
  },
  {
   "cell_type": "code",
   "execution_count": 13,
   "id": "624cd8d1-b147-40b6-8fd8-04211e052593",
   "metadata": {},
   "outputs": [
    {
     "data": {
      "text/plain": [
       "'2022-11-24 목요일'"
      ]
     },
     "execution_count": 13,
     "metadata": {},
     "output_type": "execute_result"
    }
   ],
   "source": [
    "now.strftime('%Y-%m-%d %A')"
   ]
  },
  {
   "cell_type": "code",
   "execution_count": 14,
   "id": "5190226e-d828-430b-99c9-07b29d7fcae6",
   "metadata": {},
   "outputs": [
    {
     "data": {
      "text/plain": [
       "'오전:11:20:13'"
      ]
     },
     "execution_count": 14,
     "metadata": {},
     "output_type": "execute_result"
    }
   ],
   "source": [
    "now.strftime('%p:%I:%M:%S')"
   ]
  },
  {
   "cell_type": "markdown",
   "id": "edf6dd4f-5f6c-4bab-a923-9a04c40c1de3",
   "metadata": {},
   "source": [
    "### 텔레그램 챗봇 응답처리 콜백함수\n",
    "+ 콜백함수명(context, update)"
   ]
  },
  {
   "cell_type": "code",
   "execution_count": 15,
   "id": "cc83a319-77a5-47d1-9238-2cede47fa75b",
   "metadata": {},
   "outputs": [],
   "source": [
    "# 입력받은 메세지를 다시 메세지로 출력하는 함수\n",
    "# update.message.chat_id : 메세지를 입력한 사용자의 식별코드\n",
    "# update.message.text : 사용자가 방금 입력한 메세지\n",
    "def reply_message(update, context):\n",
    "    context.bot.send_message(text=update.message.text,\n",
    "                   chat_id=update.message.chat_id)"
   ]
  },
  {
   "cell_type": "code",
   "execution_count": 16,
   "id": "9b348800-68bb-4bb7-8d00-e5c23d9b5d14",
   "metadata": {},
   "outputs": [],
   "source": [
    "# /Lotto라 입력했을때 로또번호를 출력하는 함수\n",
    "def lotto_message(update, context):\n",
    "    lotto = random.sample(range(1,45+1),6)\n",
    "    context.bot.send_message(text=f'🎉{lotto}🎉',\n",
    "                   chat_id=update.message.chat_id)"
   ]
  },
  {
   "cell_type": "code",
   "execution_count": 17,
   "id": "e40462d9-956d-4fc5-9292-1543528cb99e",
   "metadata": {},
   "outputs": [],
   "source": [
    "# /time라 입력했을때 현재시간 출력하는 함수\n",
    "locale.setlocale(locale.LC_ALL, 'ko_KR.UTF-8')\n",
    "\n",
    "def time_message(update, context):\n",
    "    now = dt.datetime.now()\n",
    "    time = now.strftime('%p:%I:%M:%S')\n",
    "    context.bot.send_message(text=f'⏱️{time}⏱️',\n",
    "                   chat_id=update.message.chat_id)"
   ]
  },
  {
   "cell_type": "code",
   "execution_count": 18,
   "id": "1c4114dd-22c5-4384-a0dd-970b678c0db6",
   "metadata": {},
   "outputs": [],
   "source": [
    "# /date라 입력했을때 현재날짜를 출력하는 함수\n",
    "locale.setlocale(locale.LC_ALL, 'ko_KR.UTF-8')\n",
    "\n",
    "def date_message(update, context):\n",
    "    now = dt.datetime.now()\n",
    "    date = now.strftime('%Y-%m-%d %A')\n",
    "    context.bot.send_message(text=f'📆{date}📆',\n",
    "                   chat_id=update.message.chat_id)"
   ]
  },
  {
   "cell_type": "code",
   "execution_count": null,
   "id": "aa72390f-c719-450f-8790-49780a1562d8",
   "metadata": {},
   "outputs": [],
   "source": []
  },
  {
   "cell_type": "markdown",
   "id": "d977f7b4-b1b8-4dcc-942a-e0cf8885eed5",
   "metadata": {},
   "source": [
    "## 텔레그램 챗봇 서버실행\n",
    "* 위에서 정의한 콜백함수들을 핸들러객체로 만든후 챗봇서버에 등록\n",
    "* MessageHandler : 입력받은 텍스트를 그대로 처리할때 사용할 콜백함수를 호출하는 핸들러\n",
    "\n",
    "* CommandHandler : 특정문자열 입력시 이것과 관련된 콜백함수 호출\n",
    "    * CommandHandler(명령, 콜백함수)\n",
    "\n",
    "* addHandler : 생성한 핸들러 객체를 챗봇서버에 등록함\n"
   ]
  },
  {
   "cell_type": "code",
   "execution_count": 19,
   "id": "73db09c1-020d-4c02-af46-1af69d5855a3",
   "metadata": {},
   "outputs": [
    {
     "name": "stdout",
     "output_type": "stream",
     "text": [
      "텔레그램 RPA 서버 실행 준비중...\n"
     ]
    }
   ],
   "source": [
    "print('텔레그램 RPA 서버 실행 준비중...')\n",
    "updater = Updater(mykey)"
   ]
  },
  {
   "cell_type": "code",
   "execution_count": 20,
   "id": "14938438-0491-4b95-8c4f-80bd6315d927",
   "metadata": {},
   "outputs": [],
   "source": [
    "# 핸들러 정의\n",
    "# 정의순서 : 커맨드핸들러 -> 메세지핸들러\n",
    "# 핸들러이름(명령, 호출할 콜백함수명)\n",
    "lotto_handler = CommandHandler('lotto',lotto_message)\n",
    "time_handler = CommandHandler('time',time_message)\n",
    "date_handler = CommandHandler('date',date_message)\n",
    "reply_handler = MessageHandler(Filters.text,reply_message)"
   ]
  },
  {
   "cell_type": "code",
   "execution_count": 21,
   "id": "4d0c7b7c-a1cb-412c-b30b-8586a7b55eba",
   "metadata": {},
   "outputs": [],
   "source": [
    "# 핸들러 등록\n",
    "updater.dispatcher.add_handler(lotto_handler)\n",
    "updater.dispatcher.add_handler(date_handler)\n",
    "updater.dispatcher.add_handler(time_handler)\n",
    "updater.dispatcher.add_handler(reply_handler)  # ! !"
   ]
  },
  {
   "cell_type": "code",
   "execution_count": 22,
   "id": "f7377341-b9dd-46cc-be30-3638019c8386",
   "metadata": {
    "tags": []
   },
   "outputs": [
    {
     "name": "stdout",
     "output_type": "stream",
     "text": [
      "챗봇 서버 가동중...\n"
     ]
    }
   ],
   "source": [
    "# 챗봇 서버 가동\n",
    "print('챗봇 서버 가동중...')\n",
    "updater.start_polling()\n",
    "updater.idle()"
   ]
  },
  {
   "cell_type": "code",
   "execution_count": null,
   "id": "c4a0ea0e-23dd-4fbb-99e8-ee4ae54cdfce",
   "metadata": {},
   "outputs": [],
   "source": []
  }
 ],
 "metadata": {
  "kernelspec": {
   "display_name": "Python 3 (ipykernel)",
   "language": "python",
   "name": "python3"
  },
  "language_info": {
   "codemirror_mode": {
    "name": "ipython",
    "version": 3
   },
   "file_extension": ".py",
   "mimetype": "text/x-python",
   "name": "python",
   "nbconvert_exporter": "python",
   "pygments_lexer": "ipython3",
   "version": "3.9.13"
  }
 },
 "nbformat": 4,
 "nbformat_minor": 5
}
