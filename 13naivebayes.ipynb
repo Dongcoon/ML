{
 "cells": [
  {
   "cell_type": "code",
   "execution_count": 19,
   "id": "767b6500-d7f0-47c1-9b44-c716698e5214",
   "metadata": {},
   "outputs": [],
   "source": [
    "import numpy as np\n",
    "import pandas as pd\n",
    "import matplotlib.pyplot as plt\n",
    "import seaborn as sns\n",
    "import pydotplus\n",
    "import matplotlib.image as pltimg"
   ]
  },
  {
   "cell_type": "code",
   "execution_count": 18,
   "id": "9f5e588a-d469-46e4-acbe-fddf000681fb",
   "metadata": {},
   "outputs": [],
   "source": [
    "from sklearn.model_selection import train_test_split\n",
    "from sklearn.naive_bayes import BernoulliNB, MultinomialNB\n",
    "\n",
    "from sklearn.metrics import confusion_matrix\n",
    "from sklearn.metrics import accuracy_score, f1_score\n",
    "from sklearn.metrics import recall_score, precision_score\n",
    "\n",
    "from sklearn.metrics import roc_curve, roc_auc_score"
   ]
  },
  {
   "cell_type": "markdown",
   "id": "7656f8a7-7a11-4b4b-abca-c49070aced84",
   "metadata": {},
   "source": [
    "## 나이브 베이즈 분석\n",
    "* 조건부확률이 이용한 확률 기반 머신러닝 분류 알고리즘   \n",
    "* 주사위를 굴려 짝수눈이 나올 확률P은? \n",
    "    + 어떤 사건의 확률P = 원하는 결과수 / 가능한 결과수\n",
    "    + 모든 실험의 결과가 동일한 가능성을 가진다고 가정함\n",
    "    + 이를 **고전적확률**이라 함\n",
    "    + 상호배타적, 덧셈법칙, 여의법칙,덧셈의 일반법칙,곱셈법칙(독립사건),조건부확률\n",
    "* 동전을 100회 던졌을때 앞면이 나오는 횟수는?\n",
    "    + 전통적 확률에서는 **일어난횟수/전체시도횟수**로 계산\n",
    "    + 이를 **경험적확률**이라 함 - 일정한 확률로 반복시행\n",
    "    + 시행횟수가 충분히 했을때 어떤 사건이 일어나는 상대적 횟수는 일정한 패턴을 보인다는 의미\n",
    "    + 대수의 법칙    \n",
    "* 만일, A 라는 도시에 수지가 태어난 경우, 이 아이가 노벨상을 받을 확률은 얼마나 될까?\n",
    "    + 이것을 경험적 확률로 계산하려면 \n",
    "    + 이 아이를 여러 명 살게하고 그 중 몇명이 노벨상을 받는지 평가해보면 됨\n",
    "    + 문제는 동일한 유전자, 환경에 자란 아이를 만들수 있는가 임\n",
    "* 이러한 상황에서는 **베이즈 확률론**을 이용한다\n",
    "    + 활용 가능한 정보에 기초해서 어떤 개인이 결정한 특정 사건이 발생할 가능성(확률) \n",
    "    + 일어나지 않은일에 대한 확률을 불확실성이라는 개념으로 이야기 함\n",
    "    + 즉, 이 사건과 관련된 여러가지 확률을 이용해서 새롭게 일어날 수 있는 사건에 대해 추정하는 것\n",
    "    + 이를 **주관적확률**이라 함\n",
    "    + 베이즈 정리, 사전확률, 사후확률 - 나이브 베이즈"
   ]
  },
  {
   "cell_type": "markdown",
   "id": "42add5b3-a7c8-499c-8ef2-52dab5ce547a",
   "metadata": {},
   "source": [
    "## 중요 확률 개념\n",
    "* 조건부 확률\n",
    "    + 어떤 사건 B가 일어났을 때 사건 A가 일어날 확률을 의미\n",
    "    + $ P(A|B) = \\frac {P(A \\cap B)} {P(B)} $\n",
    "* 확률의 곱셈법칙\n",
    "    + 두 가지 이상의 사건이 동시에 발생하는 확률\n",
    "    + 사건 A,B가 동시에 일어날 확률은 사건 A 발생 확률과 사건 B 발생 확률을 곱한 것과 같음\n",
    "    + $ P(A ∩ B) = P(A|B)P(B) = P(B|A)P(A) $\n",
    "* 전체 확률의 법칙\n",
    "    + 나중에 주어지는 사건 X의 확률은 그 사건의 원인을 여러가지로 나누어서,\n",
    "    + 각 원인에 대한 조건부 확률 P(X|Y)과 그 원인이 되는 확률 P(Y)의 곱에 의한\n",
    "    + 가중합으로 구할 수 있음을 말함\n",
    "    + $ P(A) = P(A ∩ B_1) + P(A ∩ B_2) + ... $"
   ]
  },
  {
   "cell_type": "markdown",
   "id": "d263b4cf-a216-4690-b538-7c8729482fcc",
   "metadata": {},
   "source": [
    "## 베이즈 이론\n",
    "* 18세기 영국 장로교 목사였던 토마스 베이즈는 신이 실제로 존재하는가에 대한 문제로 고심\n",
    "    + 수학에 관심이 있었기 때문에 지구상의 모든 증거를 이용해서 신이 존재할 확률을 계산하는 공식을 개발하려 함\n",
    "    + 후에 베이즈의 업적을 정리해서 나온 결과물\n",
    "* 이전의 경험과 현재의 증거를 토대로 어떤 사건의 확률을 추론\n",
    "* 확률 $P(A|B)$를 알고 있을 때, 관계가 정반대인 확률 $P(B|A)$를 계산\n",
    "* $ P(A|B) = P(A) \\cdot \\frac {P(B|A)} {P(B)} $\n",
    "    + $P(A)$ : $A$의 사전확률 - 현재의 증거\n",
    "    + $P(B)$ : $B$의 사전확률 - 과거의 경험\n",
    "    + $P(A|B)$ : 사건 $B$가 주어졌을때 $A$의 조건부 확률\n",
    "        - 알려진 결과에 기초한 어떤 가설에 대한 가능성\n",
    "    + $P(B|A)$ : 사건 $A$라는 증거에 대한 사후 확률\n",
    "        - 사건 $A$가 일어났다는 것을 알고 그것이 사건 $B$로 부터 일어난 것이라고 생각되는 조건부 확률\n",
    "* $ P(A|B) = \\frac {P(B \\cap A)} {P(B)} = \\frac {P(B|A)P(A)} {P(B)} =  \n",
    "             \\frac {P(B|A)P(A)} {P(A ∩ B) + P(\\sim A ∩ B)}  $"
   ]
  },
  {
   "cell_type": "markdown",
   "id": "3dd47d89-f4a1-4597-bad5-0932a757d74e",
   "metadata": {},
   "source": [
    "## 베이즈 정리\n",
    "* experience base prediction\n",
    "* 이전의 경험과 현재의 증거를 토대로 어떤 사건의 확률을 추론하는 알고리즘\n",
    "* 따라서, 사건이 일어날 확률을 토대로 의사결정을 하는 경우, 그와 관련된 사전정보를 얼마나\n",
    "알고 있나에 따라 크게 좌우\n",
    "* 기하학 : 피타고라스 정리 = 확률학 : 베이즈 정리"
   ]
  },
  {
   "cell_type": "markdown",
   "id": "dba14e94-f057-4f99-b7a3-58f2096edb7a",
   "metadata": {},
   "source": [
    "## 베이즈 정리에 대한 예제\n",
    "* 삼키기 어려울 정도의 목에 통증 유발 - 인후염\n",
    "* 병원 방문후 검사(정확도 90%) 시행 \n",
    "    + 결과 : 양성(폐암)\n",
    "* 의사 : 이 결과로 폐암일 확률은 10%도 안될 수 있음\n",
    "    + 폐암에 걸린 남성은 성인 남성 1% 정도\n",
    "* 환자 : 그래도 걱정이 되니 추가 검사 시행 - 음성(!)\n",
    "* 베이즈 정리에 근거, 실제 검사에서 양성이 나왔을때 진짜 폐암에 걸릴 확률은 ???\n",
    "\n",
    "\n",
    "* 베이즈 정리 : P(A|B) = P(A)P(B|A)/P(B)\n",
    "* 조건부확률 : P(A ∩ B) = P(A)P(B|A) = P(B)P(A|B)\n",
    " + 따라서, P(A|B) = P(A ∩ B)/P(B)로 도출가능\n",
    " + 결론적으로 P(A|B) = P(B)P(A|B)/P(B)로도 사용가능\n",
    "* 양성일때 폐암일 확률 = \n",
    " + P(폐암|양성) = P(폐암∩양성) / P(양성) = P(폐암)P(양성|폐암) / P(양성)\n",
    "* 폐암일때 양성일 확률 \n",
    " + P(양성|폐암) = P(양성∩폐암) / P(폐암) = P(양성)P(폐암|양성) / P(폐암)\n",
    "\n",
    "\n",
    "* 정확도 90% 검사로, 양성일때 폐암일 확률은? P(폐암|양성) = 0.9\n",
    "* 성인 남성이 폐암에 걸릴 확률은? P(폐암) = 0.01\n",
    "* 양성일 확률은? P(양성)\n",
    "     + 베이즈 정리와 전체 확률의 법칙을 이용\n",
    "     + **폐암이고, 검사로도 진짜 양성**일 확률과\n",
    "     + **폐암이 아닌데, 검사로 양성**일 확률을 더한 확률\n",
    "     + P(양성|폐암)P(폐암) + P(양성|1-폐암)P(1-폐암)\n",
    "     + = 0.9  0.01 + 0.1  0.99 = 0.10791 = 0.108 = 11%\n",
    "     + 따라서, P(폐암|양성) = P(폐암)P(양성|폐암) / P(양성) \n",
    "     + = (0.01 * 0.9) / 0.108 = 0.083 = 8.3% (별거아님)\n",
    "    \n",
    "* 시간이 지나 다시 목이 아프고 숨을 쉬기 어려워서 다시 병원에 감\n",
    "* 다시 검사(정확도99%) 해보니 역시 양성\n",
    "     + 예전 경험에 비춰 별거 아니라고 생각\n",
    "* 의사는 폐암에 걸릴 확률이 50%로 증가\n",
    "    + 절대 심각할 수 있다고 경고\n",
    "    + P(양성|폐암)P(폐암) + P(양성|1-폐암)P(1-폐암)\n",
    "    + = (0.99 * 0.01) + (0.01 * 0.99) = 0.0197\n",
    "    + 따라서, P(폐암|양성) = P(폐암)P(양성|폐암) / P(양성) \n",
    "    + = (0.01 * 0.99) / 0.0197 = 0.503 = 50% (심각함)"
   ]
  },
  {
   "cell_type": "markdown",
   "id": "f21d34eb-baab-440b-8db5-4520bba97655",
   "metadata": {},
   "source": [
    "## 나이브베이즈 예제\n",
    "* 나이브 베이즈에서 '나이브naive'는 단순한 이란 뜻으로 모든 변수가 서로 독립이라고 가정하고 확률을 계산함\n",
    "* 사후확률값 자체를 아는 것이 중요한 것이 아니고 각각의 사후확률의 크기를 비교하는 것 만으로도 충분하기 때문에 **수식의 분모는 상수처럼 취급**함\n",
    "* 각 변수의 상호작용을 고려해서 확률을 구하려면 수식이 상당히 복잡해짐\n",
    "* 각 변수를 독립사건처럼 단순화함으로써 **수식이 단순해지는 효과**를 얻을 수 있음"
   ]
  },
  {
   "cell_type": "markdown",
   "id": "cafa9015-bc6e-4cc6-9ad1-281b5f081e74",
   "metadata": {},
   "source": [
    "### 집 없고 결혼했고 회사경력 3년인 밥은 연체할 것인가?\n",
    "<img src='img/loan.png' width='50%'>"
   ]
  },
  {
   "cell_type": "code",
   "execution_count": 1,
   "id": "841f0cc3-3a77-4573-b50a-d52cc0e00177",
   "metadata": {},
   "outputs": [],
   "source": [
    "# 집 없고 결혼했고 회사경력 3년\n",
    "# P(A|B) = P(A)P(B|A) / P(B)\n",
    "#        = P(연체|집,결혼,경력)\n",
    "#        = P(연체|집) * P(연체|결혼) * P(연체|경력)\n",
    "#        = P(연체)P(집|연체) / P(집) * P(연체)P(결혼|연체) / P(결혼) * P(연체)P(경력|연체) / P(경력)\n",
    "#        = P(연체)P(집|연체) * P(연체)P(결혼|연체) * P(연체)P(경력|연체)         "
   ]
  },
  {
   "cell_type": "markdown",
   "id": "5c72fcc7-1a96-4f5b-9b2d-a7305e8562fd",
   "metadata": {},
   "source": [
    "### 밥이 연체할 확률\n",
    "+ P(A|B) = P(A)P(B|A) / P(B) =  P(A)P(B|A)\n",
    "+ P(B) = 집, 결혼, 경력\n",
    "+ P(A) = 연체 여부"
   ]
  },
  {
   "cell_type": "markdown",
   "id": "34713294-e75f-47b0-9c4c-d385a2199b76",
   "metadata": {},
   "source": [
    "### 밥이 연체 안할 확률"
   ]
  },
  {
   "cell_type": "code",
   "execution_count": null,
   "id": "847066f8-f16e-4d19-b6ea-b14fddba4586",
   "metadata": {},
   "outputs": [],
   "source": [
    "# P(A) = P(Yes) = 3/10\n",
    "# P(B) = P(집, 결혼, 경력) = P(집)*P(결혼)*P(경력)\n",
    "# P(집) = P(집없음|Yes) = 2/3\n",
    "# P(결혼) = P(결혼함|Yes) = 1/3\n",
    "# P(경력) = P(경력=3|Yes) = 1/3\n",
    "# 따라서, P(연체Y|집N,결혼Y,경력3) = P(A) * P(B) = 3/10 * 2/3 * 1/3 * 1/3 = 0.022"
   ]
  },
  {
   "cell_type": "code",
   "execution_count": null,
   "id": "af60db10-a062-4f2f-b337-f9dd30a70ef4",
   "metadata": {},
   "outputs": [],
   "source": [
    "# P(A) = P(No) = 7/10\n",
    "# P(B) = P(집, 결혼, 경력) = P(집)*P(결혼)*P(경력)\n",
    "# P(집) = P(집없음|No) = 4/7\n",
    "# P(결혼) = P(결혼함|No) = 4/7\n",
    "# P(경력) = P(경력=3|No) = 2/7\n",
    "# 따라서, P(연체N|집N,결혼Y,경력3) = P(A) * P(B) = 7/10 * 4/7 * 4/7 * 2/7 = 0.065"
   ]
  },
  {
   "cell_type": "code",
   "execution_count": null,
   "id": "baf6cf4b-f564-404c-bc71-580b76bfe53d",
   "metadata": {},
   "outputs": [],
   "source": [
    "# 따라서, 밥은 연체하지 않을 가능성이 높음(Y:0.22 vs N : 0.065)"
   ]
  },
  {
   "cell_type": "markdown",
   "id": "85309a8d-dec2-4399-b87d-76a34fe918c7",
   "metadata": {},
   "source": [
    "## 영화마케팅 문제를 나이즈베이즈로 분석\n",
    "* 영화관객의 성향을 설문조사로 정리\n",
    "* 관객의 속성으로 영화취향을 파악해 봄\n",
    "* sklearn에서 구현된 나이브베이즈 알고리즘은 3가지\n",
    "    + GaussianNB      : 연속형 데이터\n",
    "    + BernoulliNB     : 이진 데이터, 예/아니오\n",
    "    + MultinomialNB   : 텍스트 데이터, 다항"
   ]
  },
  {
   "cell_type": "code",
   "execution_count": 7,
   "id": "40fbb756-7511-47fd-b123-2cab27a393bd",
   "metadata": {},
   "outputs": [],
   "source": [
    "# P(B) = 20대, 여, IT, 미혼, 애인없음 \n",
    "# P(A) = 장르에 따른 선택 확률"
   ]
  },
  {
   "cell_type": "code",
   "execution_count": 9,
   "id": "7b754d06-082b-495c-b8be-1de05d54c614",
   "metadata": {},
   "outputs": [],
   "source": [
    "import pandas as pd\n",
    "import numpy as np"
   ]
  },
  {
   "cell_type": "code",
   "execution_count": 20,
   "id": "4fcb2ecf-1f52-4c1d-a51c-23e336a5d537",
   "metadata": {
    "collapsed": true,
    "jupyter": {
     "outputs_hidden": true
    },
    "tags": []
   },
   "outputs": [
    {
     "data": {
      "text/html": [
       "<div>\n",
       "<style scoped>\n",
       "    .dataframe tbody tr th:only-of-type {\n",
       "        vertical-align: middle;\n",
       "    }\n",
       "\n",
       "    .dataframe tbody tr th {\n",
       "        vertical-align: top;\n",
       "    }\n",
       "\n",
       "    .dataframe thead th {\n",
       "        text-align: right;\n",
       "    }\n",
       "</style>\n",
       "<table border=\"1\" class=\"dataframe\">\n",
       "  <thead>\n",
       "    <tr style=\"text-align: right;\">\n",
       "      <th></th>\n",
       "      <th>나이</th>\n",
       "      <th>성별</th>\n",
       "      <th>직업</th>\n",
       "      <th>결혼여부</th>\n",
       "      <th>이성친구</th>\n",
       "      <th>장르</th>\n",
       "    </tr>\n",
       "  </thead>\n",
       "  <tbody>\n",
       "    <tr>\n",
       "      <th>0</th>\n",
       "      <td>20대</td>\n",
       "      <td>여</td>\n",
       "      <td>디자이너</td>\n",
       "      <td>NO</td>\n",
       "      <td>YES</td>\n",
       "      <td>로맨틱</td>\n",
       "    </tr>\n",
       "    <tr>\n",
       "      <th>1</th>\n",
       "      <td>40대</td>\n",
       "      <td>남</td>\n",
       "      <td>홍보/마케팅</td>\n",
       "      <td>NO</td>\n",
       "      <td>NO</td>\n",
       "      <td>공포</td>\n",
       "    </tr>\n",
       "    <tr>\n",
       "      <th>2</th>\n",
       "      <td>10대</td>\n",
       "      <td>여</td>\n",
       "      <td>홍보/마케팅</td>\n",
       "      <td>NO</td>\n",
       "      <td>YES</td>\n",
       "      <td>로맨틱</td>\n",
       "    </tr>\n",
       "    <tr>\n",
       "      <th>3</th>\n",
       "      <td>20대</td>\n",
       "      <td>여</td>\n",
       "      <td>디자이너</td>\n",
       "      <td>YES</td>\n",
       "      <td>NO</td>\n",
       "      <td>로맨틱</td>\n",
       "    </tr>\n",
       "    <tr>\n",
       "      <th>4</th>\n",
       "      <td>10대</td>\n",
       "      <td>남</td>\n",
       "      <td>학생</td>\n",
       "      <td>NO</td>\n",
       "      <td>NO</td>\n",
       "      <td>액션</td>\n",
       "    </tr>\n",
       "  </tbody>\n",
       "</table>\n",
       "</div>"
      ],
      "text/plain": [
       "    나이 성별      직업 결혼여부 이성친구   장르\n",
       "0  20대  여    디자이너   NO  YES  로맨틱\n",
       "1  40대  남  홍보/마케팅   NO   NO   공포\n",
       "2  10대  여  홍보/마케팅   NO  YES  로맨틱\n",
       "3  20대  여    디자이너  YES   NO  로맨틱\n",
       "4  10대  남      학생   NO   NO   액션"
      ]
     },
     "execution_count": 20,
     "metadata": {},
     "output_type": "execute_result"
    }
   ],
   "source": [
    "movie = pd.read_csv('data/movie.csv', encoding='euc-kr')\n",
    "movie.head()"
   ]
  },
  {
   "cell_type": "code",
   "execution_count": 22,
   "id": "9689525d-329a-4e8f-bee5-c124307b1cef",
   "metadata": {},
   "outputs": [],
   "source": [
    "# 컬럼명 변경, 레이블인코딩 적용\n",
    "cols = ['나이','성별','직업','결혼여부','이성친구','장르']\n",
    "ncols = ['ages',' gender','job','married','lover','genre']\n",
    "\n",
    "for c in cols:\n",
    "    movie[c] = pd.Categorical(movie[c])\n",
    "    movie[c] = movie[c].cat.codes\n",
    "movie.columns = ncols # 컬럼명 변경"
   ]
  },
  {
   "cell_type": "code",
   "execution_count": 26,
   "id": "41a5e05f-cd36-4b73-96bc-0ff1b7d90bb6",
   "metadata": {
    "collapsed": true,
    "jupyter": {
     "outputs_hidden": true
    },
    "tags": []
   },
   "outputs": [
    {
     "data": {
      "text/html": [
       "<div>\n",
       "<style scoped>\n",
       "    .dataframe tbody tr th:only-of-type {\n",
       "        vertical-align: middle;\n",
       "    }\n",
       "\n",
       "    .dataframe tbody tr th {\n",
       "        vertical-align: top;\n",
       "    }\n",
       "\n",
       "    .dataframe thead th {\n",
       "        text-align: right;\n",
       "    }\n",
       "</style>\n",
       "<table border=\"1\" class=\"dataframe\">\n",
       "  <thead>\n",
       "    <tr style=\"text-align: right;\">\n",
       "      <th></th>\n",
       "      <th>ages</th>\n",
       "      <th>gender</th>\n",
       "      <th>job</th>\n",
       "      <th>married</th>\n",
       "      <th>lover</th>\n",
       "      <th>genre</th>\n",
       "    </tr>\n",
       "  </thead>\n",
       "  <tbody>\n",
       "    <tr>\n",
       "      <th>0</th>\n",
       "      <td>1</td>\n",
       "      <td>1</td>\n",
       "      <td>1</td>\n",
       "      <td>0</td>\n",
       "      <td>1</td>\n",
       "      <td>2</td>\n",
       "    </tr>\n",
       "    <tr>\n",
       "      <th>1</th>\n",
       "      <td>3</td>\n",
       "      <td>0</td>\n",
       "      <td>7</td>\n",
       "      <td>0</td>\n",
       "      <td>0</td>\n",
       "      <td>1</td>\n",
       "    </tr>\n",
       "    <tr>\n",
       "      <th>2</th>\n",
       "      <td>0</td>\n",
       "      <td>1</td>\n",
       "      <td>7</td>\n",
       "      <td>0</td>\n",
       "      <td>1</td>\n",
       "      <td>2</td>\n",
       "    </tr>\n",
       "    <tr>\n",
       "      <th>3</th>\n",
       "      <td>1</td>\n",
       "      <td>1</td>\n",
       "      <td>1</td>\n",
       "      <td>1</td>\n",
       "      <td>0</td>\n",
       "      <td>2</td>\n",
       "    </tr>\n",
       "    <tr>\n",
       "      <th>4</th>\n",
       "      <td>0</td>\n",
       "      <td>0</td>\n",
       "      <td>6</td>\n",
       "      <td>0</td>\n",
       "      <td>0</td>\n",
       "      <td>5</td>\n",
       "    </tr>\n",
       "    <tr>\n",
       "      <th>5</th>\n",
       "      <td>3</td>\n",
       "      <td>0</td>\n",
       "      <td>5</td>\n",
       "      <td>0</td>\n",
       "      <td>0</td>\n",
       "      <td>1</td>\n",
       "    </tr>\n",
       "    <tr>\n",
       "      <th>6</th>\n",
       "      <td>0</td>\n",
       "      <td>0</td>\n",
       "      <td>6</td>\n",
       "      <td>0</td>\n",
       "      <td>0</td>\n",
       "      <td>5</td>\n",
       "    </tr>\n",
       "    <tr>\n",
       "      <th>7</th>\n",
       "      <td>2</td>\n",
       "      <td>0</td>\n",
       "      <td>0</td>\n",
       "      <td>0</td>\n",
       "      <td>1</td>\n",
       "      <td>0</td>\n",
       "    </tr>\n",
       "    <tr>\n",
       "      <th>8</th>\n",
       "      <td>2</td>\n",
       "      <td>0</td>\n",
       "      <td>3</td>\n",
       "      <td>1</td>\n",
       "      <td>0</td>\n",
       "      <td>4</td>\n",
       "    </tr>\n",
       "    <tr>\n",
       "      <th>9</th>\n",
       "      <td>3</td>\n",
       "      <td>0</td>\n",
       "      <td>5</td>\n",
       "      <td>0</td>\n",
       "      <td>0</td>\n",
       "      <td>1</td>\n",
       "    </tr>\n",
       "    <tr>\n",
       "      <th>10</th>\n",
       "      <td>0</td>\n",
       "      <td>0</td>\n",
       "      <td>6</td>\n",
       "      <td>0</td>\n",
       "      <td>0</td>\n",
       "      <td>5</td>\n",
       "    </tr>\n",
       "    <tr>\n",
       "      <th>11</th>\n",
       "      <td>1</td>\n",
       "      <td>1</td>\n",
       "      <td>7</td>\n",
       "      <td>1</td>\n",
       "      <td>0</td>\n",
       "      <td>2</td>\n",
       "    </tr>\n",
       "    <tr>\n",
       "      <th>12</th>\n",
       "      <td>2</td>\n",
       "      <td>1</td>\n",
       "      <td>0</td>\n",
       "      <td>1</td>\n",
       "      <td>0</td>\n",
       "      <td>0</td>\n",
       "    </tr>\n",
       "    <tr>\n",
       "      <th>13</th>\n",
       "      <td>2</td>\n",
       "      <td>0</td>\n",
       "      <td>3</td>\n",
       "      <td>1</td>\n",
       "      <td>0</td>\n",
       "      <td>4</td>\n",
       "    </tr>\n",
       "    <tr>\n",
       "      <th>14</th>\n",
       "      <td>0</td>\n",
       "      <td>1</td>\n",
       "      <td>6</td>\n",
       "      <td>0</td>\n",
       "      <td>1</td>\n",
       "      <td>2</td>\n",
       "    </tr>\n",
       "    <tr>\n",
       "      <th>15</th>\n",
       "      <td>1</td>\n",
       "      <td>0</td>\n",
       "      <td>6</td>\n",
       "      <td>0</td>\n",
       "      <td>0</td>\n",
       "      <td>6</td>\n",
       "    </tr>\n",
       "    <tr>\n",
       "      <th>16</th>\n",
       "      <td>1</td>\n",
       "      <td>1</td>\n",
       "      <td>1</td>\n",
       "      <td>1</td>\n",
       "      <td>0</td>\n",
       "      <td>2</td>\n",
       "    </tr>\n",
       "    <tr>\n",
       "      <th>17</th>\n",
       "      <td>2</td>\n",
       "      <td>0</td>\n",
       "      <td>3</td>\n",
       "      <td>0</td>\n",
       "      <td>1</td>\n",
       "      <td>4</td>\n",
       "    </tr>\n",
       "    <tr>\n",
       "      <th>18</th>\n",
       "      <td>2</td>\n",
       "      <td>0</td>\n",
       "      <td>4</td>\n",
       "      <td>0</td>\n",
       "      <td>0</td>\n",
       "      <td>6</td>\n",
       "    </tr>\n",
       "    <tr>\n",
       "      <th>19</th>\n",
       "      <td>0</td>\n",
       "      <td>0</td>\n",
       "      <td>6</td>\n",
       "      <td>0</td>\n",
       "      <td>0</td>\n",
       "      <td>5</td>\n",
       "    </tr>\n",
       "    <tr>\n",
       "      <th>20</th>\n",
       "      <td>0</td>\n",
       "      <td>1</td>\n",
       "      <td>6</td>\n",
       "      <td>0</td>\n",
       "      <td>1</td>\n",
       "      <td>2</td>\n",
       "    </tr>\n",
       "    <tr>\n",
       "      <th>21</th>\n",
       "      <td>2</td>\n",
       "      <td>0</td>\n",
       "      <td>4</td>\n",
       "      <td>0</td>\n",
       "      <td>0</td>\n",
       "      <td>6</td>\n",
       "    </tr>\n",
       "    <tr>\n",
       "      <th>22</th>\n",
       "      <td>3</td>\n",
       "      <td>0</td>\n",
       "      <td>4</td>\n",
       "      <td>0</td>\n",
       "      <td>0</td>\n",
       "      <td>1</td>\n",
       "    </tr>\n",
       "    <tr>\n",
       "      <th>23</th>\n",
       "      <td>3</td>\n",
       "      <td>0</td>\n",
       "      <td>7</td>\n",
       "      <td>0</td>\n",
       "      <td>0</td>\n",
       "      <td>6</td>\n",
       "    </tr>\n",
       "    <tr>\n",
       "      <th>24</th>\n",
       "      <td>2</td>\n",
       "      <td>0</td>\n",
       "      <td>0</td>\n",
       "      <td>1</td>\n",
       "      <td>0</td>\n",
       "      <td>0</td>\n",
       "    </tr>\n",
       "    <tr>\n",
       "      <th>25</th>\n",
       "      <td>2</td>\n",
       "      <td>0</td>\n",
       "      <td>3</td>\n",
       "      <td>0</td>\n",
       "      <td>1</td>\n",
       "      <td>4</td>\n",
       "    </tr>\n",
       "    <tr>\n",
       "      <th>26</th>\n",
       "      <td>0</td>\n",
       "      <td>1</td>\n",
       "      <td>6</td>\n",
       "      <td>0</td>\n",
       "      <td>1</td>\n",
       "      <td>2</td>\n",
       "    </tr>\n",
       "    <tr>\n",
       "      <th>27</th>\n",
       "      <td>1</td>\n",
       "      <td>0</td>\n",
       "      <td>6</td>\n",
       "      <td>0</td>\n",
       "      <td>0</td>\n",
       "      <td>6</td>\n",
       "    </tr>\n",
       "    <tr>\n",
       "      <th>28</th>\n",
       "      <td>2</td>\n",
       "      <td>1</td>\n",
       "      <td>0</td>\n",
       "      <td>1</td>\n",
       "      <td>0</td>\n",
       "      <td>0</td>\n",
       "    </tr>\n",
       "    <tr>\n",
       "      <th>29</th>\n",
       "      <td>0</td>\n",
       "      <td>0</td>\n",
       "      <td>6</td>\n",
       "      <td>0</td>\n",
       "      <td>0</td>\n",
       "      <td>5</td>\n",
       "    </tr>\n",
       "    <tr>\n",
       "      <th>30</th>\n",
       "      <td>0</td>\n",
       "      <td>0</td>\n",
       "      <td>2</td>\n",
       "      <td>0</td>\n",
       "      <td>0</td>\n",
       "      <td>3</td>\n",
       "    </tr>\n",
       "    <tr>\n",
       "      <th>31</th>\n",
       "      <td>2</td>\n",
       "      <td>0</td>\n",
       "      <td>3</td>\n",
       "      <td>1</td>\n",
       "      <td>0</td>\n",
       "      <td>4</td>\n",
       "    </tr>\n",
       "    <tr>\n",
       "      <th>32</th>\n",
       "      <td>2</td>\n",
       "      <td>0</td>\n",
       "      <td>2</td>\n",
       "      <td>0</td>\n",
       "      <td>0</td>\n",
       "      <td>3</td>\n",
       "    </tr>\n",
       "    <tr>\n",
       "      <th>33</th>\n",
       "      <td>2</td>\n",
       "      <td>1</td>\n",
       "      <td>0</td>\n",
       "      <td>1</td>\n",
       "      <td>0</td>\n",
       "      <td>0</td>\n",
       "    </tr>\n",
       "    <tr>\n",
       "      <th>34</th>\n",
       "      <td>1</td>\n",
       "      <td>0</td>\n",
       "      <td>2</td>\n",
       "      <td>0</td>\n",
       "      <td>0</td>\n",
       "      <td>3</td>\n",
       "    </tr>\n",
       "    <tr>\n",
       "      <th>35</th>\n",
       "      <td>3</td>\n",
       "      <td>0</td>\n",
       "      <td>7</td>\n",
       "      <td>0</td>\n",
       "      <td>0</td>\n",
       "      <td>1</td>\n",
       "    </tr>\n",
       "    <tr>\n",
       "      <th>36</th>\n",
       "      <td>3</td>\n",
       "      <td>0</td>\n",
       "      <td>2</td>\n",
       "      <td>0</td>\n",
       "      <td>0</td>\n",
       "      <td>3</td>\n",
       "    </tr>\n",
       "    <tr>\n",
       "      <th>37</th>\n",
       "      <td>3</td>\n",
       "      <td>0</td>\n",
       "      <td>2</td>\n",
       "      <td>0</td>\n",
       "      <td>0</td>\n",
       "      <td>3</td>\n",
       "    </tr>\n",
       "    <tr>\n",
       "      <th>38</th>\n",
       "      <td>1</td>\n",
       "      <td>1</td>\n",
       "      <td>7</td>\n",
       "      <td>1</td>\n",
       "      <td>0</td>\n",
       "      <td>2</td>\n",
       "    </tr>\n",
       "  </tbody>\n",
       "</table>\n",
       "</div>"
      ],
      "text/plain": [
       "    ages  gender  job  married  lover  genre\n",
       "0      1       1    1        0      1      2\n",
       "1      3       0    7        0      0      1\n",
       "2      0       1    7        0      1      2\n",
       "3      1       1    1        1      0      2\n",
       "4      0       0    6        0      0      5\n",
       "5      3       0    5        0      0      1\n",
       "6      0       0    6        0      0      5\n",
       "7      2       0    0        0      1      0\n",
       "8      2       0    3        1      0      4\n",
       "9      3       0    5        0      0      1\n",
       "10     0       0    6        0      0      5\n",
       "11     1       1    7        1      0      2\n",
       "12     2       1    0        1      0      0\n",
       "13     2       0    3        1      0      4\n",
       "14     0       1    6        0      1      2\n",
       "15     1       0    6        0      0      6\n",
       "16     1       1    1        1      0      2\n",
       "17     2       0    3        0      1      4\n",
       "18     2       0    4        0      0      6\n",
       "19     0       0    6        0      0      5\n",
       "20     0       1    6        0      1      2\n",
       "21     2       0    4        0      0      6\n",
       "22     3       0    4        0      0      1\n",
       "23     3       0    7        0      0      6\n",
       "24     2       0    0        1      0      0\n",
       "25     2       0    3        0      1      4\n",
       "26     0       1    6        0      1      2\n",
       "27     1       0    6        0      0      6\n",
       "28     2       1    0        1      0      0\n",
       "29     0       0    6        0      0      5\n",
       "30     0       0    2        0      0      3\n",
       "31     2       0    3        1      0      4\n",
       "32     2       0    2        0      0      3\n",
       "33     2       1    0        1      0      0\n",
       "34     1       0    2        0      0      3\n",
       "35     3       0    7        0      0      1\n",
       "36     3       0    2        0      0      3\n",
       "37     3       0    2        0      0      3\n",
       "38     1       1    7        1      0      2"
      ]
     },
     "execution_count": 26,
     "metadata": {},
     "output_type": "execute_result"
    }
   ],
   "source": [
    "# movie.rename(columns={'나이':'ages','성별':'gender','결혼여부':'married',\n",
    "#                      '이성친구':'lover','직업':'job','장르':'genre'}, inplace=True)"
   ]
  },
  {
   "cell_type": "code",
   "execution_count": 29,
   "id": "ec795e65-6234-4238-80c4-7cf525afc005",
   "metadata": {},
   "outputs": [],
   "source": [
    "data = movie.iloc[:, :5]\n",
    "target = movie['genre']"
   ]
  },
  {
   "cell_type": "code",
   "execution_count": 46,
   "id": "62408627-e7a9-4c57-b8d1-e9b32b391d6b",
   "metadata": {},
   "outputs": [],
   "source": [
    "X_train, X_test, Y_train,Y_test = train_test_split(data,target, train_size=0.7, stratify=target, random_state=2211181715)"
   ]
  },
  {
   "cell_type": "code",
   "execution_count": 58,
   "id": "0241fc6f-e016-48a0-adde-047d649bf40d",
   "metadata": {},
   "outputs": [
    {
     "data": {
      "text/plain": [
       "0.8148148148148148"
      ]
     },
     "execution_count": 58,
     "metadata": {},
     "output_type": "execute_result"
    }
   ],
   "source": [
    "nbclf = MultinomialNB().fit(X_train.to_numpy(),Y_train)\n",
    "\n",
    "nbclf.score(X_train.to_numpy(),Y_train)"
   ]
  },
  {
   "cell_type": "code",
   "execution_count": 60,
   "id": "05253000-3e5d-4531-955a-72698240ed4d",
   "metadata": {},
   "outputs": [
    {
     "data": {
      "text/plain": [
       "0.6666666666666666"
      ]
     },
     "execution_count": 60,
     "metadata": {},
     "output_type": "execute_result"
    }
   ],
   "source": [
    "pred = nbclf.predict(X_test.to_numpy())\n",
    "accuracy_score(Y_test.to_numpy(),pred)"
   ]
  },
  {
   "cell_type": "code",
   "execution_count": 61,
   "id": "e0e87c4b-403d-4daf-ae1d-c2c505327ecc",
   "metadata": {},
   "outputs": [
    {
     "data": {
      "text/plain": [
       "(array([1.        , 0.66666667, 1.        , 0.33333333, 1.        ,\n",
       "        0.5       , 1.        ]),\n",
       " array([1., 1., 1., 1., 0., 1., 0.]))"
      ]
     },
     "execution_count": 61,
     "metadata": {},
     "output_type": "execute_result"
    }
   ],
   "source": [
    "# zero_division : 정밀도나 재현율의 값이 0에 가까울때 출력할 값 지정\n",
    "precision_score(Y_test,pred,average=None, zero_division=True), \\\n",
    "recall_score(Y_test,pred,average=None, zero_division=True)"
   ]
  },
  {
   "cell_type": "code",
   "execution_count": 63,
   "id": "ea00c0e2-cac7-4c2b-b9cf-922eca225c1f",
   "metadata": {},
   "outputs": [
    {
     "data": {
      "text/plain": [
       "array([0], dtype=int8)"
      ]
     },
     "execution_count": 63,
     "metadata": {},
     "output_type": "execute_result"
    }
   ],
   "source": [
    "# 20대, 여, IT, 미혼, 애인없음인 고객에게 추천할 영화장르는?\n",
    "cust = [[2,1,0,0,0]]\n",
    "nbclf.predict(cust)  # SF"
   ]
  },
  {
   "cell_type": "markdown",
   "id": "792e1939-aadb-4445-9888-19719a02100d",
   "metadata": {},
   "source": [
    "### 밥은 과연 연체를 할것인가?\n",
    "+ 집 없고 결혼했고 회사경력 3년인 밥이 연체할지 여부를 알아보시오."
   ]
  },
  {
   "cell_type": "code",
   "execution_count": 80,
   "id": "079d0d24-637c-4209-b55a-9aefe52ad677",
   "metadata": {},
   "outputs": [],
   "source": [
    "default = pd.read_csv('data/default.csv')"
   ]
  },
  {
   "cell_type": "code",
   "execution_count": 81,
   "id": "b6e66b5c-d9ea-41b5-9deb-e818ca361780",
   "metadata": {
    "tags": []
   },
   "outputs": [
    {
     "name": "stdout",
     "output_type": "stream",
     "text": [
      "<class 'pandas.core.frame.DataFrame'>\n",
      "RangeIndex: 10 entries, 0 to 9\n",
      "Data columns (total 4 columns):\n",
      " #   Column   Non-Null Count  Dtype\n",
      "---  ------   --------------  -----\n",
      " 0   home     10 non-null     int8 \n",
      " 1   status   10 non-null     int8 \n",
      " 2   exp      10 non-null     int8 \n",
      " 3   default  10 non-null     int8 \n",
      "dtypes: int8(4)\n",
      "memory usage: 168.0 bytes\n"
     ]
    }
   ],
   "source": [
    "cols = ['home','status','exp','default']\n",
    "\n",
    "for c in cols:\n",
    "    default[c] = pd.Categorical(default[c])\n",
    "    default[c] = default[c].cat.codes\n",
    "default.info()"
   ]
  },
  {
   "cell_type": "code",
   "execution_count": 82,
   "id": "620774ba-97e9-4866-a0cb-100443f82f9f",
   "metadata": {},
   "outputs": [],
   "source": [
    "data = default.iloc[:, :3]\n",
    "target = default['default']"
   ]
  },
  {
   "cell_type": "code",
   "execution_count": 97,
   "id": "65333eec-104b-4e2e-915a-3e41b0150c9a",
   "metadata": {},
   "outputs": [],
   "source": [
    "X_train, X_test, Y_train,Y_test = train_test_split(data,target, train_size=0.7, stratify=target, random_state=2211181715)"
   ]
  },
  {
   "cell_type": "code",
   "execution_count": 98,
   "id": "84ee3ec3-bffc-46ca-9610-47f2d88f7b30",
   "metadata": {},
   "outputs": [
    {
     "data": {
      "text/plain": [
       "0.7142857142857143"
      ]
     },
     "execution_count": 98,
     "metadata": {},
     "output_type": "execute_result"
    }
   ],
   "source": [
    "nbclf = BernoulliNB().fit(X_train.to_numpy(),Y_train)\n",
    "\n",
    "nbclf.score(X_train.to_numpy(),Y_train)"
   ]
  },
  {
   "cell_type": "code",
   "execution_count": 99,
   "id": "fd8e03ee-97c4-45e8-afbe-1ff6434262b8",
   "metadata": {},
   "outputs": [
    {
     "data": {
      "text/plain": [
       "0.6666666666666666"
      ]
     },
     "execution_count": 99,
     "metadata": {},
     "output_type": "execute_result"
    }
   ],
   "source": [
    "pred = nbclf.predict(X_test.to_numpy())\n",
    "accuracy_score(Y_test.to_numpy(),pred)"
   ]
  },
  {
   "cell_type": "code",
   "execution_count": 100,
   "id": "d7426b7f-c0c3-494e-85a0-4dc827099043",
   "metadata": {},
   "outputs": [
    {
     "data": {
      "text/plain": [
       "(array([0.66666667, 1.        ]), array([1., 0.]))"
      ]
     },
     "execution_count": 100,
     "metadata": {},
     "output_type": "execute_result"
    }
   ],
   "source": [
    "# zero_division : 정밀도나 재현율의 값이 0에 가까울때 출력할 값 지정\n",
    "precision_score(Y_test,pred,average=None, zero_division=True), \\\n",
    "recall_score(Y_test,pred,average=None, zero_division=True)"
   ]
  },
  {
   "cell_type": "code",
   "execution_count": 102,
   "id": "b072587a-395b-489d-8c8e-465d219eca2a",
   "metadata": {},
   "outputs": [
    {
     "data": {
      "text/plain": [
       "array([0], dtype=int8)"
      ]
     },
     "execution_count": 102,
     "metadata": {},
     "output_type": "execute_result"
    }
   ],
   "source": [
    "# 집 없고 결혼했고 회사경력 3년인 밥의 연체는??\n",
    "bob = [[0,1,1]]\n",
    "nbclf.predict(bob)  # No"
   ]
  },
  {
   "cell_type": "code",
   "execution_count": null,
   "id": "8ba5a94f-3037-4a9f-a7ea-572bdeb8adda",
   "metadata": {},
   "outputs": [],
   "source": [
    "# 결정경계 시각화를 위한 모델 재학습"
   ]
  },
  {
   "cell_type": "code",
   "execution_count": 113,
   "id": "7a9c2e67-088f-4ebc-85cf-c8f8ab5b127c",
   "metadata": {},
   "outputs": [],
   "source": [
    "data = default.iloc[:, :2]\n",
    "target = default['default']"
   ]
  },
  {
   "cell_type": "code",
   "execution_count": 114,
   "id": "d405b570-bf91-462c-b90a-e55cbf813fac",
   "metadata": {},
   "outputs": [],
   "source": [
    "X_train, X_test, Y_train,Y_test = train_test_split(data,target, train_size=0.7, stratify=target, random_state=2211181715)"
   ]
  },
  {
   "cell_type": "code",
   "execution_count": 115,
   "id": "045eed43-21ac-48cf-8a38-c4ab12bb84e7",
   "metadata": {},
   "outputs": [
    {
     "data": {
      "text/plain": [
       "0.7142857142857143"
      ]
     },
     "execution_count": 115,
     "metadata": {},
     "output_type": "execute_result"
    }
   ],
   "source": [
    "nbclf = BernoulliNB().fit(X_train.to_numpy(),Y_train)\n",
    "\n",
    "nbclf.score(X_train.to_numpy(),Y_train)"
   ]
  },
  {
   "cell_type": "code",
   "execution_count": 116,
   "id": "ec89d7cb-9a9f-4a84-8dfd-c118eec26c8d",
   "metadata": {},
   "outputs": [],
   "source": [
    "# 경고 숨기기\n",
    "import warnings\n",
    "warnings.filterwarnings('ignore')"
   ]
  },
  {
   "cell_type": "code",
   "execution_count": 117,
   "id": "34e5fa9c-d1df-416a-88c9-4c15b9bc71de",
   "metadata": {},
   "outputs": [
    {
     "data": {
      "image/png": "[encoded data removed]",
      "text/plain": [
       "<Figure size 640x480 with 1 Axes>"
      ]
     },
     "metadata": {},
     "output_type": "display_data"
    }
   ],
   "source": [
    "from mlxtend.plotting import plot_decision_regions\n",
    "\n",
    "# 결정경계 확인\n",
    "plot_decision_regions(data.to_numpy(), target.to_numpy(), clf = nbclf) \n",
    "plt.show()"
   ]
  },
  {
   "cell_type": "code",
   "execution_count": null,
   "id": "087820ec-b5af-4861-82f4-2cc7118195a1",
   "metadata": {},
   "outputs": [],
   "source": []
  }
 ],
 "metadata": {
  "kernelspec": {
   "display_name": "Python 3 (ipykernel)",
   "language": "python",
   "name": "python3"
  },
  "language_info": {
   "codemirror_mode": {
    "name": "ipython",
    "version": 3
   },
   "file_extension": ".py",
   "mimetype": "text/x-python",
   "name": "python",
   "nbconvert_exporter": "python",
   "pygments_lexer": "ipython3",
   "version": "3.9.13"
  }
 },
 "nbformat": 4,
 "nbformat_minor": 5
}
