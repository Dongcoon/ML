{
 "cells": [
  {
   "cell_type": "code",
   "execution_count": 1,
   "id": "80ec5547-8858-4479-903c-28da1079f262",
   "metadata": {},
   "outputs": [],
   "source": [
    "import telegram\n",
    "import xml.etree.ElementTree as et\n",
    "import json\n",
    "import requests as req"
   ]
  },
  {
   "cell_type": "code",
   "execution_count": 2,
   "id": "56713a8f-7a85-4ac2-a90d-306531c35960",
   "metadata": {},
   "outputs": [],
   "source": [
    "from telegram import Update\n",
    "from telegram.ext import Updater, CallbackContext\n",
    "from telegram.ext import MessageHandler\n",
    "from telegram.ext import CommandHandler\n",
    "from telegram.ext import Filters"
   ]
  },
  {
   "cell_type": "markdown",
   "id": "568202e8-049b-4673-bcf9-ef009e9d36c1",
   "metadata": {
    "tags": []
   },
   "source": [
    "## 미세먼지/코로나 현황 알리미 봇"
   ]
  },
  {
   "cell_type": "markdown",
   "id": "934dc466-b1f8-4bc4-a0a2-0a2af6abc229",
   "metadata": {},
   "source": [
    "### 미세먼지 정보 출력\n",
    "* /reload 명령 입력시 관련정보를 서버에서 받아서 파일로 저장해 둠\n",
    "* 이렇게 함으로써 사용자에게 나름 최신정보를 제공"
   ]
  },
  {
   "cell_type": "markdown",
   "id": "fd603e4a-39ad-4dd8-9300-1d0b815eb117",
   "metadata": {},
   "source": [
    "### 서버에서 미세정보 파일 내려받기"
   ]
  },
  {
   "cell_type": "code",
   "execution_count": 3,
   "id": "9333f3e3-f15c-42bc-b05b-2ad73b1ee0b1",
   "metadata": {},
   "outputs": [],
   "source": [
    "# 서버에서 미세정보 파일 내려받기\n",
    "url = 'http://apis.data.go.kr/B552584/ArpltnInforInqireSvc/getCtprvnRltmMesureDnsty'\n",
    "returnType = 'json'\n",
    "params = {'serviceKey':'GjgjTYLP10LmklhSDVDE6qQ8KZPc43DI+J0iaotwuQpc5cFzNY19Uo269sO/5MQJ+GT6AmPGbn3prlagN3nf7A==',\n",
    "         'returnType':returnType,'sidoName':'전국','pageNo':1, 'numOfRows':1000, 'ver':'1.0'}\n",
    "res = req.get(url,params=params)"
   ]
  },
  {
   "cell_type": "code",
   "execution_count": 4,
   "id": "ef870af3-8306-4429-8a89-b0900ac8bc44",
   "metadata": {},
   "outputs": [],
   "source": [
    "# 내려받은 미세먼지 정보를 파일로 저장\n",
    "with open('data/air.json','w', encoding='utf-8') as f:\n",
    "    f.writelines(res.text)"
   ]
  },
  {
   "cell_type": "markdown",
   "id": "325797b7-1103-4d67-ab58-d64d85853bd5",
   "metadata": {},
   "source": [
    "### 지역정보 입력시 미세먼지 정보 출력"
   ]
  },
  {
   "cell_type": "code",
   "execution_count": 5,
   "id": "39038744-8118-489f-a906-be5df734daa9",
   "metadata": {
    "tags": []
   },
   "outputs": [],
   "source": [
    "def pm10(val):\n",
    "    grade = '😀'\n",
    "    if val <= 30:\n",
    "        grade = '😀'\n",
    "    elif 30 < val <= 80:\n",
    "        grade = '😐'\n",
    "    elif 80 < val <= 150:\n",
    "        grade = '😫'\n",
    "    else:\n",
    "        grade =  '😱'\n",
    "        \n",
    "    return grade"
   ]
  },
  {
   "cell_type": "code",
   "execution_count": 6,
   "id": "f9b6c8b7-9bf9-49cf-ac58-4ab6eca659fe",
   "metadata": {},
   "outputs": [],
   "source": [
    "def pm25(val):\n",
    "    grade = '😀'\n",
    "    if val <= 15:\n",
    "        grade =  '😀'\n",
    "    elif 15 < val <= 35:\n",
    "        grade = '😐'\n",
    "    elif 35 < val <= 75:\n",
    "        grade = '😫'\n",
    "    else:\n",
    "        grade = '😱'\n",
    "    return grade\n",
    "        "
   ]
  },
  {
   "cell_type": "code",
   "execution_count": 7,
   "id": "b2d1d179-731f-402f-b94a-a72a2112e2cc",
   "metadata": {
    "tags": []
   },
   "outputs": [
    {
     "name": "stdout",
     "output_type": "stream",
     "text": [
      "서울 구로구 2022-11-24 12:00 64 😐 36 😫\n"
     ]
    }
   ],
   "source": [
    "sido = '서울'\n",
    "gu = '구로구'\n",
    "\n",
    "with open('data/air.json', encoding='utf-8') as f:\n",
    "    json_data = json.load(f)\n",
    "\n",
    "# json에서 객체의 속성 호출 : 객체명['속성명'], 객체명.속성명\n",
    "for item in json_data['response']['body']['items']:\n",
    "    if (item['sidoName'] == sido) & (item['stationName'] == gu):\n",
    "        pm10v = item['pm10Value']\n",
    "        pm25v = item['pm25Value']\n",
    "        print(item['sidoName'], item['stationName'], item['dataTime'], pm10v,pm10(int(pm10v)),pm25v,pm25(int(pm25v)))"
   ]
  },
  {
   "cell_type": "markdown",
   "id": "90cd5d33-baf1-4a6a-ae5e-8e2050905464",
   "metadata": {
    "tags": []
   },
   "source": [
    "### 미세먼지 챗봇 구현 (json)"
   ]
  },
  {
   "cell_type": "code",
   "execution_count": 8,
   "id": "cf561189-d447-48b1-9101-53945f36e2d3",
   "metadata": {},
   "outputs": [],
   "source": [
    "# data.go.kr에서 대기정보 받아서 파일로 저장\n",
    "url = 'http://apis.data.go.kr/B552584/ArpltnInforInqireSvc/getCtprvnRltmMesureDnsty'\n",
    "returnType = 'json'\n",
    "params = {'serviceKey':'GjgjTYLP10LmklhSDVDE6qQ8KZPc43DI+J0iaotwuQpc5cFzNY19Uo269sO/5MQJ+GT6AmPGbn3prlagN3nf7A==',\n",
    "         'returnType':returnType,'sidoName':'전국','pageNo':1, 'numOfRows':1000, 'ver':'1.0'}\n",
    "def reload_air():\n",
    "    res = req.get(url,params=params)\n",
    "    with open('data/air.json','w', encoding='utf-8') as f:\n",
    "        f.writelines(res.text)    "
   ]
  },
  {
   "cell_type": "code",
   "execution_count": 9,
   "id": "71bc928d-4857-4740-9d66-1a2c084f0289",
   "metadata": {},
   "outputs": [],
   "source": [
    "# 특정지역의 대기정보와 이모지 받아오기\n",
    "def fetch_air(sido,gu):\n",
    "    with open('data/air.json', encoding='utf-8') as f:\n",
    "        json_data = json.load(f)\n",
    "        \n",
    "    airinfo = '입력하신 지역에는 대기정보가 없어요!😂😂'\n",
    "    for item in json_data['response']['body']['items']:\n",
    "        if (item['sidoName'] == sido) & (item['stationName'] == gu):\n",
    "            pm10v = item['pm10Value']\n",
    "            pm25v = item['pm25Value']\n",
    "            airinfo = f\"🎉[{item['sidoName']} {item['stationName']} {item['dataTime']}]🎉 \\n{pm10v}µg/m³ - {pm10(int(pm10v))} \\n{pm25v}µg/m³ - {pm25(int(pm25v))}\"\n",
    "            break\n",
    "            \n",
    "    return airinfo"
   ]
  },
  {
   "cell_type": "code",
   "execution_count": 10,
   "id": "48430289-7e99-41ac-8d18-7d7b71cf3954",
   "metadata": {},
   "outputs": [
    {
     "data": {
      "text/plain": [
       "'🎉[서울 구로구 2022-11-24 12:00]🎉 \\n64µg/m³ - 😐 \\n36µg/m³ - 😫'"
      ]
     },
     "execution_count": 10,
     "metadata": {},
     "output_type": "execute_result"
    }
   ],
   "source": [
    "fetch_air('서울','구로구')"
   ]
  },
  {
   "cell_type": "markdown",
   "id": "7637dfe0-6b88-4ab3-927d-d7f3cef6372b",
   "metadata": {},
   "source": [
    "### 메세지 함수 정의"
   ]
  },
  {
   "cell_type": "code",
   "execution_count": 11,
   "id": "626321b3-30da-4322-a3a5-214ca35d4355",
   "metadata": {},
   "outputs": [],
   "source": [
    "mykey = '5925683914:AAHodNMQ2UQgahXBusavtKQbyIjaQXy_Rsc'\n",
    "chat_id = 5797700110"
   ]
  },
  {
   "cell_type": "code",
   "execution_count": 12,
   "id": "0961199c-2d64-4101-82d0-e07462aff251",
   "metadata": {},
   "outputs": [],
   "source": [
    "def air_message(update,context):\n",
    "    info = update.message.text.split(',')\n",
    "    airinfo = fetch_air(info[0].strip(),info[1].strip())\n",
    "    context.bot.send_message(text=f'{airinfo}',\n",
    "                   chat_id=update.message.chat_id)\n",
    "    pass"
   ]
  },
  {
   "cell_type": "code",
   "execution_count": 13,
   "id": "effa205d-c188-403a-a73f-6f62ae966052",
   "metadata": {},
   "outputs": [],
   "source": [
    "def reload_message(update,context):\n",
    "    reload_air()\n",
    "    context.bot.send_message(text=f'🎉대기정보 갱신됨!!🎉',\n",
    "                   chat_id=update.message.chat_id)\n"
   ]
  },
  {
   "cell_type": "markdown",
   "id": "805b964c-9385-4fbe-9d84-3bd4dd218ade",
   "metadata": {},
   "source": [
    "### 핸들러 등록"
   ]
  },
  {
   "cell_type": "code",
   "execution_count": 14,
   "id": "0c126566-a3cc-4008-9c43-330751a0a8a6",
   "metadata": {},
   "outputs": [],
   "source": [
    "updater = Updater(mykey)\n",
    "reload_handler = CommandHandler('reload',reload_message)\n",
    "air_handler = MessageHandler(Filters.text,air_message)\n",
    "\n",
    "updater.dispatcher.add_handler(reload_handler)\n",
    "updater.dispatcher.add_handler(air_handler)"
   ]
  },
  {
   "cell_type": "markdown",
   "id": "b954a518-720e-4f55-8e06-4bd3753453fd",
   "metadata": {},
   "source": [
    "### 챗봇 서버 가동"
   ]
  },
  {
   "cell_type": "code",
   "execution_count": 15,
   "id": "e4872525-53d0-46ac-b074-b41031205a99",
   "metadata": {},
   "outputs": [
    {
     "name": "stdout",
     "output_type": "stream",
     "text": [
      "챗봇 서버 가동중...\n"
     ]
    }
   ],
   "source": [
    "bot = telegram.Bot(token=mykey)\n",
    "\n",
    "print('챗봇 서버 가동중...')\n",
    "updater.start_polling()\n",
    "updater.idle()"
   ]
  },
  {
   "cell_type": "code",
   "execution_count": null,
   "id": "c50ec21a-c626-4a9f-b180-ab5d86cf0dcc",
   "metadata": {},
   "outputs": [],
   "source": []
  }
 ],
 "metadata": {
  "kernelspec": {
   "display_name": "Python 3 (ipykernel)",
   "language": "python",
   "name": "python3"
  },
  "language_info": {
   "codemirror_mode": {
    "name": "ipython",
    "version": 3
   },
   "file_extension": ".py",
   "mimetype": "text/x-python",
   "name": "python",
   "nbconvert_exporter": "python",
   "pygments_lexer": "ipython3",
   "version": "3.9.13"
  }
 },
 "nbformat": 4,
 "nbformat_minor": 5
}
